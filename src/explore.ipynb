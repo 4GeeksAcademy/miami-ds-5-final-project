{
    "cells": [
        {
            "cell_type": "markdown",
            "metadata": {},
            "source": [
                "# Machine Learning Final Project"
            ]
        },
        {
            "cell_type": "markdown",
            "metadata": {},
            "source": [
                "## Step 0: Project Ideation & Dataset Inspection"
            ]
        },
        {
            "cell_type": "markdown",
            "metadata": {},
            "source": [
                "### Instructions\n",
                "1. **Dataset Loading**:\n",
                "\n",
                "    - For each plan (e.g., Plan A, Plan B, etc.), read in the corresponding dataset.\n",
                "\n",
                "2. **Inspect the Dataset**:\n",
                "\n",
                "    - After loading the dataset, display the first few rows to understand its structure.\n",
                "\n",
                "    - Identify and list the types of fields (e.g., numerical, categorical, text).\n",
                "\n",
                "    - Attempt to identify the target variable if your project involves supervised learning."
            ]
        },
        {
            "cell_type": "markdown",
            "metadata": {},
            "source": [
                "### Plan A: Animal drug use adverse event"
            ]
        },
        {
            "cell_type": "code",
            "execution_count": 2,
            "metadata": {},
            "outputs": [],
            "source": [
                "# # Your code here\n",
                "# import pandas as pd\n",
                "# import re\n",
                "# import requests\n",
                "\n",
                "# # Define the base URL and initial query parameters\n",
                "# url = 'https://api.fda.gov/animalandveterinary/event.json?'\n",
                "# search = 'search=drug.active_ingredients.name:\"Moxidectin\"&limit=1000'\n",
                "# url = url + search\n",
                "\n",
                "# results = []\n",
                "\n",
                "# while True:\n",
                "#     # Make the request to the API\n",
                "#     a = requests.get(url)\n",
                "#     data = a.json()\n",
                "    \n",
                "#     # Convert the JSON response to a DataFrame and select specific columns\n",
                "#     df = pd.DataFrame(data['results'])\n",
                "#     df = df[['treated_for_ae', 'reaction', 'time_between_exposure_and_onset', 'drug', 'health_assessment_prior_to_exposure', 'onset_date', 'animal', 'type_of_information', 'serious_ae', 'outcome']]\n",
                "#     results.append(df)\n",
                "    \n",
                "#     # Try to get the next page URL from the 'Link' header\n",
                "#     try:\n",
                "#         link_header = a.headers.get('Link', '')\n",
                "#         b = re.search(r'<(https[^>]+)>', link_header)\n",
                "#         if b:\n",
                "#             next_url = b.group(1)\n",
                "#             url = next_url\n",
                "#         else:\n",
                "#             break\n",
                "#     except Exception as e:\n",
                "#         print(f\"An error occurred: {e}\")\n",
                "#         break\n",
                "\n",
                "# # Concatenate all DataFrames into one\n",
                "# df_combined = pd.concat(results, axis=0)\n",
                "\n",
                "# # Print information about the final DataFrame\n",
                "# df_combined.info()"
            ]
        },
        {
            "cell_type": "code",
            "execution_count": 3,
            "metadata": {},
            "outputs": [],
            "source": [
                "# # Inspect the first five rows\n",
                "# df_combined.head()"
            ]
        },
        {
            "cell_type": "code",
            "execution_count": 4,
            "metadata": {},
            "outputs": [],
            "source": [
                "# df_combined.shape"
            ]
        },
        {
            "cell_type": "markdown",
            "metadata": {},
            "source": [
                "Because some of the fields are JSON objects, we want to further inspect them. \n",
                "\n",
                "We will want to parse these JSON objects in a way that is ingestible for our model. This will occur during EDA."
            ]
        },
        {
            "cell_type": "code",
            "execution_count": 5,
            "metadata": {},
            "outputs": [],
            "source": [
                "# row_index = 0\n",
                "# column_label = 'outcome'\n",
                "# df_combined.iloc[row_index][column_label]"
            ]
        },
        {
            "cell_type": "markdown",
            "metadata": {},
            "source": [
                "### Plan B: Biomedical Image Analysis"
            ]
        },
        {
            "cell_type": "code",
            "execution_count": 6,
            "metadata": {},
            "outputs": [
                {
                    "name": "stdout",
                    "output_type": "stream",
                    "text": [
                        "Defaulting to user installation because normal site-packages is not writeable\n",
                        "Requirement already satisfied: medmnist in /home/vscode/.local/lib/python3.10/site-packages (3.0.1)\n",
                        "Requirement already satisfied: scikit-image in /home/vscode/.local/lib/python3.10/site-packages (from medmnist) (0.24.0)\n",
                        "Requirement already satisfied: Pillow in /home/vscode/.local/lib/python3.10/site-packages (from medmnist) (10.4.0)\n",
                        "Requirement already satisfied: numpy in /home/vscode/.local/lib/python3.10/site-packages (from medmnist) (1.26.4)\n",
                        "Requirement already satisfied: torchvision in /home/vscode/.local/lib/python3.10/site-packages (from medmnist) (0.19.0)\n",
                        "Requirement already satisfied: pandas in /home/vscode/.local/lib/python3.10/site-packages (from medmnist) (2.2.2)\n",
                        "Requirement already satisfied: fire in /home/vscode/.local/lib/python3.10/site-packages (from medmnist) (0.6.0)\n",
                        "Requirement already satisfied: torch in /home/vscode/.local/lib/python3.10/site-packages (from medmnist) (2.4.0)\n",
                        "Requirement already satisfied: tqdm in /home/vscode/.local/lib/python3.10/site-packages (from medmnist) (4.66.5)\n",
                        "Requirement already satisfied: scikit-learn in /home/vscode/.local/lib/python3.10/site-packages (from medmnist) (1.5.1)\n",
                        "Requirement already satisfied: six in /home/vscode/.local/lib/python3.10/site-packages (from fire->medmnist) (1.16.0)\n",
                        "Requirement already satisfied: termcolor in /home/vscode/.local/lib/python3.10/site-packages (from fire->medmnist) (2.4.0)\n",
                        "Requirement already satisfied: pytz>=2020.1 in /home/vscode/.local/lib/python3.10/site-packages (from pandas->medmnist) (2024.1)\n",
                        "Requirement already satisfied: tzdata>=2022.7 in /home/vscode/.local/lib/python3.10/site-packages (from pandas->medmnist) (2024.1)\n",
                        "Requirement already satisfied: python-dateutil>=2.8.2 in /home/vscode/.local/lib/python3.10/site-packages (from pandas->medmnist) (2.9.0.post0)\n",
                        "Requirement already satisfied: lazy-loader>=0.4 in /home/vscode/.local/lib/python3.10/site-packages (from scikit-image->medmnist) (0.4)\n",
                        "Requirement already satisfied: networkx>=2.8 in /home/vscode/.local/lib/python3.10/site-packages (from scikit-image->medmnist) (3.3)\n",
                        "Requirement already satisfied: scipy>=1.9 in /home/vscode/.local/lib/python3.10/site-packages (from scikit-image->medmnist) (1.14.1)\n",
                        "Requirement already satisfied: imageio>=2.33 in /home/vscode/.local/lib/python3.10/site-packages (from scikit-image->medmnist) (2.35.1)\n",
                        "Requirement already satisfied: packaging>=21 in /home/vscode/.local/lib/python3.10/site-packages (from scikit-image->medmnist) (24.1)\n",
                        "Requirement already satisfied: tifffile>=2022.8.12 in /home/vscode/.local/lib/python3.10/site-packages (from scikit-image->medmnist) (2024.8.10)\n",
                        "Requirement already satisfied: joblib>=1.2.0 in /home/vscode/.local/lib/python3.10/site-packages (from scikit-learn->medmnist) (1.4.2)\n",
                        "Requirement already satisfied: threadpoolctl>=3.1.0 in /home/vscode/.local/lib/python3.10/site-packages (from scikit-learn->medmnist) (3.5.0)\n",
                        "Requirement already satisfied: nvidia-cuda-runtime-cu12==12.1.105 in /home/vscode/.local/lib/python3.10/site-packages (from torch->medmnist) (12.1.105)\n",
                        "Requirement already satisfied: fsspec in /home/vscode/.local/lib/python3.10/site-packages (from torch->medmnist) (2024.6.1)\n",
                        "Requirement already satisfied: nvidia-cudnn-cu12==9.1.0.70 in /home/vscode/.local/lib/python3.10/site-packages (from torch->medmnist) (9.1.0.70)\n",
                        "Requirement already satisfied: jinja2 in /home/vscode/.local/lib/python3.10/site-packages (from torch->medmnist) (3.1.4)\n",
                        "Requirement already satisfied: typing-extensions>=4.8.0 in /home/vscode/.local/lib/python3.10/site-packages (from torch->medmnist) (4.12.2)\n",
                        "Requirement already satisfied: triton==3.0.0 in /home/vscode/.local/lib/python3.10/site-packages (from torch->medmnist) (3.0.0)\n",
                        "Requirement already satisfied: nvidia-cuda-nvrtc-cu12==12.1.105 in /home/vscode/.local/lib/python3.10/site-packages (from torch->medmnist) (12.1.105)\n",
                        "Requirement already satisfied: nvidia-cuda-cupti-cu12==12.1.105 in /home/vscode/.local/lib/python3.10/site-packages (from torch->medmnist) (12.1.105)\n",
                        "Requirement already satisfied: nvidia-cublas-cu12==12.1.3.1 in /home/vscode/.local/lib/python3.10/site-packages (from torch->medmnist) (12.1.3.1)\n",
                        "Requirement already satisfied: nvidia-cusparse-cu12==12.1.0.106 in /home/vscode/.local/lib/python3.10/site-packages (from torch->medmnist) (12.1.0.106)\n",
                        "Requirement already satisfied: nvidia-cufft-cu12==11.0.2.54 in /home/vscode/.local/lib/python3.10/site-packages (from torch->medmnist) (11.0.2.54)\n",
                        "Requirement already satisfied: filelock in /home/vscode/.local/lib/python3.10/site-packages (from torch->medmnist) (3.15.4)\n",
                        "Requirement already satisfied: nvidia-nvtx-cu12==12.1.105 in /home/vscode/.local/lib/python3.10/site-packages (from torch->medmnist) (12.1.105)\n",
                        "Requirement already satisfied: nvidia-curand-cu12==10.3.2.106 in /home/vscode/.local/lib/python3.10/site-packages (from torch->medmnist) (10.3.2.106)\n",
                        "Requirement already satisfied: nvidia-nccl-cu12==2.20.5 in /home/vscode/.local/lib/python3.10/site-packages (from torch->medmnist) (2.20.5)\n",
                        "Requirement already satisfied: sympy in /home/vscode/.local/lib/python3.10/site-packages (from torch->medmnist) (1.13.2)\n",
                        "Requirement already satisfied: nvidia-cusolver-cu12==11.4.5.107 in /home/vscode/.local/lib/python3.10/site-packages (from torch->medmnist) (11.4.5.107)\n",
                        "Requirement already satisfied: nvidia-nvjitlink-cu12 in /home/vscode/.local/lib/python3.10/site-packages (from nvidia-cusolver-cu12==11.4.5.107->torch->medmnist) (12.6.20)\n",
                        "Requirement already satisfied: MarkupSafe>=2.0 in /home/vscode/.local/lib/python3.10/site-packages (from jinja2->torch->medmnist) (2.1.5)\n",
                        "Requirement already satisfied: mpmath<1.4,>=1.1.0 in /home/vscode/.local/lib/python3.10/site-packages (from sympy->torch->medmnist) (1.3.0)\n",
                        "\n",
                        "\u001b[1m[\u001b[0m\u001b[34;49mnotice\u001b[0m\u001b[1;39;49m]\u001b[0m\u001b[39;49m A new release of pip is available: \u001b[0m\u001b[31;49m23.0.1\u001b[0m\u001b[39;49m -> \u001b[0m\u001b[32;49m24.2\u001b[0m\n",
                        "\u001b[1m[\u001b[0m\u001b[34;49mnotice\u001b[0m\u001b[1;39;49m]\u001b[0m\u001b[39;49m To update, run: \u001b[0m\u001b[32;49mpip install --upgrade pip\u001b[0m\n"
                    ]
                }
            ],
            "source": [
                "!pip install medmnist"
            ]
        },
        {
            "cell_type": "code",
            "execution_count": 1,
            "metadata": {},
            "outputs": [
                {
                    "name": "stdout",
                    "output_type": "stream",
                    "text": [
                        "Downloading https://zenodo.org/records/10519652/files/pathmnist.npz?download=1 to /home/vscode/.medmnist/pathmnist.npz\n"
                    ]
                },
                {
                    "name": "stderr",
                    "output_type": "stream",
                    "text": [
                        "100%|██████████| 205615438/205615438 [00:08<00:00, 23593207.62it/s]\n"
                    ]
                },
                {
                    "name": "stdout",
                    "output_type": "stream",
                    "text": [
                        "Using downloaded and verified file: /home/vscode/.medmnist/pathmnist.npz\n",
                        "Train dataset size: 89996\n",
                        "Test dataset size: 7180\n"
                    ]
                },
                {
                    "name": "stderr",
                    "output_type": "stream",
                    "text": [
                        "100%|██████████| 89996/89996 [00:02<00:00, 33497.09it/s]\n",
                        "100%|██████████| 7180/7180 [00:00<00:00, 32345.35it/s]\n"
                    ]
                }
            ],
            "source": [
                "# Your code here\n",
                "import medmnist\n",
                "from medmnist import INFO\n",
                "import numpy as np\n",
                "from tqdm import tqdm\n",
                "import pandas as pd\n",
                "\n",
                "# Download the dataset\n",
                "data_flag = 'pathmnist'\n",
                "download = True\n",
                "info = INFO[data_flag]\n",
                "DataClass = getattr(medmnist, info['python_class'])\n",
                "\n",
                "# Load training and testing datasets\n",
                "train_dataset = DataClass(split='train', download=download)\n",
                "test_dataset = DataClass(split='test', download=download)\n",
                "\n",
                "# Inspect the dataset\n",
                "print(\"Train dataset size:\", len(train_dataset))\n",
                "print(\"Test dataset size:\", len(test_dataset))\n",
                "\n",
                "# Example of loading the dataset into a DataLoader\n",
                "train_loader = [(np.array(img), label) for img, label in tqdm(train_dataset)]\n",
                "test_loader = [(np.array(img), label) for img, label in tqdm(test_dataset)]"
            ]
        },
        {
            "cell_type": "markdown",
            "metadata": {},
            "source": [
                "Convert `train_loader` and `test_loader` into Dataframes, `train_df` and `test_df`. We can store these dataframes in a SQL databases for safekeeping (Step 3)."
            ]
        },
        {
            "cell_type": "code",
            "execution_count": 2,
            "metadata": {},
            "outputs": [
                {
                    "data": {
                        "text/html": [
                            "<div>\n",
                            "<style scoped>\n",
                            "    .dataframe tbody tr th:only-of-type {\n",
                            "        vertical-align: middle;\n",
                            "    }\n",
                            "\n",
                            "    .dataframe tbody tr th {\n",
                            "        vertical-align: top;\n",
                            "    }\n",
                            "\n",
                            "    .dataframe thead th {\n",
                            "        text-align: right;\n",
                            "    }\n",
                            "</style>\n",
                            "<table border=\"1\" class=\"dataframe\">\n",
                            "  <thead>\n",
                            "    <tr style=\"text-align: right;\">\n",
                            "      <th></th>\n",
                            "      <th>img</th>\n",
                            "      <th>label</th>\n",
                            "    </tr>\n",
                            "  </thead>\n",
                            "  <tbody>\n",
                            "    <tr>\n",
                            "      <th>0</th>\n",
                            "      <td>[[[220, 208, 227], [219, 207, 227], [220, 207,...</td>\n",
                            "      <td>[0]</td>\n",
                            "    </tr>\n",
                            "    <tr>\n",
                            "      <th>1</th>\n",
                            "      <td>[[[126, 59, 119], [142, 84, 139], [174, 127, 1...</td>\n",
                            "      <td>[4]</td>\n",
                            "    </tr>\n",
                            "    <tr>\n",
                            "      <th>2</th>\n",
                            "      <td>[[[223, 168, 204], [223, 166, 203], [218, 170,...</td>\n",
                            "      <td>[7]</td>\n",
                            "    </tr>\n",
                            "    <tr>\n",
                            "      <th>3</th>\n",
                            "      <td>[[[216, 135, 183], [216, 127, 178], [213, 125,...</td>\n",
                            "      <td>[5]</td>\n",
                            "    </tr>\n",
                            "    <tr>\n",
                            "      <th>4</th>\n",
                            "      <td>[[[204, 124, 177], [204, 116, 170], [211, 149,...</td>\n",
                            "      <td>[5]</td>\n",
                            "    </tr>\n",
                            "  </tbody>\n",
                            "</table>\n",
                            "</div>"
                        ],
                        "text/plain": [
                            "                                                 img label\n",
                            "0  [[[220, 208, 227], [219, 207, 227], [220, 207,...   [0]\n",
                            "1  [[[126, 59, 119], [142, 84, 139], [174, 127, 1...   [4]\n",
                            "2  [[[223, 168, 204], [223, 166, 203], [218, 170,...   [7]\n",
                            "3  [[[216, 135, 183], [216, 127, 178], [213, 125,...   [5]\n",
                            "4  [[[204, 124, 177], [204, 116, 170], [211, 149,...   [5]"
                        ]
                    },
                    "execution_count": 2,
                    "metadata": {},
                    "output_type": "execute_result"
                }
            ],
            "source": [
                "# Convert train_loader to DataFrame\n",
                "train_df = pd.DataFrame(train_loader, columns=['img', 'label'])\n",
                "\n",
                "# Convert test_loader to DataFrame\n",
                "test_df = pd.DataFrame(test_loader, columns=['img', 'label'])\n",
                "\n",
                "# Inspect train_df\n",
                "train_df.head()"
            ]
        },
        {
            "cell_type": "markdown",
            "metadata": {},
            "source": [
                "Each row represents an image and its corresponding label. The values you see under `img` are the pixel values of the images. These arrays are typically multi-dimensional, with each dimension corresponding to different properties of the image. Let's inspect a single image,"
            ]
        },
        {
            "cell_type": "code",
            "execution_count": 9,
            "metadata": {},
            "outputs": [
                {
                    "data": {
                        "text/plain": [
                            "array([[[204, 124, 177],\n",
                            "        [204, 116, 170],\n",
                            "        [211, 149, 190],\n",
                            "        ...,\n",
                            "        [216, 153, 194],\n",
                            "        [224, 185, 214],\n",
                            "        [233, 211, 228]],\n",
                            "\n",
                            "       [[207, 132, 182],\n",
                            "        [209, 141, 188],\n",
                            "        [205, 127, 176],\n",
                            "        ...,\n",
                            "        [216, 153, 194],\n",
                            "        [227, 190, 217],\n",
                            "        [235, 217, 232]],\n",
                            "\n",
                            "       [[226, 179, 211],\n",
                            "        [215, 156, 197],\n",
                            "        [212, 150, 193],\n",
                            "        ...,\n",
                            "        [207, 141, 185],\n",
                            "        [211, 154, 193],\n",
                            "        [229, 196, 219]],\n",
                            "\n",
                            "       ...,\n",
                            "\n",
                            "       [[216, 171, 205],\n",
                            "        [206, 151, 191],\n",
                            "        [214, 162, 200],\n",
                            "        ...,\n",
                            "        [217, 173, 207],\n",
                            "        [219, 176, 207],\n",
                            "        [225, 197, 220]],\n",
                            "\n",
                            "       [[210, 164, 200],\n",
                            "        [218, 168, 203],\n",
                            "        [228, 199, 221],\n",
                            "        ...,\n",
                            "        [215, 164, 202],\n",
                            "        [219, 181, 210],\n",
                            "        [227, 209, 227]],\n",
                            "\n",
                            "       [[231, 214, 229],\n",
                            "        [228, 202, 223],\n",
                            "        [231, 204, 224],\n",
                            "        ...,\n",
                            "        [194, 124, 176],\n",
                            "        [217, 170, 205],\n",
                            "        [229, 206, 225]]], dtype=uint8)"
                        ]
                    },
                    "execution_count": 9,
                    "metadata": {},
                    "output_type": "execute_result"
                }
            ],
            "source": [
                "# Select an index to view\n",
                "index = 4  # Change this to view a different image\n",
                "\n",
                "# From the train_dataset\n",
                "image, label = train_dataset[index]\n",
                "\n",
                "# Or from the train_loader\n",
                "# image, label = train_loader[index]\n",
                "\n",
                "# Convert image to numpy array if needed\n",
                "image = np.array(image)\n",
                "image"
            ]
        },
        {
            "cell_type": "markdown",
            "metadata": {},
            "source": [
                "The images are in color because the array is 3D with dimensions `(height, width, channels)`, where `channels` is usually 3 (representing the Red, Green, and Blue color channels). Each element in the array represents the intensity of the corresponding color channel for a pixel.\n",
                "\n",
                "Below we can see that the images are 28x28 pixels and RGB (in color),"
            ]
        },
        {
            "cell_type": "code",
            "execution_count": 10,
            "metadata": {},
            "outputs": [
                {
                    "data": {
                        "text/plain": [
                            "(28, 28, 3)"
                        ]
                    },
                    "execution_count": 10,
                    "metadata": {},
                    "output_type": "execute_result"
                }
            ],
            "source": [
                "np.shape(image)"
            ]
        },
        {
            "cell_type": "markdown",
            "metadata": {},
            "source": [
                "These arrays are used as input for machine learning models, where the model processes these pixel values to learn patterns and make predictions based on the images.\n",
                "\n",
                "Lets use `matplotlib` to render the image from the pixel data,"
            ]
        },
        {
            "cell_type": "code",
            "execution_count": 11,
            "metadata": {},
            "outputs": [
                {
                    "data": {
                        "image/png": "[encoded data removed]",
                        "text/plain": [
                            "<Figure size 640x480 with 1 Axes>"
                        ]
                    },
                    "metadata": {},
                    "output_type": "display_data"
                }
            ],
            "source": [
                "import matplotlib.pyplot as plt\n",
                "\n",
                "# Display the image\n",
                "plt.imshow(image, cmap='gray') \n",
                "plt.title(f'Label: {label}')\n",
                "plt.axis('off')\n",
                "plt.show()"
            ]
        },
        {
            "cell_type": "markdown",
            "metadata": {},
            "source": [
                "Inspect 9 random images with their associated label,"
            ]
        },
        {
            "cell_type": "code",
            "execution_count": 12,
            "metadata": {},
            "outputs": [
                {
                    "data": {
                        "image/png": "[encoded data removed]",
                        "text/plain": [
                            "<Figure size 800x800 with 9 Axes>"
                        ]
                    },
                    "metadata": {},
                    "output_type": "display_data"
                }
            ],
            "source": [
                "import random\n",
                "\n",
                "# Select 9 random indices\n",
                "random_indices = random.sample(range(len(train_dataset)), 9)\n",
                "\n",
                "# Create a 3x3 subplot\n",
                "fig, axes = plt.subplots(3, 3, figsize=(8, 8))\n",
                "\n",
                "# Loop over the 9 random indices and display each image\n",
                "for i, ax in enumerate(axes.flat):\n",
                "    image, label = train_dataset[random_indices[i]]\n",
                "    \n",
                "\n",
                "    \n",
                "    # Display the image\n",
                "    ax.imshow(image, cmap='gray')\n",
                "    ax.set_title(f'Label: {label}')\n",
                "    ax.axis('off')\n",
                "\n",
                "# Adjust layout\n",
                "plt.tight_layout()\n",
                "plt.show()"
            ]
        },
        {
            "cell_type": "code",
            "execution_count": 13,
            "metadata": {},
            "outputs": [
                {
                    "name": "stdout",
                    "output_type": "stream",
                    "text": [
                        "Unique labels: [0, 1, 2, 3, 4, 5, 6, 7, 8]\n"
                    ]
                }
            ],
            "source": [
                "# Extract all labels from the train_dataset\n",
                "labels = [label.item() for _, label in train_dataset]\n",
                "\n",
                "# Get unique labels\n",
                "unique_labels = list(set(labels))\n",
                "\n",
                "# Print unique labels\n",
                "print(\"Unique labels:\", unique_labels)"
            ]
        },
        {
            "cell_type": "markdown",
            "metadata": {},
            "source": [
                "Mapping of the labels:"
            ]
        },
        {
            "cell_type": "code",
            "execution_count": 14,
            "metadata": {},
            "outputs": [
                {
                    "name": "stdout",
                    "output_type": "stream",
                    "text": [
                        "{'0': 'adipose', '1': 'background', '2': 'debris', '3': 'lymphocytes', '4': 'mucus', '5': 'smooth muscle', '6': 'normal colon mucosa', '7': 'cancer-associated stroma', '8': 'colorectal adenocarcinoma epithelium'}\n"
                    ]
                }
            ],
            "source": [
                "print(info['label'])"
            ]
        },
        {
            "cell_type": "markdown",
            "metadata": {},
            "source": [
                "### Plan C: Website Fact Checker"
            ]
        },
        {
            "cell_type": "code",
            "execution_count": 15,
            "metadata": {},
            "outputs": [],
            "source": [
                "# Your code here"
            ]
        },
        {
            "cell_type": "markdown",
            "metadata": {},
            "source": [
                "## Step 1: Problem definition\n",
                "\n",
                "### Instructions\n",
                "\n",
                "1. **Select a Project Plan:**\n",
                "\n",
                "    - Review the dataset options from Plan A, Plan B, and Plan C.\n",
                "\n",
                "    - Choose one of the plans to move forward with based on your dataset inspection and interest.\n",
                "\n",
                "2. **Write a Project Description:**\n",
                "\n",
                "    - Clearly define the problem or question you intend to address with your selected dataset.\n",
                "\n",
                "    - Consider how your chosen dataset can help solve this problem or answer the question.\n",
                "\n",
                "    - Write a one-sentence description that clearly states the objective of your project. This should include what you aim to achieve or understand with the dataset.\n",
                "\n",
                "3. **Name the Project:**\n",
                "\n",
                "    - Create a name for your project that reflects the focus of your work."
            ]
        },
        {
            "cell_type": "markdown",
            "metadata": {},
            "source": [
                "### 1. Select a Project Plan"
            ]
        },
        {
            "cell_type": "markdown",
            "metadata": {},
            "source": [
                "Plan B: Predicting Colon Cancer Histology Slide Content Using Deep Learning"
            ]
        },
        {
            "cell_type": "markdown",
            "metadata": {},
            "source": [
                "### 2. Write a Project Description"
            ]
        },
        {
            "cell_type": "markdown",
            "metadata": {},
            "source": [
                "Problem Definition:\n",
                "The project aims to develop a machine learning model capable of accurately predicting the content of histology slides related to colon cancer. This involves analyzing images of colon cancer tissue to identify specific features and patterns that can indicate the presence and type of cancerous cells. The dataset comprises 100,000 non-overlapping image patches, each representing one of nine classes: adipose tissue (ADI), background (BACK), debris (DEB), lymphocyte (LYM), mucus (MUC), smooth muscle (MUS), normal colon mucosa (NORM), cancer-associated stroma (STR), and CRC Epithelium (TUM). Accurately classifying these image patches is crucial for aiding in the diagnosis and treatment planning of colon cancer.\n",
                "\n",
                "Dataset Utilization:\n",
                "The chosen dataset from MedMNIST.com provides a collection of labeled histology images specific to colon cancer. By training the model on this dataset, we aim to create a tool that can assist pathologists in diagnosing colon cancer more effectively.\n",
                "\n",
                "Objective:\n",
                "The objective of this project is to use deep learning techniques to classify and predict the contents of colon cancer histology slides, ultimately aiding in the early and accurate detection of colon cancer."
            ]
        },
        {
            "cell_type": "markdown",
            "metadata": {},
            "source": [
                "### 3. Name the Project"
            ]
        },
        {
            "cell_type": "markdown",
            "metadata": {},
            "source": [
                "Project Title: Predicting Colon Cancer Histology Slide Content Using Deep Learning"
            ]
        },
        {
            "cell_type": "markdown",
            "metadata": {},
            "source": [
                "## Step 2: Acquiring and loading the data set\n",
                "\n",
                "### Instructions\n",
                "\n",
                "1. **Acquiring the Dataset:** Describe how you have acquired the dataset for your project. Depending on the method you used:\n",
                "\n",
                "    1. **Web Scraping:**\n",
                "\n",
                "        - If you used web scraping, provide details about the website or web page from which you extracted data.\n",
                "\n",
                "        - Include information on the tools or libraries you used for scraping (e.g., BeautifulSoup, Scrapy).\n",
                "\n",
                "        - Mention any challenges faced during the scraping process and how you addressed them.\n",
                "\n",
                "    2. **SQL Database:**\n",
                "\n",
                "        - If you obtained data from a public database using SQL, specify the database you accessed.\n",
                "\n",
                "        - Describe the SQL queries you used to extract the data.\n",
                "\n",
                "        - Include any relevant details about the database schema and how you navigated it.\n",
                "\n",
                "    3. **Public API:**\n",
                "\n",
                "        - If you accessed data through a public API, provide details about the API.\n",
                "\n",
                "        - Describe the API endpoints you used and any parameters or filters applied to your requests.\n",
                "\n",
                "        - Mention the format of the data returned by the API and how you processed it.\n",
                "\n",
                "2. **Loading the Dataset:**\n",
                "\n",
                "    - Detail the steps you followed to load the dataset into your working environment.\n",
                "\n",
                "    - Describe the tools or libraries used for loading the data (e.g., `Pandas` for CSV files, `SQLAlchemy` for SQL databases, `requests` or an API client library for APIs).\n",
                "\n",
                "    - Include any data cleaning or preprocessing steps you performed to prepare the data for analysis.\n",
                "\n",
                "3. **Document Your Process:**\n",
                "\n",
                "    - Provide a brief summary of your data acquisition and loading process, highlighting any key steps or decisions.\n",
                "\n",
                "    - Include any challenges or issues encountered and how you resolved them."
            ]
        },
        {
            "cell_type": "markdown",
            "metadata": {},
            "source": [
                "There is a premade package that we have downloaded and used the documentation to dowload all of the images and set them up in an SQL database.  Though, honestly, using the prebuilt custom DataLoader class based in pytorch will likely be much more sensible for our purposes, as it will automatically batch the images and take care of much of the headache."
            ]
        },
        {
            "cell_type": "markdown",
            "metadata": {},
            "source": [
                "## Step 3: Store the information\n",
                "\n",
                "### Instructions\n",
                "\n",
                "1. **Choose a Database:**\n",
                "\n",
                "    - Select a database that is most compatible with your dataset. Consider factors such as the size of the data, the complexity of the queries you plan to perform, and the features offered by the database.\n",
                "\n",
                "    - The databases we have studied include SQLite, PostgreSQL, MySQL, etc.\n",
                "\n",
                "2. **Store the Data:**\n",
                "\n",
                "    - Import the dataset into the chosen database. This may involve creating tables and defining schemas that match the structure of your data.\n",
                "\n",
                "    - Ensure that the database is properly set up to handle the data efficiently. Consider indexing or other optimizations if necessary.\n",
                "\n",
                "3. **Perform Queries:**\n",
                "\n",
                "    - Write and execute SQL queries to interact with your stored data. Use the following types of queries:\n",
                "\n",
                "        - `SELECT`: Retrieve specific data from your tables. For example, you can select columns or rows that meet certain criteria.\n",
                "\n",
                "        - `JOIN`: Combine data from multiple tables based on related columns to perform more complex queries.\n",
                "\n",
                "        - `INSERT`: Add new data to your tables if necessary.\n",
                "\n",
                "        - Include any other relevant SQL operations that are useful for your analysis.\n",
                "    \n",
                "    - Alternatively, use Python wrappers for SQL (e.g., `SQLAlchemy`, `pandas`) if applicable. These wrappers can help you perform SQL operations more easily within a Python environment.\n",
                "\n",
                "4. **Document Your Process:**\n",
                "\n",
                "    - Provide a summary of how you stored your data in the database, including the database used and the structure of the tables.\n",
                "\n",
                "    - Include examples of the SQL queries you wrote and explain how they help in starting the analysis.\n",
                "\n",
                "    - Discuss any challenges faced during the data storage and querying process and how you addressed them."
            ]
        },
        {
            "cell_type": "code",
            "execution_count": 16,
            "metadata": {},
            "outputs": [
                {
                    "data": {
                        "text/plain": [
                            "7180"
                        ]
                    },
                    "execution_count": 16,
                    "metadata": {},
                    "output_type": "execute_result"
                }
            ],
            "source": [
                "import pandas as pd\n",
                "import sqlite3\n",
                "\n",
                "conn = sqlite3.connect('../Bump/DBIITheReckoning.db')\n",
                "\n",
                "train_df.to_sql('Train_Data', conn, if_exists='replace', index=False)\n",
                "test_df.to_sql('Test_Data', conn, if_exists='replace', index=False)"
            ]
        },
        {
            "cell_type": "markdown",
            "metadata": {},
            "source": [
                "1. Write a SQL `SELECT` statement to retrieve all the data from your training set table &\n",
                "\n",
                "2. Write a SQL `SELECT` statement to retrieve all the data from your test set table:"
            ]
        },
        {
            "cell_type": "code",
            "execution_count": 17,
            "metadata": {},
            "outputs": [],
            "source": [
                "# Initialize an empty list to store dataframes\n",
                "dfs = []\n",
                "\n",
                "cursor = conn.cursor()\n",
                "query = 'SELECT * FROM '\n",
                "for i in ['Train_Data', 'Test_Data']:\n",
                "    que = query + i\n",
                "    cursor.execute(que)\n",
                "\n",
                "    # Fetch all the records and convert them to a dataframe\n",
                "    df = pd.DataFrame(cursor.fetchall(), columns=[desc[0] for desc in cursor.description])\n",
                "\n",
                "    # Convert the byte data back into numpy arrays\n",
                "    df['img'] = df['img'].apply(lambda x: np.frombuffer(x, dtype=np.uint8).reshape(28, 28, 3))  # Adjust the shape as per your data\n",
                "    df['label'] = df['label'].apply(lambda x: np.frombuffer(x, dtype=np.int64))  # Adjust dtype as per your data\n",
                "\n",
                "    # Append the dataframe to the list\n",
                "    dfs.append(df)"
            ]
        },
        {
            "cell_type": "markdown",
            "metadata": {},
            "source": [
                "Inspect the retrieved data and ensure they match the inputs `train_df` and `test_df`,"
            ]
        },
        {
            "cell_type": "code",
            "execution_count": 18,
            "metadata": {},
            "outputs": [
                {
                    "data": {
                        "text/html": [
                            "<div>\n",
                            "<style scoped>\n",
                            "    .dataframe tbody tr th:only-of-type {\n",
                            "        vertical-align: middle;\n",
                            "    }\n",
                            "\n",
                            "    .dataframe tbody tr th {\n",
                            "        vertical-align: top;\n",
                            "    }\n",
                            "\n",
                            "    .dataframe thead th {\n",
                            "        text-align: right;\n",
                            "    }\n",
                            "</style>\n",
                            "<table border=\"1\" class=\"dataframe\">\n",
                            "  <thead>\n",
                            "    <tr style=\"text-align: right;\">\n",
                            "      <th></th>\n",
                            "      <th>img</th>\n",
                            "      <th>label</th>\n",
                            "    </tr>\n",
                            "  </thead>\n",
                            "  <tbody>\n",
                            "    <tr>\n",
                            "      <th>0</th>\n",
                            "      <td>[[[220, 208, 227], [219, 207, 227], [220, 207,...</td>\n",
                            "      <td>[0]</td>\n",
                            "    </tr>\n",
                            "    <tr>\n",
                            "      <th>1</th>\n",
                            "      <td>[[[126, 59, 119], [142, 84, 139], [174, 127, 1...</td>\n",
                            "      <td>[4]</td>\n",
                            "    </tr>\n",
                            "    <tr>\n",
                            "      <th>2</th>\n",
                            "      <td>[[[223, 168, 204], [223, 166, 203], [218, 170,...</td>\n",
                            "      <td>[7]</td>\n",
                            "    </tr>\n",
                            "    <tr>\n",
                            "      <th>3</th>\n",
                            "      <td>[[[216, 135, 183], [216, 127, 178], [213, 125,...</td>\n",
                            "      <td>[5]</td>\n",
                            "    </tr>\n",
                            "    <tr>\n",
                            "      <th>4</th>\n",
                            "      <td>[[[204, 124, 177], [204, 116, 170], [211, 149,...</td>\n",
                            "      <td>[5]</td>\n",
                            "    </tr>\n",
                            "    <tr>\n",
                            "      <th>...</th>\n",
                            "      <td>...</td>\n",
                            "      <td>...</td>\n",
                            "    </tr>\n",
                            "    <tr>\n",
                            "      <th>89991</th>\n",
                            "      <td>[[[220, 206, 226], [219, 205, 225], [219, 205,...</td>\n",
                            "      <td>[0]</td>\n",
                            "    </tr>\n",
                            "    <tr>\n",
                            "      <th>89992</th>\n",
                            "      <td>[[[194, 154, 194], [198, 159, 198], [193, 151,...</td>\n",
                            "      <td>[6]</td>\n",
                            "    </tr>\n",
                            "    <tr>\n",
                            "      <th>89993</th>\n",
                            "      <td>[[[201, 141, 191], [202, 142, 193], [191, 124,...</td>\n",
                            "      <td>[2]</td>\n",
                            "    </tr>\n",
                            "    <tr>\n",
                            "      <th>89994</th>\n",
                            "      <td>[[[226, 215, 229], [225, 213, 228], [192, 155,...</td>\n",
                            "      <td>[0]</td>\n",
                            "    </tr>\n",
                            "    <tr>\n",
                            "      <th>89995</th>\n",
                            "      <td>[[[198, 120, 174], [175, 102, 159], [209, 124,...</td>\n",
                            "      <td>[2]</td>\n",
                            "    </tr>\n",
                            "  </tbody>\n",
                            "</table>\n",
                            "<p>89996 rows × 2 columns</p>\n",
                            "</div>"
                        ],
                        "text/plain": [
                            "                                                     img label\n",
                            "0      [[[220, 208, 227], [219, 207, 227], [220, 207,...   [0]\n",
                            "1      [[[126, 59, 119], [142, 84, 139], [174, 127, 1...   [4]\n",
                            "2      [[[223, 168, 204], [223, 166, 203], [218, 170,...   [7]\n",
                            "3      [[[216, 135, 183], [216, 127, 178], [213, 125,...   [5]\n",
                            "4      [[[204, 124, 177], [204, 116, 170], [211, 149,...   [5]\n",
                            "...                                                  ...   ...\n",
                            "89991  [[[220, 206, 226], [219, 205, 225], [219, 205,...   [0]\n",
                            "89992  [[[194, 154, 194], [198, 159, 198], [193, 151,...   [6]\n",
                            "89993  [[[201, 141, 191], [202, 142, 193], [191, 124,...   [2]\n",
                            "89994  [[[226, 215, 229], [225, 213, 228], [192, 155,...   [0]\n",
                            "89995  [[[198, 120, 174], [175, 102, 159], [209, 124,...   [2]\n",
                            "\n",
                            "[89996 rows x 2 columns]"
                        ]
                    },
                    "execution_count": 18,
                    "metadata": {},
                    "output_type": "execute_result"
                }
            ],
            "source": [
                "retrieved_train_data = dfs[0]\n",
                "retrieved_train_data"
            ]
        },
        {
            "cell_type": "code",
            "execution_count": 19,
            "metadata": {},
            "outputs": [
                {
                    "data": {
                        "text/html": [
                            "<div>\n",
                            "<style scoped>\n",
                            "    .dataframe tbody tr th:only-of-type {\n",
                            "        vertical-align: middle;\n",
                            "    }\n",
                            "\n",
                            "    .dataframe tbody tr th {\n",
                            "        vertical-align: top;\n",
                            "    }\n",
                            "\n",
                            "    .dataframe thead th {\n",
                            "        text-align: right;\n",
                            "    }\n",
                            "</style>\n",
                            "<table border=\"1\" class=\"dataframe\">\n",
                            "  <thead>\n",
                            "    <tr style=\"text-align: right;\">\n",
                            "      <th></th>\n",
                            "      <th>img</th>\n",
                            "      <th>label</th>\n",
                            "    </tr>\n",
                            "  </thead>\n",
                            "  <tbody>\n",
                            "    <tr>\n",
                            "      <th>0</th>\n",
                            "      <td>[[[190, 114, 165], [172, 98, 153], [152, 83, 1...</td>\n",
                            "      <td>[8]</td>\n",
                            "    </tr>\n",
                            "    <tr>\n",
                            "      <th>1</th>\n",
                            "      <td>[[[200, 159, 199], [178, 108, 165], [177, 98, ...</td>\n",
                            "      <td>[4]</td>\n",
                            "    </tr>\n",
                            "    <tr>\n",
                            "      <th>2</th>\n",
                            "      <td>[[[238, 230, 238], [232, 218, 232], [230, 214,...</td>\n",
                            "      <td>[4]</td>\n",
                            "    </tr>\n",
                            "    <tr>\n",
                            "      <th>3</th>\n",
                            "      <td>[[[196, 154, 190], [196, 149, 188], [211, 164,...</td>\n",
                            "      <td>[8]</td>\n",
                            "    </tr>\n",
                            "    <tr>\n",
                            "      <th>4</th>\n",
                            "      <td>[[[233, 214, 230], [220, 191, 215], [207, 163,...</td>\n",
                            "      <td>[4]</td>\n",
                            "    </tr>\n",
                            "    <tr>\n",
                            "      <th>...</th>\n",
                            "      <td>...</td>\n",
                            "      <td>...</td>\n",
                            "    </tr>\n",
                            "    <tr>\n",
                            "      <th>7175</th>\n",
                            "      <td>[[[190, 99, 150], [154, 81, 135], [151, 84, 14...</td>\n",
                            "      <td>[8]</td>\n",
                            "    </tr>\n",
                            "    <tr>\n",
                            "      <th>7176</th>\n",
                            "      <td>[[[188, 122, 170], [179, 117, 165], [191, 121,...</td>\n",
                            "      <td>[7]</td>\n",
                            "    </tr>\n",
                            "    <tr>\n",
                            "      <th>7177</th>\n",
                            "      <td>[[[173, 131, 180], [200, 166, 203], [178, 137,...</td>\n",
                            "      <td>[4]</td>\n",
                            "    </tr>\n",
                            "    <tr>\n",
                            "      <th>7178</th>\n",
                            "      <td>[[[132, 64, 123], [123, 61, 118], [140, 72, 13...</td>\n",
                            "      <td>[8]</td>\n",
                            "    </tr>\n",
                            "    <tr>\n",
                            "      <th>7179</th>\n",
                            "      <td>[[[145, 82, 142], [128, 70, 130], [138, 78, 13...</td>\n",
                            "      <td>[8]</td>\n",
                            "    </tr>\n",
                            "  </tbody>\n",
                            "</table>\n",
                            "<p>7180 rows × 2 columns</p>\n",
                            "</div>"
                        ],
                        "text/plain": [
                            "                                                    img label\n",
                            "0     [[[190, 114, 165], [172, 98, 153], [152, 83, 1...   [8]\n",
                            "1     [[[200, 159, 199], [178, 108, 165], [177, 98, ...   [4]\n",
                            "2     [[[238, 230, 238], [232, 218, 232], [230, 214,...   [4]\n",
                            "3     [[[196, 154, 190], [196, 149, 188], [211, 164,...   [8]\n",
                            "4     [[[233, 214, 230], [220, 191, 215], [207, 163,...   [4]\n",
                            "...                                                 ...   ...\n",
                            "7175  [[[190, 99, 150], [154, 81, 135], [151, 84, 14...   [8]\n",
                            "7176  [[[188, 122, 170], [179, 117, 165], [191, 121,...   [7]\n",
                            "7177  [[[173, 131, 180], [200, 166, 203], [178, 137,...   [4]\n",
                            "7178  [[[132, 64, 123], [123, 61, 118], [140, 72, 13...   [8]\n",
                            "7179  [[[145, 82, 142], [128, 70, 130], [138, 78, 13...   [8]\n",
                            "\n",
                            "[7180 rows x 2 columns]"
                        ]
                    },
                    "execution_count": 19,
                    "metadata": {},
                    "output_type": "execute_result"
                }
            ],
            "source": [
                "retrieved_test_data = dfs[1]\n",
                "retrieved_test_data"
            ]
        },
        {
            "cell_type": "markdown",
            "metadata": {},
            "source": [
                "## Step 4 & 5: Perform a descriptive analysis & full EDA"
            ]
        },
        {
            "cell_type": "markdown",
            "metadata": {},
            "source": [
                "1. **Getting the Dimensions of the Dataframe**\n",
                "\n",
                "    - Get the dimensions of the `train_df`. This will give you the number of rows (images) and columns in the dataframe."
            ]
        },
        {
            "cell_type": "code",
            "execution_count": 20,
            "metadata": {},
            "outputs": [
                {
                    "data": {
                        "text/plain": [
                            "(89996, 2)"
                        ]
                    },
                    "execution_count": 20,
                    "metadata": {},
                    "output_type": "execute_result"
                }
            ],
            "source": [
                "train_df.shape"
            ]
        },
        {
            "cell_type": "markdown",
            "metadata": {},
            "source": [
                "$~~~~~~~~~~$- Get the dimensions of `test_df`."
            ]
        },
        {
            "cell_type": "code",
            "execution_count": 21,
            "metadata": {},
            "outputs": [
                {
                    "data": {
                        "text/plain": [
                            "(7180, 2)"
                        ]
                    },
                    "execution_count": 21,
                    "metadata": {},
                    "output_type": "execute_result"
                }
            ],
            "source": [
                "test_df.shape"
            ]
        },
        {
            "cell_type": "markdown",
            "metadata": {},
            "source": [
                "2. **Checking for Missing Values**\n",
                "\n",
                "    - <span style=\"color: red;\">**TODO: Check and count how many rows have missing values in `train_df`. Drop/remove rows with missing values if any.**</span>"
            ]
        },
        {
            "cell_type": "code",
            "execution_count": 22,
            "metadata": {},
            "outputs": [
                {
                    "name": "stdout",
                    "output_type": "stream",
                    "text": [
                        "Missing values per column:\n",
                        " img      0\n",
                        "label    0\n",
                        "dtype: int64\n",
                        "Total number of rows with missing values: 0\n"
                    ]
                }
            ],
            "source": [
                "# Your code here\n",
                "# Check for missing values in each column\n",
                "missing_values = test_df.isnull().sum()\n",
                "print(\"Missing values per column:\\n\", missing_values)\n",
                "\n",
                "# Count the total number of rows with any missing values\n",
                "rows_with_missing_values = test_df.isnull().any(axis=1).sum()\n",
                "print(f'Total number of rows with missing values: {rows_with_missing_values}')"
            ]
        },
        {
            "cell_type": "markdown",
            "metadata": {},
            "source": [
                "$~~~~~~~~~~$- <span style=\"color: red;\">**TODO: Check and count how many rows have missing values in `test_df`. Drop/remove rows with missing values if any.**</span>"
            ]
        },
        {
            "cell_type": "code",
            "execution_count": 23,
            "metadata": {},
            "outputs": [
                {
                    "name": "stdout",
                    "output_type": "stream",
                    "text": [
                        "Missing values per column:\n",
                        " img      0\n",
                        "label    0\n",
                        "dtype: int64\n",
                        "Total number of rows with missing values: 0\n"
                    ]
                }
            ],
            "source": [
                "# Your code here\n",
                "# Check for missing values in each column\n",
                "missing_values = test_df.isnull().sum()\n",
                "print(\"Missing values per column:\\n\", missing_values)\n",
                "\n",
                "# Count the total number of rows with any missing values\n",
                "rows_with_missing_values = test_df.isnull().any(axis=1).sum()\n",
                "print(f'Total number of rows with missing values: {rows_with_missing_values}')"
            ]
        },
        {
            "cell_type": "markdown",
            "metadata": {},
            "source": [
                "3. **Checking the Data Types of Columns**\n",
                "\n",
                "    - Check the data type of of each column in the `train_df` DataFrame."
            ]
        },
        {
            "cell_type": "code",
            "execution_count": 24,
            "metadata": {},
            "outputs": [
                {
                    "name": "stdout",
                    "output_type": "stream",
                    "text": [
                        "<class 'pandas.core.frame.DataFrame'>\n",
                        "RangeIndex: 89996 entries, 0 to 89995\n",
                        "Data columns (total 2 columns):\n",
                        " #   Column  Non-Null Count  Dtype \n",
                        "---  ------  --------------  ----- \n",
                        " 0   img     89996 non-null  object\n",
                        " 1   label   89996 non-null  object\n",
                        "dtypes: object(2)\n",
                        "memory usage: 1.4+ MB\n"
                    ]
                }
            ],
            "source": [
                "train_df.info()"
            ]
        },
        {
            "cell_type": "markdown",
            "metadata": {},
            "source": [
                "$~~~~~~~~~~$- Check the data type of of each column in the `test_df` DataFrame."
            ]
        },
        {
            "cell_type": "code",
            "execution_count": 25,
            "metadata": {},
            "outputs": [
                {
                    "name": "stdout",
                    "output_type": "stream",
                    "text": [
                        "<class 'pandas.core.frame.DataFrame'>\n",
                        "RangeIndex: 7180 entries, 0 to 7179\n",
                        "Data columns (total 2 columns):\n",
                        " #   Column  Non-Null Count  Dtype \n",
                        "---  ------  --------------  ----- \n",
                        " 0   img     7180 non-null   object\n",
                        " 1   label   7180 non-null   object\n",
                        "dtypes: object(2)\n",
                        "memory usage: 112.3+ KB\n"
                    ]
                }
            ],
            "source": [
                "test_df.info()"
            ]
        },
        {
            "cell_type": "markdown",
            "metadata": {},
            "source": [
                "4. **Inspect the Data Type of `img`**\n",
                "\n",
                "    - Inspect the data type of an individual `img` from `train_df`."
            ]
        },
        {
            "cell_type": "code",
            "execution_count": 26,
            "metadata": {},
            "outputs": [
                {
                    "name": "stdout",
                    "output_type": "stream",
                    "text": [
                        "Shape of the first image: (28, 28, 3)\n",
                        "Data type of the first image: <class 'numpy.ndarray'>\n"
                    ]
                }
            ],
            "source": [
                "\n",
                "first_train_img = train_df['img'].iloc[0]\n",
                "type(first_train_img)\n",
                "\n",
                "print(f\"Shape of the first image: {first_train_img.shape}\")\n",
                "print(f\"Data type of the first image: {type(first_train_img)}\")"
            ]
        },
        {
            "cell_type": "markdown",
            "metadata": {},
            "source": [
                "$~~~~~~~~~~$- Inspect the data type of an individual `img` from `test_df`."
            ]
        },
        {
            "cell_type": "code",
            "execution_count": 27,
            "metadata": {},
            "outputs": [
                {
                    "name": "stdout",
                    "output_type": "stream",
                    "text": [
                        "Shape of the first test image: (28, 28, 3)\n",
                        "Data type of the first test image: <class 'numpy.ndarray'>\n"
                    ]
                }
            ],
            "source": [
                "first_test_img = test_df['img'].iloc[0]\n",
                "type(first_test_img)\n",
                "\n",
                "print(f\"Shape of the first test image: {first_test_img.shape}\")\n",
                "print(f\"Data type of the first test image: {type(first_test_img)}\")"
            ]
        },
        {
            "cell_type": "markdown",
            "metadata": {},
            "source": [
                "5. **Inspect the Data Type of `label`**\n",
                "\n",
                "    - Inspect the data type of an individual `label` from `train_df`.\n",
                "\n",
                "    - Inspect the data type of an individual `label` from `test_df`."
            ]
        },
        {
            "cell_type": "code",
            "execution_count": 28,
            "metadata": {},
            "outputs": [
                {
                    "name": "stdout",
                    "output_type": "stream",
                    "text": [
                        "<class 'numpy.ndarray'>\n",
                        "<class 'numpy.ndarray'>\n"
                    ]
                }
            ],
            "source": [
                "for i in [train_df, test_df]:\n",
                "    print(type(i['label'].iloc[0]))"
            ]
        },
        {
            "cell_type": "markdown",
            "metadata": {},
            "source": [
                "6. **Casting the Label to an Integer**\n",
                "\n",
                "    - Convert the `label` column from an array to an integer for `train_df`.\n",
                "\n",
                "    - Convert the `label` column from an array to an integer for `test_df`."
            ]
        },
        {
            "cell_type": "markdown",
            "metadata": {},
            "source": [
                "<span style=\"color: red;\">**TODO: Great attempt! But the following DOES NOT cast the `label` column to type integer. I added a validation check in the two code cells that follow your solution. As you can see the `label` column is still type array. Give it another attemp and run the validation checks to validate your solution.**</span>"
            ]
        },
        {
            "cell_type": "code",
            "execution_count": 29,
            "metadata": {},
            "outputs": [],
            "source": [
                "# Convert the label column from an array to an integer in train_df\n",
                "train_df['label'] = train_df['label'].apply(lambda x: int(x[0]))\n",
                "\n",
                "# Convert the label column from an array to an integer in test_df\n",
                "test_df['label'] = test_df['label'].apply(lambda x: int(x[0]))\n"
            ]
        },
        {
            "cell_type": "code",
            "execution_count": 30,
            "metadata": {},
            "outputs": [
                {
                    "name": "stdout",
                    "output_type": "stream",
                    "text": [
                        "<class 'numpy.int64'>\n",
                        "<class 'numpy.int64'>\n"
                    ]
                }
            ],
            "source": [
                "for i in [train_df, test_df]:\n",
                "    print(type(i['label'].iloc[0]))"
            ]
        },
        {
            "cell_type": "markdown",
            "metadata": {},
            "source": [
                "Verifying that the data type of the `label` column is now an integer,"
            ]
        },
        {
            "cell_type": "code",
            "execution_count": 31,
            "metadata": {},
            "outputs": [
                {
                    "name": "stdout",
                    "output_type": "stream",
                    "text": [
                        "First train img label: 0\n",
                        "Data type of first train img label: <class 'numpy.int64'>\n"
                    ]
                }
            ],
            "source": [
                "# Get the first train image label\n",
                "first_train_img_label = train_df['label'].iloc[0]\n",
                "\n",
                "print(f\"First train img label: {first_train_img_label}\")\n",
                "print(f\"Data type of first train img label: {type(first_train_img_label)}\")"
            ]
        },
        {
            "cell_type": "code",
            "execution_count": 32,
            "metadata": {},
            "outputs": [
                {
                    "name": "stdout",
                    "output_type": "stream",
                    "text": [
                        "First test img label: 8\n",
                        "Data type of first train img label: <class 'numpy.int64'>\n"
                    ]
                }
            ],
            "source": [
                "# Get the first test image label\n",
                "first_test_img_label = test_df['label'].iloc[0]\n",
                "\n",
                "print(f\"First test img label: {first_test_img_label}\")\n",
                "print(f\"Data type of first train img label: {type(first_test_img_label)}\")"
            ]
        },
        {
            "cell_type": "markdown",
            "metadata": {},
            "source": [
                "7. **Getting the Label Distribution**\n",
                "\n",
                "    - Count the number of instances for each `label` in `train_df`."
            ]
        },
        {
            "cell_type": "code",
            "execution_count": 33,
            "metadata": {},
            "outputs": [
                {
                    "data": {
                        "text/plain": [
                            "label\n",
                            "8    12885\n",
                            "5    12182\n",
                            "3    10401\n",
                            "2    10360\n",
                            "1     9509\n",
                            "7     9401\n",
                            "0     9366\n",
                            "4     8006\n",
                            "6     7886\n",
                            "Name: count, dtype: int64"
                        ]
                    },
                    "execution_count": 33,
                    "metadata": {},
                    "output_type": "execute_result"
                }
            ],
            "source": [
                "train_df['label'].value_counts()"
            ]
        },
        {
            "cell_type": "markdown",
            "metadata": {},
            "source": [
                "$~~~~~~~~~~$- Count the number of instances for each `label` in `test_df`."
            ]
        },
        {
            "cell_type": "code",
            "execution_count": 34,
            "metadata": {},
            "outputs": [
                {
                    "data": {
                        "text/plain": [
                            "label\n",
                            "0    1338\n",
                            "8    1233\n",
                            "4    1035\n",
                            "1     847\n",
                            "6     741\n",
                            "3     634\n",
                            "5     592\n",
                            "7     421\n",
                            "2     339\n",
                            "Name: count, dtype: int64"
                        ]
                    },
                    "execution_count": 34,
                    "metadata": {},
                    "output_type": "execute_result"
                }
            ],
            "source": [
                "test_df['label'].value_counts()"
            ]
        },
        {
            "cell_type": "markdown",
            "metadata": {},
            "source": [
                "8. **Visualizing the Label Distribution**\n",
                "\n",
                "    - Visualize the `label` distribution for `train_df` using a bar plot or histogram."
            ]
        },
        {
            "cell_type": "code",
            "execution_count": 35,
            "metadata": {},
            "outputs": [
                {
                    "data": {
                        "image/png": "[encoded data removed]",
                        "text/plain": [
                            "<Figure size 640x480 with 1 Axes>"
                        ]
                    },
                    "metadata": {},
                    "output_type": "display_data"
                }
            ],
            "source": [
                "import matplotlib.pyplot as plt\n",
                "import seaborn as sns\n",
                "\n",
                "bar = train_df['label'].value_counts().plot(kind='bar')\n",
                "plt.show()"
            ]
        },
        {
            "cell_type": "markdown",
            "metadata": {},
            "source": [
                "$~~~~~~~~~~$- Visualize the `label` distribution for `test_df` using a bar plot or histogram."
            ]
        },
        {
            "cell_type": "code",
            "execution_count": 36,
            "metadata": {},
            "outputs": [
                {
                    "data": {
                        "image/png": "[encoded data removed]",
                        "text/plain": [
                            "<Figure size 640x480 with 1 Axes>"
                        ]
                    },
                    "metadata": {},
                    "output_type": "display_data"
                }
            ],
            "source": [
                "bar_nun = test_df['label'].value_counts().plot(kind='bar')\n",
                "plt.show()"
            ]
        },
        {
            "cell_type": "markdown",
            "metadata": {},
            "source": [
                "9. **Getting Image Dimensions**\n",
                "\n",
                "    - Check the dimensions of the images to ensure consistency across the `train_df` dataset."
            ]
        },
        {
            "cell_type": "code",
            "execution_count": 37,
            "metadata": {},
            "outputs": [
                {
                    "name": "stdout",
                    "output_type": "stream",
                    "text": [
                        "Unique image dimensions: [(28, 28, 3)]\n"
                    ]
                }
            ],
            "source": [
                "# Extract the dimensions of each image in the train_df\n",
                "image_dimensions = train_df['img'].apply(lambda x: x.shape)\n",
                "\n",
                "# Display unique dimensions to check for consistency\n",
                "unique_dimensions = image_dimensions.unique()\n",
                "print(f\"Unique image dimensions: {unique_dimensions}\")\n"
            ]
        },
        {
            "cell_type": "markdown",
            "metadata": {},
            "source": [
                "$~~~~~~~~~~$- Check the dimensions of the images to ensure consistency across the `test_df` dataset."
            ]
        },
        {
            "cell_type": "code",
            "execution_count": 38,
            "metadata": {},
            "outputs": [
                {
                    "name": "stdout",
                    "output_type": "stream",
                    "text": [
                        "Unique image dimensions: [(28, 28, 3)]\n"
                    ]
                }
            ],
            "source": [
                "# Extract the dimensions of each image in the train_df\n",
                "image_dimensions = test_df['img'].apply(lambda x: x.shape)\n",
                "\n",
                "# Display unique dimensions to check for consistency\n",
                "unique_dimensions = image_dimensions.unique()\n",
                "print(f\"Unique image dimensions: {unique_dimensions}\")\n"
            ]
        },
        {
            "cell_type": "markdown",
            "metadata": {},
            "source": [
                "10. **Getting Pixel Intensity Statistics**\n",
                "\n",
                "    - Calculate basic statistics (mean, standard deviation, min, max) of pixel intensities across all images in `train_df`."
            ]
        },
        {
            "cell_type": "code",
            "execution_count": 39,
            "metadata": {},
            "outputs": [
                {
                    "name": "stdout",
                    "output_type": "stream",
                    "text": [
                        "          mean        std  min  max\n",
                        "0   216.181973  10.620905  164  228\n",
                        "1   172.227041  30.914786   47  235\n",
                        "2   189.426871  25.896489   80  237\n",
                        "3   175.971939  34.330515   86  234\n",
                        "4   187.073129  33.331816   71  243\n",
                        "5   152.146684  32.743361   61  240\n",
                        "6   159.522109  33.482194   66  240\n",
                        "7   152.753401  35.483139   57  236\n",
                        "8   176.772109  42.655796   65  242\n",
                        "9   161.115221  37.037957   64  214\n",
                        "10  156.053146  32.565700   60  235\n",
                        "11  169.707483  35.765753   71  232\n",
                        "12  143.960459  45.893665   48  248\n",
                        "13  140.946003  37.899898   43  235\n",
                        "14  231.277636   7.353435  210  240\n",
                        "15   97.197279  25.188899   51  130\n",
                        "16  150.765731  46.342943   54  233\n",
                        "17  175.422619  35.458236   33  242\n",
                        "18  147.679847  34.167392   65  238\n",
                        "19  153.312925  35.591095   59  221\n"
                    ]
                }
            ],
            "source": [
                "import numpy as np\n",
                "\n",
                "\n",
                "# Function to calculate statistics for a single image\n",
                "def calculate_statistics(img):\n",
                "    pixels = img.flatten()  # Flatten the image to a 1D array of pixel values\n",
                "    mean = np.mean(pixels)\n",
                "    std = np.std(pixels)\n",
                "    min_val = np.min(pixels)\n",
                "    max_val = np.max(pixels)\n",
                "    return mean, std, min_val, max_val\n",
                "\n",
                "# Apply the function to all images in the train_df and store the results\n",
                "train_df['mean'], train_df['std'], train_df['min'], train_df['max'] = zip(*train_df['img'].apply(calculate_statistics))\n",
                "\n",
                "# Display the first few rows to see the calculated statistics\n",
                "print(train_df[['mean', 'std', 'min', 'max']].head(20))\n",
                "\n",
                "funcs = {'avg':np.mean, 'std':np.std, 'min':np.min, 'max':np.max}\n",
                "for k, v in funcs.items():\n",
                "    train_df[k] = train_df['img'].apply(v)"
            ]
        },
        {
            "cell_type": "markdown",
            "metadata": {},
            "source": [
                "Inspect `train_df` with the newly created columns (the aggregations),"
            ]
        },
        {
            "cell_type": "code",
            "execution_count": 40,
            "metadata": {},
            "outputs": [
                {
                    "data": {
                        "text/html": [
                            "<div>\n",
                            "<style scoped>\n",
                            "    .dataframe tbody tr th:only-of-type {\n",
                            "        vertical-align: middle;\n",
                            "    }\n",
                            "\n",
                            "    .dataframe tbody tr th {\n",
                            "        vertical-align: top;\n",
                            "    }\n",
                            "\n",
                            "    .dataframe thead th {\n",
                            "        text-align: right;\n",
                            "    }\n",
                            "</style>\n",
                            "<table border=\"1\" class=\"dataframe\">\n",
                            "  <thead>\n",
                            "    <tr style=\"text-align: right;\">\n",
                            "      <th></th>\n",
                            "      <th>img</th>\n",
                            "      <th>label</th>\n",
                            "      <th>mean</th>\n",
                            "      <th>std</th>\n",
                            "      <th>min</th>\n",
                            "      <th>max</th>\n",
                            "      <th>avg</th>\n",
                            "    </tr>\n",
                            "  </thead>\n",
                            "  <tbody>\n",
                            "    <tr>\n",
                            "      <th>0</th>\n",
                            "      <td>[[[220, 208, 227], [219, 207, 227], [220, 207,...</td>\n",
                            "      <td>0</td>\n",
                            "      <td>216.181973</td>\n",
                            "      <td>10.620905</td>\n",
                            "      <td>164</td>\n",
                            "      <td>228</td>\n",
                            "      <td>216.181973</td>\n",
                            "    </tr>\n",
                            "    <tr>\n",
                            "      <th>1</th>\n",
                            "      <td>[[[126, 59, 119], [142, 84, 139], [174, 127, 1...</td>\n",
                            "      <td>4</td>\n",
                            "      <td>172.227041</td>\n",
                            "      <td>30.914786</td>\n",
                            "      <td>47</td>\n",
                            "      <td>235</td>\n",
                            "      <td>172.227041</td>\n",
                            "    </tr>\n",
                            "    <tr>\n",
                            "      <th>2</th>\n",
                            "      <td>[[[223, 168, 204], [223, 166, 203], [218, 170,...</td>\n",
                            "      <td>7</td>\n",
                            "      <td>189.426871</td>\n",
                            "      <td>25.896489</td>\n",
                            "      <td>80</td>\n",
                            "      <td>237</td>\n",
                            "      <td>189.426871</td>\n",
                            "    </tr>\n",
                            "    <tr>\n",
                            "      <th>3</th>\n",
                            "      <td>[[[216, 135, 183], [216, 127, 178], [213, 125,...</td>\n",
                            "      <td>5</td>\n",
                            "      <td>175.971939</td>\n",
                            "      <td>34.330515</td>\n",
                            "      <td>86</td>\n",
                            "      <td>234</td>\n",
                            "      <td>175.971939</td>\n",
                            "    </tr>\n",
                            "    <tr>\n",
                            "      <th>4</th>\n",
                            "      <td>[[[204, 124, 177], [204, 116, 170], [211, 149,...</td>\n",
                            "      <td>5</td>\n",
                            "      <td>187.073129</td>\n",
                            "      <td>33.331816</td>\n",
                            "      <td>71</td>\n",
                            "      <td>243</td>\n",
                            "      <td>187.073129</td>\n",
                            "    </tr>\n",
                            "    <tr>\n",
                            "      <th>...</th>\n",
                            "      <td>...</td>\n",
                            "      <td>...</td>\n",
                            "      <td>...</td>\n",
                            "      <td>...</td>\n",
                            "      <td>...</td>\n",
                            "      <td>...</td>\n",
                            "      <td>...</td>\n",
                            "    </tr>\n",
                            "    <tr>\n",
                            "      <th>89991</th>\n",
                            "      <td>[[[220, 206, 226], [219, 205, 225], [219, 205,...</td>\n",
                            "      <td>0</td>\n",
                            "      <td>203.438776</td>\n",
                            "      <td>25.845920</td>\n",
                            "      <td>33</td>\n",
                            "      <td>228</td>\n",
                            "      <td>203.438776</td>\n",
                            "    </tr>\n",
                            "    <tr>\n",
                            "      <th>89992</th>\n",
                            "      <td>[[[194, 154, 194], [198, 159, 198], [193, 151,...</td>\n",
                            "      <td>6</td>\n",
                            "      <td>188.321854</td>\n",
                            "      <td>29.076016</td>\n",
                            "      <td>75</td>\n",
                            "      <td>243</td>\n",
                            "      <td>188.321854</td>\n",
                            "    </tr>\n",
                            "    <tr>\n",
                            "      <th>89993</th>\n",
                            "      <td>[[[201, 141, 191], [202, 142, 193], [191, 124,...</td>\n",
                            "      <td>2</td>\n",
                            "      <td>168.399660</td>\n",
                            "      <td>30.417645</td>\n",
                            "      <td>91</td>\n",
                            "      <td>218</td>\n",
                            "      <td>168.399660</td>\n",
                            "    </tr>\n",
                            "    <tr>\n",
                            "      <th>89994</th>\n",
                            "      <td>[[[226, 215, 229], [225, 213, 228], [192, 155,...</td>\n",
                            "      <td>0</td>\n",
                            "      <td>214.323554</td>\n",
                            "      <td>23.111225</td>\n",
                            "      <td>44</td>\n",
                            "      <td>230</td>\n",
                            "      <td>214.323554</td>\n",
                            "    </tr>\n",
                            "    <tr>\n",
                            "      <th>89995</th>\n",
                            "      <td>[[[198, 120, 174], [175, 102, 159], [209, 124,...</td>\n",
                            "      <td>2</td>\n",
                            "      <td>164.553997</td>\n",
                            "      <td>33.809560</td>\n",
                            "      <td>69</td>\n",
                            "      <td>225</td>\n",
                            "      <td>164.553997</td>\n",
                            "    </tr>\n",
                            "  </tbody>\n",
                            "</table>\n",
                            "<p>89996 rows × 7 columns</p>\n",
                            "</div>"
                        ],
                        "text/plain": [
                            "                                                     img  label        mean  \\\n",
                            "0      [[[220, 208, 227], [219, 207, 227], [220, 207,...      0  216.181973   \n",
                            "1      [[[126, 59, 119], [142, 84, 139], [174, 127, 1...      4  172.227041   \n",
                            "2      [[[223, 168, 204], [223, 166, 203], [218, 170,...      7  189.426871   \n",
                            "3      [[[216, 135, 183], [216, 127, 178], [213, 125,...      5  175.971939   \n",
                            "4      [[[204, 124, 177], [204, 116, 170], [211, 149,...      5  187.073129   \n",
                            "...                                                  ...    ...         ...   \n",
                            "89991  [[[220, 206, 226], [219, 205, 225], [219, 205,...      0  203.438776   \n",
                            "89992  [[[194, 154, 194], [198, 159, 198], [193, 151,...      6  188.321854   \n",
                            "89993  [[[201, 141, 191], [202, 142, 193], [191, 124,...      2  168.399660   \n",
                            "89994  [[[226, 215, 229], [225, 213, 228], [192, 155,...      0  214.323554   \n",
                            "89995  [[[198, 120, 174], [175, 102, 159], [209, 124,...      2  164.553997   \n",
                            "\n",
                            "             std  min  max         avg  \n",
                            "0      10.620905  164  228  216.181973  \n",
                            "1      30.914786   47  235  172.227041  \n",
                            "2      25.896489   80  237  189.426871  \n",
                            "3      34.330515   86  234  175.971939  \n",
                            "4      33.331816   71  243  187.073129  \n",
                            "...          ...  ...  ...         ...  \n",
                            "89991  25.845920   33  228  203.438776  \n",
                            "89992  29.076016   75  243  188.321854  \n",
                            "89993  30.417645   91  218  168.399660  \n",
                            "89994  23.111225   44  230  214.323554  \n",
                            "89995  33.809560   69  225  164.553997  \n",
                            "\n",
                            "[89996 rows x 7 columns]"
                        ]
                    },
                    "execution_count": 40,
                    "metadata": {},
                    "output_type": "execute_result"
                }
            ],
            "source": [
                "train_df"
            ]
        },
        {
            "cell_type": "markdown",
            "metadata": {},
            "source": [
                "$~~~~~~~~~~$- Calculate basic statistics (mean, standard deviation, min, max) of pixel intensities across all images in `test_df`."
            ]
        },
        {
            "cell_type": "code",
            "execution_count": 41,
            "metadata": {},
            "outputs": [
                {
                    "data": {
                        "text/html": [
                            "<div>\n",
                            "<style scoped>\n",
                            "    .dataframe tbody tr th:only-of-type {\n",
                            "        vertical-align: middle;\n",
                            "    }\n",
                            "\n",
                            "    .dataframe tbody tr th {\n",
                            "        vertical-align: top;\n",
                            "    }\n",
                            "\n",
                            "    .dataframe thead th {\n",
                            "        text-align: right;\n",
                            "    }\n",
                            "</style>\n",
                            "<table border=\"1\" class=\"dataframe\">\n",
                            "  <thead>\n",
                            "    <tr style=\"text-align: right;\">\n",
                            "      <th></th>\n",
                            "      <th>img</th>\n",
                            "      <th>label</th>\n",
                            "      <th>avg</th>\n",
                            "      <th>std</th>\n",
                            "      <th>min</th>\n",
                            "      <th>max</th>\n",
                            "    </tr>\n",
                            "  </thead>\n",
                            "  <tbody>\n",
                            "    <tr>\n",
                            "      <th>0</th>\n",
                            "      <td>[[[190, 114, 165], [172, 98, 153], [152, 83, 1...</td>\n",
                            "      <td>8</td>\n",
                            "      <td>137.809099</td>\n",
                            "      <td>43.328064</td>\n",
                            "      <td>31</td>\n",
                            "      <td>244</td>\n",
                            "    </tr>\n",
                            "    <tr>\n",
                            "      <th>1</th>\n",
                            "      <td>[[[200, 159, 199], [178, 108, 165], [177, 98, ...</td>\n",
                            "      <td>4</td>\n",
                            "      <td>172.886054</td>\n",
                            "      <td>31.001875</td>\n",
                            "      <td>58</td>\n",
                            "      <td>232</td>\n",
                            "    </tr>\n",
                            "    <tr>\n",
                            "      <th>2</th>\n",
                            "      <td>[[[238, 230, 238], [232, 218, 232], [230, 214,...</td>\n",
                            "      <td>4</td>\n",
                            "      <td>191.959184</td>\n",
                            "      <td>28.550678</td>\n",
                            "      <td>65</td>\n",
                            "      <td>238</td>\n",
                            "    </tr>\n",
                            "    <tr>\n",
                            "      <th>3</th>\n",
                            "      <td>[[[196, 154, 190], [196, 149, 188], [211, 164,...</td>\n",
                            "      <td>8</td>\n",
                            "      <td>164.517007</td>\n",
                            "      <td>39.508154</td>\n",
                            "      <td>53</td>\n",
                            "      <td>246</td>\n",
                            "    </tr>\n",
                            "    <tr>\n",
                            "      <th>4</th>\n",
                            "      <td>[[[233, 214, 230], [220, 191, 215], [207, 163,...</td>\n",
                            "      <td>4</td>\n",
                            "      <td>195.914116</td>\n",
                            "      <td>43.954380</td>\n",
                            "      <td>27</td>\n",
                            "      <td>242</td>\n",
                            "    </tr>\n",
                            "    <tr>\n",
                            "      <th>...</th>\n",
                            "      <td>...</td>\n",
                            "      <td>...</td>\n",
                            "      <td>...</td>\n",
                            "      <td>...</td>\n",
                            "      <td>...</td>\n",
                            "      <td>...</td>\n",
                            "    </tr>\n",
                            "    <tr>\n",
                            "      <th>7175</th>\n",
                            "      <td>[[[190, 99, 150], [154, 81, 135], [151, 84, 14...</td>\n",
                            "      <td>8</td>\n",
                            "      <td>132.568452</td>\n",
                            "      <td>38.661683</td>\n",
                            "      <td>40</td>\n",
                            "      <td>236</td>\n",
                            "    </tr>\n",
                            "    <tr>\n",
                            "      <th>7176</th>\n",
                            "      <td>[[[188, 122, 170], [179, 117, 165], [191, 121,...</td>\n",
                            "      <td>7</td>\n",
                            "      <td>180.988946</td>\n",
                            "      <td>32.943531</td>\n",
                            "      <td>58</td>\n",
                            "      <td>245</td>\n",
                            "    </tr>\n",
                            "    <tr>\n",
                            "      <th>7177</th>\n",
                            "      <td>[[[173, 131, 180], [200, 166, 203], [178, 137,...</td>\n",
                            "      <td>4</td>\n",
                            "      <td>174.014031</td>\n",
                            "      <td>25.252185</td>\n",
                            "      <td>83</td>\n",
                            "      <td>224</td>\n",
                            "    </tr>\n",
                            "    <tr>\n",
                            "      <th>7178</th>\n",
                            "      <td>[[[132, 64, 123], [123, 61, 118], [140, 72, 13...</td>\n",
                            "      <td>8</td>\n",
                            "      <td>148.875000</td>\n",
                            "      <td>51.205714</td>\n",
                            "      <td>35</td>\n",
                            "      <td>244</td>\n",
                            "    </tr>\n",
                            "    <tr>\n",
                            "      <th>7179</th>\n",
                            "      <td>[[[145, 82, 142], [128, 70, 130], [138, 78, 13...</td>\n",
                            "      <td>8</td>\n",
                            "      <td>152.684099</td>\n",
                            "      <td>42.464993</td>\n",
                            "      <td>60</td>\n",
                            "      <td>244</td>\n",
                            "    </tr>\n",
                            "  </tbody>\n",
                            "</table>\n",
                            "<p>7180 rows × 6 columns</p>\n",
                            "</div>"
                        ],
                        "text/plain": [
                            "                                                    img  label         avg  \\\n",
                            "0     [[[190, 114, 165], [172, 98, 153], [152, 83, 1...      8  137.809099   \n",
                            "1     [[[200, 159, 199], [178, 108, 165], [177, 98, ...      4  172.886054   \n",
                            "2     [[[238, 230, 238], [232, 218, 232], [230, 214,...      4  191.959184   \n",
                            "3     [[[196, 154, 190], [196, 149, 188], [211, 164,...      8  164.517007   \n",
                            "4     [[[233, 214, 230], [220, 191, 215], [207, 163,...      4  195.914116   \n",
                            "...                                                 ...    ...         ...   \n",
                            "7175  [[[190, 99, 150], [154, 81, 135], [151, 84, 14...      8  132.568452   \n",
                            "7176  [[[188, 122, 170], [179, 117, 165], [191, 121,...      7  180.988946   \n",
                            "7177  [[[173, 131, 180], [200, 166, 203], [178, 137,...      4  174.014031   \n",
                            "7178  [[[132, 64, 123], [123, 61, 118], [140, 72, 13...      8  148.875000   \n",
                            "7179  [[[145, 82, 142], [128, 70, 130], [138, 78, 13...      8  152.684099   \n",
                            "\n",
                            "            std  min  max  \n",
                            "0     43.328064   31  244  \n",
                            "1     31.001875   58  232  \n",
                            "2     28.550678   65  238  \n",
                            "3     39.508154   53  246  \n",
                            "4     43.954380   27  242  \n",
                            "...         ...  ...  ...  \n",
                            "7175  38.661683   40  236  \n",
                            "7176  32.943531   58  245  \n",
                            "7177  25.252185   83  224  \n",
                            "7178  51.205714   35  244  \n",
                            "7179  42.464993   60  244  \n",
                            "\n",
                            "[7180 rows x 6 columns]"
                        ]
                    },
                    "execution_count": 41,
                    "metadata": {},
                    "output_type": "execute_result"
                }
            ],
            "source": [
                "for k, v in funcs.items():\n",
                "    test_df[k] = test_df['img'].apply(v)\n",
                "\n",
                "test_df"
            ]
        },
        {
            "cell_type": "markdown",
            "metadata": {},
            "source": [
                "11. **Analyzing a Correlation Between Image Intensity and Labels**\n",
                "\n",
                "    - Analyze if there is any relationship between the average pixel intensity of an image and its label for `train_df`."
            ]
        },
        {
            "cell_type": "code",
            "execution_count": 49,
            "metadata": {},
            "outputs": [
                {
                    "data": {
                        "text/html": [
                            "<div>\n",
                            "<style scoped>\n",
                            "    .dataframe tbody tr th:only-of-type {\n",
                            "        vertical-align: middle;\n",
                            "    }\n",
                            "\n",
                            "    .dataframe tbody tr th {\n",
                            "        vertical-align: top;\n",
                            "    }\n",
                            "\n",
                            "    .dataframe thead th {\n",
                            "        text-align: right;\n",
                            "    }\n",
                            "</style>\n",
                            "<table border=\"1\" class=\"dataframe\">\n",
                            "  <thead>\n",
                            "    <tr style=\"text-align: right;\">\n",
                            "      <th></th>\n",
                            "      <th>img</th>\n",
                            "      <th>label</th>\n",
                            "      <th>mean</th>\n",
                            "      <th>std</th>\n",
                            "      <th>min</th>\n",
                            "      <th>max</th>\n",
                            "      <th>avg</th>\n",
                            "    </tr>\n",
                            "  </thead>\n",
                            "  <tbody>\n",
                            "    <tr>\n",
                            "      <th>0</th>\n",
                            "      <td>[[[220, 208, 227], [219, 207, 227], [220, 207,...</td>\n",
                            "      <td>0</td>\n",
                            "      <td>216.181973</td>\n",
                            "      <td>10.620905</td>\n",
                            "      <td>164</td>\n",
                            "      <td>228</td>\n",
                            "      <td>216.181973</td>\n",
                            "    </tr>\n",
                            "    <tr>\n",
                            "      <th>1</th>\n",
                            "      <td>[[[126, 59, 119], [142, 84, 139], [174, 127, 1...</td>\n",
                            "      <td>4</td>\n",
                            "      <td>172.227041</td>\n",
                            "      <td>30.914786</td>\n",
                            "      <td>47</td>\n",
                            "      <td>235</td>\n",
                            "      <td>172.227041</td>\n",
                            "    </tr>\n",
                            "    <tr>\n",
                            "      <th>2</th>\n",
                            "      <td>[[[223, 168, 204], [223, 166, 203], [218, 170,...</td>\n",
                            "      <td>7</td>\n",
                            "      <td>189.426871</td>\n",
                            "      <td>25.896489</td>\n",
                            "      <td>80</td>\n",
                            "      <td>237</td>\n",
                            "      <td>189.426871</td>\n",
                            "    </tr>\n",
                            "    <tr>\n",
                            "      <th>3</th>\n",
                            "      <td>[[[216, 135, 183], [216, 127, 178], [213, 125,...</td>\n",
                            "      <td>5</td>\n",
                            "      <td>175.971939</td>\n",
                            "      <td>34.330515</td>\n",
                            "      <td>86</td>\n",
                            "      <td>234</td>\n",
                            "      <td>175.971939</td>\n",
                            "    </tr>\n",
                            "    <tr>\n",
                            "      <th>4</th>\n",
                            "      <td>[[[204, 124, 177], [204, 116, 170], [211, 149,...</td>\n",
                            "      <td>5</td>\n",
                            "      <td>187.073129</td>\n",
                            "      <td>33.331816</td>\n",
                            "      <td>71</td>\n",
                            "      <td>243</td>\n",
                            "      <td>187.073129</td>\n",
                            "    </tr>\n",
                            "    <tr>\n",
                            "      <th>...</th>\n",
                            "      <td>...</td>\n",
                            "      <td>...</td>\n",
                            "      <td>...</td>\n",
                            "      <td>...</td>\n",
                            "      <td>...</td>\n",
                            "      <td>...</td>\n",
                            "      <td>...</td>\n",
                            "    </tr>\n",
                            "    <tr>\n",
                            "      <th>89991</th>\n",
                            "      <td>[[[220, 206, 226], [219, 205, 225], [219, 205,...</td>\n",
                            "      <td>0</td>\n",
                            "      <td>203.438776</td>\n",
                            "      <td>25.845920</td>\n",
                            "      <td>33</td>\n",
                            "      <td>228</td>\n",
                            "      <td>203.438776</td>\n",
                            "    </tr>\n",
                            "    <tr>\n",
                            "      <th>89992</th>\n",
                            "      <td>[[[194, 154, 194], [198, 159, 198], [193, 151,...</td>\n",
                            "      <td>6</td>\n",
                            "      <td>188.321854</td>\n",
                            "      <td>29.076016</td>\n",
                            "      <td>75</td>\n",
                            "      <td>243</td>\n",
                            "      <td>188.321854</td>\n",
                            "    </tr>\n",
                            "    <tr>\n",
                            "      <th>89993</th>\n",
                            "      <td>[[[201, 141, 191], [202, 142, 193], [191, 124,...</td>\n",
                            "      <td>2</td>\n",
                            "      <td>168.399660</td>\n",
                            "      <td>30.417645</td>\n",
                            "      <td>91</td>\n",
                            "      <td>218</td>\n",
                            "      <td>168.399660</td>\n",
                            "    </tr>\n",
                            "    <tr>\n",
                            "      <th>89994</th>\n",
                            "      <td>[[[226, 215, 229], [225, 213, 228], [192, 155,...</td>\n",
                            "      <td>0</td>\n",
                            "      <td>214.323554</td>\n",
                            "      <td>23.111225</td>\n",
                            "      <td>44</td>\n",
                            "      <td>230</td>\n",
                            "      <td>214.323554</td>\n",
                            "    </tr>\n",
                            "    <tr>\n",
                            "      <th>89995</th>\n",
                            "      <td>[[[198, 120, 174], [175, 102, 159], [209, 124,...</td>\n",
                            "      <td>2</td>\n",
                            "      <td>164.553997</td>\n",
                            "      <td>33.809560</td>\n",
                            "      <td>69</td>\n",
                            "      <td>225</td>\n",
                            "      <td>164.553997</td>\n",
                            "    </tr>\n",
                            "  </tbody>\n",
                            "</table>\n",
                            "<p>89996 rows × 7 columns</p>\n",
                            "</div>"
                        ],
                        "text/plain": [
                            "                                                     img  label        mean  \\\n",
                            "0      [[[220, 208, 227], [219, 207, 227], [220, 207,...      0  216.181973   \n",
                            "1      [[[126, 59, 119], [142, 84, 139], [174, 127, 1...      4  172.227041   \n",
                            "2      [[[223, 168, 204], [223, 166, 203], [218, 170,...      7  189.426871   \n",
                            "3      [[[216, 135, 183], [216, 127, 178], [213, 125,...      5  175.971939   \n",
                            "4      [[[204, 124, 177], [204, 116, 170], [211, 149,...      5  187.073129   \n",
                            "...                                                  ...    ...         ...   \n",
                            "89991  [[[220, 206, 226], [219, 205, 225], [219, 205,...      0  203.438776   \n",
                            "89992  [[[194, 154, 194], [198, 159, 198], [193, 151,...      6  188.321854   \n",
                            "89993  [[[201, 141, 191], [202, 142, 193], [191, 124,...      2  168.399660   \n",
                            "89994  [[[226, 215, 229], [225, 213, 228], [192, 155,...      0  214.323554   \n",
                            "89995  [[[198, 120, 174], [175, 102, 159], [209, 124,...      2  164.553997   \n",
                            "\n",
                            "             std  min  max         avg  \n",
                            "0      10.620905  164  228  216.181973  \n",
                            "1      30.914786   47  235  172.227041  \n",
                            "2      25.896489   80  237  189.426871  \n",
                            "3      34.330515   86  234  175.971939  \n",
                            "4      33.331816   71  243  187.073129  \n",
                            "...          ...  ...  ...         ...  \n",
                            "89991  25.845920   33  228  203.438776  \n",
                            "89992  29.076016   75  243  188.321854  \n",
                            "89993  30.417645   91  218  168.399660  \n",
                            "89994  23.111225   44  230  214.323554  \n",
                            "89995  33.809560   69  225  164.553997  \n",
                            "\n",
                            "[89996 rows x 7 columns]"
                        ]
                    },
                    "execution_count": 49,
                    "metadata": {},
                    "output_type": "execute_result"
                }
            ],
            "source": [
                "# Calculate the average pixel intensity for each image\n",
                "train_df['avg'] = train_df['img'].apply(lambda x: np.mean(x))\n",
                "train_df\n"
            ]
        },
        {
            "cell_type": "code",
            "execution_count": 50,
            "metadata": {},
            "outputs": [],
            "source": [
                "# Group by label and calculate the mean average intensity for each label\n",
                "mean_intensity_by_label = train_df.groupby('label')['avg'].mean().reset_index()\n"
            ]
        },
        {
            "cell_type": "code",
            "execution_count": 51,
            "metadata": {},
            "outputs": [
                {
                    "name": "stdout",
                    "output_type": "stream",
                    "text": [
                        "label      0      1      2      3      4      5      6      7      8\n",
                        "label                                                               \n",
                        "0      False   True   True   True   True   True   True   True   True\n",
                        "1       True  False   True   True   True   True   True   True   True\n",
                        "2       True   True  False   True   True   True   True   True   True\n",
                        "3       True   True   True  False   True   True   True   True   True\n",
                        "4       True   True   True   True  False   True   True   True   True\n",
                        "5       True   True   True   True   True  False   True   True   True\n",
                        "6       True   True   True   True   True   True  False   True   True\n",
                        "7       True   True   True   True   True   True   True  False   True\n",
                        "8       True   True   True   True   True   True   True   True  False\n"
                    ]
                }
            ],
            "source": [
                "# Pivot the table for heatmap\n",
                "heatmap_data = mean_intensity_by_label.pivot_table(index='label', columns='label', values='avg')\n",
                "\n",
                "# Check for NaN values in the DataFrame\n",
                "nan_check = heatmap_data.isna()\n",
                "print(nan_check)\n",
                "\n",
                "\n",
                "\n"
            ]
        },
        {
            "cell_type": "code",
            "execution_count": 52,
            "metadata": {},
            "outputs": [
                {
                    "name": "stdout",
                    "output_type": "stream",
                    "text": [
                        "NaN counts per column:\n",
                        " label\n",
                        "0    8\n",
                        "1    8\n",
                        "2    8\n",
                        "3    8\n",
                        "4    8\n",
                        "5    8\n",
                        "6    8\n",
                        "7    8\n",
                        "8    8\n",
                        "dtype: int64\n",
                        "NaN counts per row:\n",
                        " label\n",
                        "0    8\n",
                        "1    8\n",
                        "2    8\n",
                        "3    8\n",
                        "4    8\n",
                        "5    8\n",
                        "6    8\n",
                        "7    8\n",
                        "8    8\n",
                        "dtype: int64\n"
                    ]
                }
            ],
            "source": [
                "# Count NaN values per column\n",
                "nan_counts_per_column = heatmap_data.isna().sum()\n",
                "print(\"NaN counts per column:\\n\", nan_counts_per_column)\n",
                "\n",
                "# Count NaN values per row\n",
                "nan_counts_per_row = heatmap_data.isna().sum(axis=1)\n",
                "print(\"NaN counts per row:\\n\", nan_counts_per_row)\n"
            ]
        },
        {
            "cell_type": "code",
            "execution_count": 53,
            "metadata": {},
            "outputs": [
                {
                    "data": {
                        "text/plain": [
                            "label\n",
                            "0    207.608257\n",
                            "1    142.267858\n",
                            "2    165.076369\n",
                            "3    156.926722\n",
                            "4    180.911779\n",
                            "5    172.785425\n",
                            "6    165.692781\n",
                            "7    171.184727\n",
                            "8    157.742965\n",
                            "dtype: float64"
                        ]
                    },
                    "execution_count": 53,
                    "metadata": {},
                    "output_type": "execute_result"
                }
            ],
            "source": [
                "# Calculate mean values for each column, ignoring NaNs\n",
                "mean_values = heatmap_data.mean()\n",
                "\n",
                "\n",
                "# Fill NaN values with a specific value\n",
                "heatmap_data_filled = heatmap_data.fillna(mean_values)\n",
                "\n",
                "\n",
                "mean_values"
            ]
        },
        {
            "cell_type": "code",
            "execution_count": 54,
            "metadata": {},
            "outputs": [
                {
                    "data": {
                        "image/png": "[encoded data removed]",
                        "text/plain": [
                            "<Figure size 640x480 with 2 Axes>"
                        ]
                    },
                    "metadata": {},
                    "output_type": "display_data"
                }
            ],
            "source": [
                "corr = train_df.drop(columns='img').corr()\n",
                "sns.heatmap(corr, annot=True, fmt='.2f', cbar=True)\n",
                "plt.show()"
            ]
        },
        {
            "cell_type": "markdown",
            "metadata": {},
            "source": [
                "$~~~~~~~~~~$- Analyze if there is any relationship between the average pixel intensity of an image and its label for `test_df`."
            ]
        },
        {
            "cell_type": "code",
            "execution_count": 55,
            "metadata": {},
            "outputs": [
                {
                    "data": {
                        "image/png": "[encoded data removed]",
                        "text/plain": [
                            "<Figure size 640x480 with 2 Axes>"
                        ]
                    },
                    "metadata": {},
                    "output_type": "display_data"
                }
            ],
            "source": [
                "corr = test_df.drop(columns='img').corr()\n",
                "sns.heatmap(corr, annot=True, fmt='.2f', cbar=True)\n",
                "plt.show()"
            ]
        },
        {
            "cell_type": "code",
            "execution_count": 56,
            "metadata": {},
            "outputs": [
                {
                    "name": "stderr",
                    "output_type": "stream",
                    "text": [
                        "/tmp/ipykernel_31110/1280564718.py:8: FutureWarning: \n",
                        "\n",
                        "Passing `palette` without assigning `hue` is deprecated and will be removed in v0.14.0. Assign the `x` variable to `hue` and set `legend=False` for the same effect.\n",
                        "\n",
                        "  sns.barplot(x=label_intensity_mean.index, y=label_intensity_mean.values, palette='viridis')\n"
                    ]
                },
                {
                    "data": {
                        "image/png": "[encoded data removed]",
                        "text/plain": [
                            "<Figure size 1000x600 with 1 Axes>"
                        ]
                    },
                    "metadata": {},
                    "output_type": "display_data"
                }
            ],
            "source": [
                "import matplotlib.pyplot as plt\n",
                "import seaborn as sns\n",
                "# Group by label and calculate the mean of average pixel intensity\n",
                "label_intensity_mean = train_df.groupby('label')['mean'].mean()\n",
                "\n",
                "# Plot the relationship between label and average pixel intensity\n",
                "plt.figure(figsize=(10, 6))\n",
                "sns.barplot(x=label_intensity_mean.index, y=label_intensity_mean.values, palette='viridis')\n",
                "plt.title('Average Pixel Intensity by Label')\n",
                "plt.xlabel('Label')\n",
                "plt.ylabel('Average Pixel Intensity')\n",
                "plt.show()"
            ]
        },
        {
            "cell_type": "markdown",
            "metadata": {},
            "source": [
                "## Step 6: Build the model and optimize it\n",
                "<span style=\"color: red;\">**TODO: Use `train_df` and `test_df` to train and evaluate your model. <u>DO NOT</u> use `train_loader` and `test_loader` since `DataLoader`/`DataClass` objects were not covered in this course.**</span>"
            ]
        },
        {
            "cell_type": "markdown",
            "metadata": {},
            "source": [
                "### 6.1 Prepare the Data\n",
                "\n",
                "- **Extract Features and Labels:** You'll need to separate your features (images) and labels in both dataframes."
            ]
        },
        {
            "cell_type": "code",
            "execution_count": null,
            "metadata": {},
            "outputs": [],
            "source": [
                "import pandas as pd\n",
                "import numpy as np\n",
                "import seaborn as sns\n",
                "import matplotlib.pyplot as plt\n",
                "from tqdm import tqdm\n",
                "import pickle\n",
                "from sklearn.cluster import KMeans\n",
                "from keras import Sequential\n",
                "from keras.layers import Conv2D, MaxPool2D, Flatten, Dense, BatchNormalization\n",
                "from keras.utils import to_categorical\n",
                "import tensorflow as tf\n",
                "import warnings"
            ]
        },
        {
            "cell_type": "code",
            "execution_count": 12,
            "metadata": {},
            "outputs": [],
            "source": [
                "def batch(batch_size, drop_last=True, test=False, skip=None):\n",
                "    if skip is None:\n",
                "        df = train_df if not test else test_df\n",
                "    else:\n",
                "        df = skip\n",
                "        print(1)\n",
                "    def generator():\n",
                "        for img, label, group in zip(df['img'].values, df['label'].values, df['group'].values):\n",
                "            img = tf.convert_to_tensor(img.astype(np.float32))\n",
                "            label = tf.convert_to_tensor(label, dtype=tf.float32)\n",
                "            label = to_categorical(label, num_classes=9)\n",
                "            group = tf.convert_to_tensor(group, dtype=tf.int64)\n",
                "            yield img, label, group\n",
                "\n",
                "    dataset = tf.data.Dataset.from_generator(\n",
                "        generator,\n",
                "        output_signature=(\n",
                "            tf.TensorSpec(shape=(None, None, 3), dtype=tf.float32),\n",
                "            tf.TensorSpec(shape=(9,), dtype=tf.float32),\n",
                "            tf.TensorSpec(shape=(), dtype=tf.int64)\n",
                "        )\n",
                "    )\n",
                "\n",
                "#The batching process of the DataSet yields a generator in place of a Data loader that sends\n",
                "#targets and features to the right place down the line automatically, hence why I'm doing it\n",
                "#this way.\n"
            ]
        },
        {
            "cell_type": "markdown",
            "metadata": {},
            "source": [
                "- **Preprocess the Images:** Ensure your images are in the correct format and shape. Most machine learning libraries require images to be in a numerical array format (e.g., NumPy arrays) and of consistent size."
            ]
        },
        {
            "cell_type": "code",
            "execution_count": 8,
            "metadata": {},
            "outputs": [],
            "source": [
                "with open('../models/kmodel.dat', 'rb') as file:\n",
                "    kmodel = pickle.load(file)\n",
                "\n",
                "def preprocess(img):\n",
                "    red, green, blue = img[:, :, 0].flatten().tolist(), img[:, :, 1].flatten().tolist(), img[:, :,\n",
                "                                                                                            2].flatten().tolist()\n",
                "    colors = {'red': red, 'green': green, 'blue': blue}\n",
                "    funcs = {'_avg': np.mean, '_std': np.std, '_max': np.max, '_min': np.min}\n",
                "    results = {}\n",
                "    for _name, func in funcs.items():\n",
                "        for name, color in colors.items():\n",
                "            results[name + _name] = func(color)\n",
                "    model_num = kmodel.predict(pd.DataFrame(results, index=[0]))[0]\n",
                "    img = img / 255.0\n",
                "    img = img.astype('float32')\n",
                "    return img, model_num\n",
                "\n",
                "def prepare():\n",
                "    img = train_df['img'].apply(preprocess)\n",
                "    train_df['img'] = [i[0] for i in img]\n",
                "    train_df['group'] = [i[1] for i in img]\n",
                "    img = test_df['img'].apply(preprocess)\n",
                "    test_df['img'] = [i[0] for i in img]\n",
                "    test_df['group'] = [i[1] for i in img]\n",
                "    train_df['label'] = [i[0] for i in train_df['label']]\n",
                "    train_df['label'] = to_categorical(train_df['label'], num_classes=9)\n",
                "    test_df['label'] = [i[0] for i in test_df['label']]\n",
                "    test_df['label'] = to_categorical(test_df['label'], num_classes=9)\n",
                "\n",
                "#Here, the images are preprocessed, normalized and run through the previously trained KMeans model, assigning\n",
                "#a group number representing which small scale CNN will handle the classification process."
            ]
        },
        {
            "cell_type": "markdown",
            "metadata": {},
            "source": [
                "- **Normalize the Data (Optional):** Normalize your pixel values if necessary, especially if using a neural network"
            ]
        },
        {
            "cell_type": "markdown",
            "metadata": {},
            "source": [
                "### 6.2 Choose a Model"
            ]
        },
        {
            "cell_type": "code",
            "execution_count": 60,
            "metadata": {},
            "outputs": [],
            "source": [
                "#So, we're going with a combinationof a KMeans model, and 4 scaled down VGG16's.\n",
                "#The number of models was selected after an elbow test, and I scaled them down to both save\n",
                "#computational resources, particularly after training, and because of the dimensions of the input \n",
                "#images.  At 28x28, the typical 4 layer approach would condense the information past the point of \n",
                "#diminishing returns.\n"
            ]
        },
        {
            "cell_type": "code",
            "execution_count": 61,
            "metadata": {},
            "outputs": [],
            "source": [
                "#CNN"
            ]
        },
        {
            "cell_type": "markdown",
            "metadata": {},
            "source": [
                "### 6.3 Build the Model"
            ]
        },
        {
            "cell_type": "code",
            "execution_count": 62,
            "metadata": {},
            "outputs": [
                {
                    "name": "stderr",
                    "output_type": "stream",
                    "text": [
                        "/home/vscode/.local/lib/python3.10/site-packages/keras/src/layers/convolutional/base_conv.py:107: UserWarning: Do not pass an `input_shape`/`input_dim` argument to a layer. When using Sequential models, prefer using an `Input(shape)` object as the first layer in the model instead.\n",
                        "  super().__init__(activity_regularizer=activity_regularizer, **kwargs)\n"
                    ]
                }
            ],
            "source": [
                "models = {i:Sequential() for i in range(4)}\n",
                "for i in models.values():\n",
                "    i.add(\n",
                "        Conv2D(input_shape=(28, 28, 3), filters=64, kernel_size=(3, 3), padding=\"same\", activation=\"relu\"))\n",
                "    i.add(Conv2D(filters=64, kernel_size=(3, 3), padding=\"same\", activation=\"relu\"))\n",
                "    i.add(BatchNormalization())\n",
                "    i.add(MaxPool2D(pool_size=(2, 2), strides=(2, 2)))\n",
                "    i.add(Conv2D(filters=128, kernel_size=(3, 3), padding=\"same\", activation=\"relu\"))\n",
                "    i.add(Conv2D(filters=128, kernel_size=(3, 3), padding=\"same\", activation=\"relu\"))\n",
                "    i.add(BatchNormalization())\n",
                "    i.add(MaxPool2D(pool_size=(2, 2), strides=(2, 2)))\n",
                "    i.add(Conv2D(filters=256, kernel_size=(3, 3), padding=\"same\", activation=\"relu\"))\n",
                "    i.add(Conv2D(filters=256, kernel_size=(3, 3), padding=\"same\", activation=\"relu\"))\n",
                "    i.add(Conv2D(filters=256, kernel_size=(3, 3), padding=\"same\", activation=\"relu\"))\n",
                "    i.add(BatchNormalization())\n",
                "    i.add(MaxPool2D(pool_size=(2, 2), strides=(2, 2)))\n",
                "    i.add(Flatten())\n",
                "    i.add(Dense(units=4096, activation=\"relu\"))\n",
                "    i.add(Dense(units=4096, activation=\"relu\"))\n",
                "    i.add(Dense(units=9, activation=\"softmax\"))\n",
                "    i.compile(loss='categorical_crossentropy', optimizer=tf.keras.optimizers.Adam(learning_rate=2e-3),\n",
                "                metrics=['accuracy'])\n",
                "#Since there's 4 models, it's easier to compile them in the same loop I build them, so I just combined \n",
                "#this cell and the one below."
            ]
        },
        {
            "cell_type": "markdown",
            "metadata": {},
            "source": [
                "### 6.4 Compile the Model"
            ]
        },
        {
            "cell_type": "code",
            "execution_count": 63,
            "metadata": {},
            "outputs": [
                {
                    "data": {
                        "text/html": [
                            "<pre style=\"white-space:pre;overflow-x:auto;line-height:normal;font-family:Menlo,'DejaVu Sans Mono',consolas,'Courier New',monospace\"><span style=\"font-weight: bold\">Model: \"sequential\"</span>\n",
                            "</pre>\n"
                        ],
                        "text/plain": [
                            "\u001b[1mModel: \"sequential\"\u001b[0m\n"
                        ]
                    },
                    "metadata": {},
                    "output_type": "display_data"
                },
                {
                    "data": {
                        "text/html": [
                            "<pre style=\"white-space:pre;overflow-x:auto;line-height:normal;font-family:Menlo,'DejaVu Sans Mono',consolas,'Courier New',monospace\">┏━━━━━━━━━━━━━━━━━━━━━━━━━━━━━━━━━┳━━━━━━━━━━━━━━━━━━━━━━━━┳━━━━━━━━━━━━━━━┓\n",
                            "┃<span style=\"font-weight: bold\"> Layer (type)                    </span>┃<span style=\"font-weight: bold\"> Output Shape           </span>┃<span style=\"font-weight: bold\">       Param # </span>┃\n",
                            "┡━━━━━━━━━━━━━━━━━━━━━━━━━━━━━━━━━╇━━━━━━━━━━━━━━━━━━━━━━━━╇━━━━━━━━━━━━━━━┩\n",
                            "│ conv2d (<span style=\"color: #0087ff; text-decoration-color: #0087ff\">Conv2D</span>)                 │ (<span style=\"color: #00d7ff; text-decoration-color: #00d7ff\">None</span>, <span style=\"color: #00af00; text-decoration-color: #00af00\">26</span>, <span style=\"color: #00af00; text-decoration-color: #00af00\">26</span>, <span style=\"color: #00af00; text-decoration-color: #00af00\">32</span>)     │           <span style=\"color: #00af00; text-decoration-color: #00af00\">896</span> │\n",
                            "├─────────────────────────────────┼────────────────────────┼───────────────┤\n",
                            "│ max_pooling2d (<span style=\"color: #0087ff; text-decoration-color: #0087ff\">MaxPooling2D</span>)    │ (<span style=\"color: #00d7ff; text-decoration-color: #00d7ff\">None</span>, <span style=\"color: #00af00; text-decoration-color: #00af00\">13</span>, <span style=\"color: #00af00; text-decoration-color: #00af00\">13</span>, <span style=\"color: #00af00; text-decoration-color: #00af00\">32</span>)     │             <span style=\"color: #00af00; text-decoration-color: #00af00\">0</span> │\n",
                            "├─────────────────────────────────┼────────────────────────┼───────────────┤\n",
                            "│ conv2d_1 (<span style=\"color: #0087ff; text-decoration-color: #0087ff\">Conv2D</span>)               │ (<span style=\"color: #00d7ff; text-decoration-color: #00d7ff\">None</span>, <span style=\"color: #00af00; text-decoration-color: #00af00\">11</span>, <span style=\"color: #00af00; text-decoration-color: #00af00\">11</span>, <span style=\"color: #00af00; text-decoration-color: #00af00\">64</span>)     │        <span style=\"color: #00af00; text-decoration-color: #00af00\">18,496</span> │\n",
                            "├─────────────────────────────────┼────────────────────────┼───────────────┤\n",
                            "│ max_pooling2d_1 (<span style=\"color: #0087ff; text-decoration-color: #0087ff\">MaxPooling2D</span>)  │ (<span style=\"color: #00d7ff; text-decoration-color: #00d7ff\">None</span>, <span style=\"color: #00af00; text-decoration-color: #00af00\">5</span>, <span style=\"color: #00af00; text-decoration-color: #00af00\">5</span>, <span style=\"color: #00af00; text-decoration-color: #00af00\">64</span>)       │             <span style=\"color: #00af00; text-decoration-color: #00af00\">0</span> │\n",
                            "├─────────────────────────────────┼────────────────────────┼───────────────┤\n",
                            "│ conv2d_2 (<span style=\"color: #0087ff; text-decoration-color: #0087ff\">Conv2D</span>)               │ (<span style=\"color: #00d7ff; text-decoration-color: #00d7ff\">None</span>, <span style=\"color: #00af00; text-decoration-color: #00af00\">3</span>, <span style=\"color: #00af00; text-decoration-color: #00af00\">3</span>, <span style=\"color: #00af00; text-decoration-color: #00af00\">128</span>)      │        <span style=\"color: #00af00; text-decoration-color: #00af00\">73,856</span> │\n",
                            "├─────────────────────────────────┼────────────────────────┼───────────────┤\n",
                            "│ max_pooling2d_2 (<span style=\"color: #0087ff; text-decoration-color: #0087ff\">MaxPooling2D</span>)  │ (<span style=\"color: #00d7ff; text-decoration-color: #00d7ff\">None</span>, <span style=\"color: #00af00; text-decoration-color: #00af00\">1</span>, <span style=\"color: #00af00; text-decoration-color: #00af00\">1</span>, <span style=\"color: #00af00; text-decoration-color: #00af00\">128</span>)      │             <span style=\"color: #00af00; text-decoration-color: #00af00\">0</span> │\n",
                            "├─────────────────────────────────┼────────────────────────┼───────────────┤\n",
                            "│ flatten (<span style=\"color: #0087ff; text-decoration-color: #0087ff\">Flatten</span>)               │ (<span style=\"color: #00d7ff; text-decoration-color: #00d7ff\">None</span>, <span style=\"color: #00af00; text-decoration-color: #00af00\">128</span>)            │             <span style=\"color: #00af00; text-decoration-color: #00af00\">0</span> │\n",
                            "├─────────────────────────────────┼────────────────────────┼───────────────┤\n",
                            "│ dense (<span style=\"color: #0087ff; text-decoration-color: #0087ff\">Dense</span>)                   │ (<span style=\"color: #00d7ff; text-decoration-color: #00d7ff\">None</span>, <span style=\"color: #00af00; text-decoration-color: #00af00\">128</span>)            │        <span style=\"color: #00af00; text-decoration-color: #00af00\">16,512</span> │\n",
                            "├─────────────────────────────────┼────────────────────────┼───────────────┤\n",
                            "│ dense_1 (<span style=\"color: #0087ff; text-decoration-color: #0087ff\">Dense</span>)                 │ (<span style=\"color: #00d7ff; text-decoration-color: #00d7ff\">None</span>, <span style=\"color: #00af00; text-decoration-color: #00af00\">64</span>)             │         <span style=\"color: #00af00; text-decoration-color: #00af00\">8,256</span> │\n",
                            "├─────────────────────────────────┼────────────────────────┼───────────────┤\n",
                            "│ dense_2 (<span style=\"color: #0087ff; text-decoration-color: #0087ff\">Dense</span>)                 │ (<span style=\"color: #00d7ff; text-decoration-color: #00d7ff\">None</span>, <span style=\"color: #00af00; text-decoration-color: #00af00\">9</span>)              │           <span style=\"color: #00af00; text-decoration-color: #00af00\">585</span> │\n",
                            "└─────────────────────────────────┴────────────────────────┴───────────────┘\n",
                            "</pre>\n"
                        ],
                        "text/plain": [
                            "┏━━━━━━━━━━━━━━━━━━━━━━━━━━━━━━━━━┳━━━━━━━━━━━━━━━━━━━━━━━━┳━━━━━━━━━━━━━━━┓\n",
                            "┃\u001b[1m \u001b[0m\u001b[1mLayer (type)                   \u001b[0m\u001b[1m \u001b[0m┃\u001b[1m \u001b[0m\u001b[1mOutput Shape          \u001b[0m\u001b[1m \u001b[0m┃\u001b[1m \u001b[0m\u001b[1m      Param #\u001b[0m\u001b[1m \u001b[0m┃\n",
                            "┡━━━━━━━━━━━━━━━━━━━━━━━━━━━━━━━━━╇━━━━━━━━━━━━━━━━━━━━━━━━╇━━━━━━━━━━━━━━━┩\n",
                            "│ conv2d (\u001b[38;5;33mConv2D\u001b[0m)                 │ (\u001b[38;5;45mNone\u001b[0m, \u001b[38;5;34m26\u001b[0m, \u001b[38;5;34m26\u001b[0m, \u001b[38;5;34m32\u001b[0m)     │           \u001b[38;5;34m896\u001b[0m │\n",
                            "├─────────────────────────────────┼────────────────────────┼───────────────┤\n",
                            "│ max_pooling2d (\u001b[38;5;33mMaxPooling2D\u001b[0m)    │ (\u001b[38;5;45mNone\u001b[0m, \u001b[38;5;34m13\u001b[0m, \u001b[38;5;34m13\u001b[0m, \u001b[38;5;34m32\u001b[0m)     │             \u001b[38;5;34m0\u001b[0m │\n",
                            "├─────────────────────────────────┼────────────────────────┼───────────────┤\n",
                            "│ conv2d_1 (\u001b[38;5;33mConv2D\u001b[0m)               │ (\u001b[38;5;45mNone\u001b[0m, \u001b[38;5;34m11\u001b[0m, \u001b[38;5;34m11\u001b[0m, \u001b[38;5;34m64\u001b[0m)     │        \u001b[38;5;34m18,496\u001b[0m │\n",
                            "├─────────────────────────────────┼────────────────────────┼───────────────┤\n",
                            "│ max_pooling2d_1 (\u001b[38;5;33mMaxPooling2D\u001b[0m)  │ (\u001b[38;5;45mNone\u001b[0m, \u001b[38;5;34m5\u001b[0m, \u001b[38;5;34m5\u001b[0m, \u001b[38;5;34m64\u001b[0m)       │             \u001b[38;5;34m0\u001b[0m │\n",
                            "├─────────────────────────────────┼────────────────────────┼───────────────┤\n",
                            "│ conv2d_2 (\u001b[38;5;33mConv2D\u001b[0m)               │ (\u001b[38;5;45mNone\u001b[0m, \u001b[38;5;34m3\u001b[0m, \u001b[38;5;34m3\u001b[0m, \u001b[38;5;34m128\u001b[0m)      │        \u001b[38;5;34m73,856\u001b[0m │\n",
                            "├─────────────────────────────────┼────────────────────────┼───────────────┤\n",
                            "│ max_pooling2d_2 (\u001b[38;5;33mMaxPooling2D\u001b[0m)  │ (\u001b[38;5;45mNone\u001b[0m, \u001b[38;5;34m1\u001b[0m, \u001b[38;5;34m1\u001b[0m, \u001b[38;5;34m128\u001b[0m)      │             \u001b[38;5;34m0\u001b[0m │\n",
                            "├─────────────────────────────────┼────────────────────────┼───────────────┤\n",
                            "│ flatten (\u001b[38;5;33mFlatten\u001b[0m)               │ (\u001b[38;5;45mNone\u001b[0m, \u001b[38;5;34m128\u001b[0m)            │             \u001b[38;5;34m0\u001b[0m │\n",
                            "├─────────────────────────────────┼────────────────────────┼───────────────┤\n",
                            "│ dense (\u001b[38;5;33mDense\u001b[0m)                   │ (\u001b[38;5;45mNone\u001b[0m, \u001b[38;5;34m128\u001b[0m)            │        \u001b[38;5;34m16,512\u001b[0m │\n",
                            "├─────────────────────────────────┼────────────────────────┼───────────────┤\n",
                            "│ dense_1 (\u001b[38;5;33mDense\u001b[0m)                 │ (\u001b[38;5;45mNone\u001b[0m, \u001b[38;5;34m64\u001b[0m)             │         \u001b[38;5;34m8,256\u001b[0m │\n",
                            "├─────────────────────────────────┼────────────────────────┼───────────────┤\n",
                            "│ dense_2 (\u001b[38;5;33mDense\u001b[0m)                 │ (\u001b[38;5;45mNone\u001b[0m, \u001b[38;5;34m9\u001b[0m)              │           \u001b[38;5;34m585\u001b[0m │\n",
                            "└─────────────────────────────────┴────────────────────────┴───────────────┘\n"
                        ]
                    },
                    "metadata": {},
                    "output_type": "display_data"
                },
                {
                    "data": {
                        "text/html": [
                            "<pre style=\"white-space:pre;overflow-x:auto;line-height:normal;font-family:Menlo,'DejaVu Sans Mono',consolas,'Courier New',monospace\"><span style=\"font-weight: bold\"> Total params: </span><span style=\"color: #00af00; text-decoration-color: #00af00\">118,601</span> (463.29 KB)\n",
                            "</pre>\n"
                        ],
                        "text/plain": [
                            "\u001b[1m Total params: \u001b[0m\u001b[38;5;34m118,601\u001b[0m (463.29 KB)\n"
                        ]
                    },
                    "metadata": {},
                    "output_type": "display_data"
                },
                {
                    "data": {
                        "text/html": [
                            "<pre style=\"white-space:pre;overflow-x:auto;line-height:normal;font-family:Menlo,'DejaVu Sans Mono',consolas,'Courier New',monospace\"><span style=\"font-weight: bold\"> Trainable params: </span><span style=\"color: #00af00; text-decoration-color: #00af00\">118,601</span> (463.29 KB)\n",
                            "</pre>\n"
                        ],
                        "text/plain": [
                            "\u001b[1m Trainable params: \u001b[0m\u001b[38;5;34m118,601\u001b[0m (463.29 KB)\n"
                        ]
                    },
                    "metadata": {},
                    "output_type": "display_data"
                },
                {
                    "data": {
                        "text/html": [
                            "<pre style=\"white-space:pre;overflow-x:auto;line-height:normal;font-family:Menlo,'DejaVu Sans Mono',consolas,'Courier New',monospace\"><span style=\"font-weight: bold\"> Non-trainable params: </span><span style=\"color: #00af00; text-decoration-color: #00af00\">0</span> (0.00 B)\n",
                            "</pre>\n"
                        ],
                        "text/plain": [
                            "\u001b[1m Non-trainable params: \u001b[0m\u001b[38;5;34m0\u001b[0m (0.00 B)\n"
                        ]
                    },
                    "metadata": {},
                    "output_type": "display_data"
                },
                {
                    "ename": "",
                    "evalue": "",
                    "output_type": "error",
                    "traceback": [
                        "\u001b[1;31mThe Kernel crashed while executing code in the current cell or a previous cell. \n",
                        "\u001b[1;31mPlease review the code in the cell(s) to identify a possible cause of the failure. \n",
                        "\u001b[1;31mClick <a href='https://aka.ms/vscodeJupyterKernelCrash'>here</a> for more info. \n",
                        "\u001b[1;31mView Jupyter <a href='command:jupyter.viewOutput'>log</a> for further details."
                    ]
                }
            ],
            "source": [
                "#One of the groups is almost exclusively filled with one class (97.5%) and is in fact missing \n",
                "#several classes entirely, and as a result, in training the corresponding model struggles to converge.\n",
                "#I found that weighting it with the total ratio of each class in the dataset divided by the ratio\n",
                "#of each class in the group.  It both brings up the outliers to be slightly more statistically \n",
                "#relevant while still ensuring that the main class is appropriately represented, so I'm stealing this\n",
                "#cell to preload that real quick.\n",
                "\n",
                "with open('../models/weights.dat', 'rb') as file:\n",
                "    weights = pickle.load(file)\n",
                "for i in weights.keys():\n",
                "    if i == 1:\n",
                "        original_weights, original_bias = self.models[i].layers[-1].get_weights()\n",
                "        if len(self.weights[i]) != 9:\n",
                "            self.weights[i].insert(0, 0)\n",
                "            self.weights[i].insert(3, 0)\n",
                "            self.weights[i].insert(6, 0)\n",
                "        mod_weights = original_weights * np.array(self.weights[i]).reshape(1, 9)\n",
                "        self.models[i].layers[-1].set_weights([mod_weights, original_bias])"
            ]
        },
        {
            "cell_type": "markdown",
            "metadata": {},
            "source": [
                "### 6.5 Train the Model"
            ]
        },
        {
            "cell_type": "code",
            "execution_count": 9,
            "metadata": {},
            "outputs": [],
            "source": [
                "# First comes the custom learning rate scheduler.  It lowers the learning rate by 10 percent each \n",
                "# time the loss comes in lower than the previous epoch, and increases it by 10 percent otherwise, \n",
                "# up to a cap marked by the original learning rate (2e-3, in this case)\n",
                "\n",
                "class LRSched(tf.keras.callbacks.Callback):\n",
                "    def __init__(self, models):\n",
                "        super().__init__()\n",
                "        self.models = models\n",
                "        self.base_lrs = {i: model.optimizer.learning_rate.numpy() for i, model in models.items()}\n",
                "        self.previous_losses = {i: float('inf') for i in models.keys()}\n",
                "\n",
                "    def on_epoch_end(self, epoch, logs=None):\n",
                "        for i, model in self.models.items():\n",
                "            current_lr = model.optimizer.learning_rate.numpy()\n",
                "            val_loss = logs.get(f'val_loss_{i}', None)\n",
                "            if val_loss is not None:\n",
                "                if val_loss < self.previous_losses[i]:\n",
                "                    new_lr = current_lr * 0.9\n",
                "                else:\n",
                "                    new_lr = min(current_lr * 1.1, self.base_lrs[i])\n",
                "                model.optimizer.learning_rate.assign(new_lr)\n",
                "                self.previous_losses[i] = val_loss\n",
                "\n",
                "# lrs = LRSched(models)\n",
                "\n",
                "# To ensure that this doesn't consume extra memory during testing, I just run the kmodel on all the \n",
                "# data up front during preprocessing, however, it will be linked directly in the pipeline for a \n",
                "# web application\n",
                "\n",
                "prepare()\n",
                "\n",
                "# Since I am doing this in epochs, and I use validation to try to accelerate results and avoid over-\n",
                "# fitting, the following will run through the entire training cycle in a single loop, including \n",
                "# evaluation.\n",
                "\n",
                "epochs = 20\n",
                "batch_size = 256\n",
                "patience = 6\n",
                "best_acc = 0\n",
                "# model_skip = []\n",
                "# save_count = 0\n",
                "# for epoch in range(epochs):\n",
                "#     if len(model_skip) == len(models):\n",
                "#         with open('../models/models.dat', 'wb') as file:\n",
                "#             pickle.dump(models, file)\n",
                "#         break\n",
                "#     print(f'Epoch {epoch + 1}/{epochs}')\n",
                "#     count = 0\n",
                "#     losses = {i: [] for i in range(4)}\n",
                "#     accuracies = {i: [] for i in range(4)}\n",
                "#     for images, (labels, model_idx) in tqdm(batch(batch_size),\n",
                "#                                             total=len(train_df) // batch_size,\n",
                "#                                             desc=f'Training Epoch {epoch + 1}'):\n",
                "#         count += 1\n",
                "#         tf.keras.backend.clear_session()\n",
                "#         model_idx = model_idx.numpy()[0]\n",
                "#         if model_idx in self.model_skip:\n",
                "#             continue\n",
                "#         if len(images) > 0:\n",
                "#             with tf.profiler.experimental.Trace('train_step', step_num=count, _r=1):\n",
                "#                 loss, acc = models[model_idx].train_on_batch(images, labels)\n",
                "#                 losses[model_idx].append(loss)\n",
                "#                 accuracies[model_idx].append(acc)\n",
                "#     for i in losses.keys():\n",
                "#         if len(losses[i]) != 0:\n",
                "#             print(\n",
                "#                 f'Model {i}: \\nLoss: {sum(losses[i]) / len(losses[i])}\\nAccuracy: {sum(accuracies[i]) / len(accuracies[i])}')\n",
                "#     total_test_loss = 0\n",
                "#     total_test_acc = 0\n",
                "#     num_batches = 0\n",
                "#     losses = {i: [] for i in range(4)}\n",
                "#     accuracies = {i: [] for i in range(4)}\n",
                "#     val_losses = {i: [] for i in range(4)}\n",
                "#     for images, (labels, model_idx) in tqdm(batch(batch_size, test=True),\n",
                "#                                             total=len(test_df) // batch_size,\n",
                "#                                             desc=f'Validation Epoch {epoch + 1}'):\n",
                "#         tf.keras.backend.clear_session()\n",
                "#         if len(images) > 0:\n",
                "#             model_idx = model_idx.numpy()[0]\n",
                "#             preds = models[model_idx].predict_on_batch(images)\n",
                "#             val_loss = models[model_idx].evaluate(images, labels, verbose=0)[0]\n",
                "#             losses[model_idx].append(val_loss)\n",
                "#             val_losses[model_idx].append(val_loss)\n",
                "#             total_test_loss += val_loss\n",
                "#             preds = np.argmax(preds, axis=-1)\n",
                "#             labels = np.argmax(labels, axis=-1)\n",
                "#             acc = np.mean(preds == labels)\n",
                "#             accuracies[model_idx].append(acc)\n",
                "#             total_test_acc += acc\n",
                "#             num_batches += 1\n",
                "#     logs = {f'val_loss_{model_idx}': sum(val_losses[model_idx]) / len(val_losses[model_idx]) for model_idx\n",
                "#             in self.models.keys()}\n",
                "#     lrs.on_epoch_end(epoch, logs)\n",
                "#     avg_test_loss = total_test_loss / num_batches\n",
                "#     avg_test_acc = total_test_acc / num_batches\n",
                "#     print(f'Test Loss: {avg_test_loss}\\nTest Accuracy: {avg_test_acc}')\n",
                "#     for i in losses.keys():\n",
                "#         if len(losses[i]) != 0:\n",
                "#             if sum(losses[i]) / len(losses[i]) < .9 < sum(accuracies[i]) / len(\n",
                "#                     accuracies[i]) and i not in model_skip:\n",
                "#                 model_skip.append(i)\n",
                "#             print(\n",
                "#                 f'Model {i}:\\nLoss: {sum(losses[i]) / len(losses[i])}\\nAccuracy: {sum(accuracies[i]) / len(accuracies[i])}')\n",
                "#     if avg_test_acc > best_acc:\n",
                "#         with open(f'../models/{save_count}models.dat', 'wb') as file:\n",
                "#             pickle.dump(self.models, file)\n",
                "#         save_count += 1\n",
                "\n",
                "# Not going to lie.  Not sure how you're wanting us to divide training, evaluation, and making \n",
                "# predictions.  Evaluation as part of the process makes training more efficient, and making \n",
                "# predictions is just another way of saying evaluation to my understanding.  The preceding loop \n",
                "# makes use of the loss and accuracy scores from the evaluation set to determine the progress being \n",
                "# made by the model as a whole, not solely on the training set, and react in kind to alter the \n",
                "# learning rate or stop training the model entirely to circumvent over-fitting.\n"
            ]
        },
        {
            "cell_type": "markdown",
            "metadata": {},
            "source": [
                "### 6.6 Evaluate the Model"
            ]
        },
        {
            "cell_type": "code",
            "execution_count": 16,
            "metadata": {},
            "outputs": [
                {
                    "name": "stdout",
                    "output_type": "stream",
                    "text": [
                        "<class 'pandas.core.frame.DataFrame'>\n",
                        "Index: 3825 entries, 0 to 7179\n",
                        "Data columns (total 3 columns):\n",
                        " #   Column  Non-Null Count  Dtype  \n",
                        "---  ------  --------------  -----  \n",
                        " 0   img     3825 non-null   object \n",
                        " 1   label   3825 non-null   float64\n",
                        " 2   group   3825 non-null   int32  \n",
                        "dtypes: float64(1), int32(1), object(1)\n",
                        "memory usage: 104.6+ KB\n"
                    ]
                }
            ],
            "source": [
                "data = test_df.loc[test_df['group'] == 0]\n"
            ]
        },
        {
            "cell_type": "markdown",
            "metadata": {},
            "source": [
                "### 6.7 Make Predictions\n",
                "Use your model to make a predictions for `X_test`."
            ]
        },
        {
            "cell_type": "code",
            "execution_count": 1,
            "metadata": {},
            "outputs": [
                {
                    "name": "stdout",
                    "output_type": "stream",
                    "text": [
                        "Using downloaded and verified file: /home/vscode/.medmnist/pathmnist.npz\n",
                        "Using downloaded and verified file: /home/vscode/.medmnist/pathmnist.npz\n"
                    ]
                },
                {
                    "name": "stderr",
                    "output_type": "stream",
                    "text": [
                        "100%|██████████| 89996/89996 [00:04<00:00, 21349.62it/s]\n",
                        "100%|██████████| 7180/7180 [00:00<00:00, 18967.81it/s]\n",
                        "2024-09-05 20:04:22.175125: E external/local_xla/xla/stream_executor/cuda/cuda_fft.cc:485] Unable to register cuFFT factory: Attempting to register factory for plugin cuFFT when one has already been registered\n",
                        "2024-09-05 20:04:24.715941: E external/local_xla/xla/stream_executor/cuda/cuda_dnn.cc:8454] Unable to register cuDNN factory: Attempting to register factory for plugin cuDNN when one has already been registered\n",
                        "2024-09-05 20:04:25.703152: E external/local_xla/xla/stream_executor/cuda/cuda_blas.cc:1452] Unable to register cuBLAS factory: Attempting to register factory for plugin cuBLAS when one has already been registered\n",
                        "2024-09-05 20:04:28.212196: I tensorflow/core/platform/cpu_feature_guard.cc:210] This TensorFlow binary is optimized to use available CPU instructions in performance-critical operations.\n",
                        "To enable the following instructions: AVX2 FMA, in other operations, rebuild TensorFlow with the appropriate compiler flags.\n",
                        "2024-09-05 20:04:36.823427: W tensorflow/compiler/tf2tensorrt/utils/py_utils.cc:38] TF-TRT Warning: Could not find TensorRT\n",
                        "2024-09-05 20:06:17.339502: W external/local_tsl/tsl/framework/cpu_allocator_impl.cc:83] Allocation of 37748736 exceeds 10% of free system memory.\n",
                        "2024-09-05 20:06:17.410970: W external/local_tsl/tsl/framework/cpu_allocator_impl.cc:83] Allocation of 37748736 exceeds 10% of free system memory.\n",
                        "2024-09-05 20:06:17.421941: W external/local_tsl/tsl/framework/cpu_allocator_impl.cc:83] Allocation of 37748736 exceeds 10% of free system memory.\n",
                        "2024-09-05 20:06:17.464204: W external/local_tsl/tsl/framework/cpu_allocator_impl.cc:83] Allocation of 67108864 exceeds 10% of free system memory.\n",
                        "2024-09-05 20:06:17.604915: W external/local_tsl/tsl/framework/cpu_allocator_impl.cc:83] Allocation of 67108864 exceeds 10% of free system memory.\n"
                    ]
                },
                {
                    "name": "stdout",
                    "output_type": "stream",
                    "text": [
                        "1 3825\n"
                    ]
                },
                {
                    "name": "stderr",
                    "output_type": "stream",
                    "text": [
                        "Validation Epoch:   0%|          | 0/14 [00:00<?, ?it/s]WARNING: All log messages before absl::InitializeLog() is called are written to STDERR\n",
                        "I0000 00:00:1725566780.468241    2154 service.cc:146] XLA service 0x7583980844f0 initialized for platform Host (this does not guarantee that XLA will be used). Devices:\n",
                        "I0000 00:00:1725566780.468400    2154 service.cc:154]   StreamExecutor device (0): Host, Default Version\n",
                        "2024-09-05 20:06:20.654419: I tensorflow/compiler/mlir/tensorflow/utils/dump_mlir_util.cc:268] disabling MLIR crash reproducer, set env var `MLIR_CRASH_REPRODUCER_DIRECTORY` to enable.\n",
                        "I0000 00:00:1725566781.525090    2154 device_compiler.h:188] Compiled cluster using XLA!  This line is logged at most once for the lifetime of the process.\n",
                        "Validation Epoch: 16it [01:14,  3.89s/it]                        2024-09-05 20:07:33.745399: I tensorflow/core/framework/local_rendezvous.cc:404] Local rendezvous is aborting with status: OUT_OF_RANGE: End of sequence\n",
                        "Validation Epoch: 16it [01:14,  4.63s/it]\n"
                    ]
                },
                {
                    "name": "stdout",
                    "output_type": "stream",
                    "text": [
                        "Model 0\n",
                        "\tTest Loss: 0.01909958312899107\n",
                        "\tTest Accuracy: 0.9965000000000002\n",
                        "1 862\n"
                    ]
                },
                {
                    "name": "stderr",
                    "output_type": "stream",
                    "text": [
                        "Validation Epoch: 4it [00:15,  3.26s/it]                       2024-09-05 20:08:02.707568: I tensorflow/core/framework/local_rendezvous.cc:404] Local rendezvous is aborting with status: OUT_OF_RANGE: End of sequence\n",
                        "Validation Epoch: 4it [00:15,  3.77s/it]\n"
                    ]
                },
                {
                    "name": "stdout",
                    "output_type": "stream",
                    "text": [
                        "Model 1\n",
                        "\tTest Loss: 0.0\n",
                        "\tTest Accuracy: 1.0\n",
                        "1 1800\n"
                    ]
                },
                {
                    "name": "stderr",
                    "output_type": "stream",
                    "text": [
                        "Validation Epoch:   0%|          | 0/7 [00:00<?, ?it/s]"
                    ]
                },
                {
                    "name": "stdout",
                    "output_type": "stream",
                    "text": [
                        "WARNING:tensorflow:5 out of the last 21 calls to <function TensorFlowTrainer.make_predict_function.<locals>.one_step_on_data_distributed at 0x7583df184dc0> triggered tf.function retracing. Tracing is expensive and the excessive number of tracings could be due to (1) creating @tf.function repeatedly in a loop, (2) passing tensors with different shapes, (3) passing Python objects instead of tensors. For (1), please define your @tf.function outside of the loop. For (2), @tf.function has reduce_retracing=True option that can avoid unnecessary retracing. For (3), please refer to https://www.tensorflow.org/guide/function#controlling_retracing and https://www.tensorflow.org/api_docs/python/tf/function for  more details.\n"
                    ]
                },
                {
                    "name": "stderr",
                    "output_type": "stream",
                    "text": [
                        "Validation Epoch: 8it [00:25,  3.17s/it]                       \n"
                    ]
                },
                {
                    "name": "stdout",
                    "output_type": "stream",
                    "text": [
                        "Model 2\n",
                        "\tTest Loss: 0.7113846763968468\n",
                        "\tTest Accuracy: 0.6295000000000001\n",
                        "1 693\n"
                    ]
                },
                {
                    "name": "stderr",
                    "output_type": "stream",
                    "text": [
                        "Validation Epoch:   0%|          | 0/2 [00:00<?, ?it/s]"
                    ]
                },
                {
                    "name": "stdout",
                    "output_type": "stream",
                    "text": [
                        "WARNING:tensorflow:5 out of the last 13 calls to <function TensorFlowTrainer.make_predict_function.<locals>.one_step_on_data_distributed at 0x7583e029a440> triggered tf.function retracing. Tracing is expensive and the excessive number of tracings could be due to (1) creating @tf.function repeatedly in a loop, (2) passing tensors with different shapes, (3) passing Python objects instead of tensors. For (1), please define your @tf.function outside of the loop. For (2), @tf.function has reduce_retracing=True option that can avoid unnecessary retracing. For (3), please refer to https://www.tensorflow.org/guide/function#controlling_retracing and https://www.tensorflow.org/api_docs/python/tf/function for  more details.\n"
                    ]
                },
                {
                    "name": "stderr",
                    "output_type": "stream",
                    "text": [
                        "Validation Epoch: 3it [00:10,  3.35s/it]                       2024-09-05 20:09:02.213128: I tensorflow/core/framework/local_rendezvous.cc:404] Local rendezvous is aborting with status: OUT_OF_RANGE: End of sequence\n",
                        "Validation Epoch: 3it [00:10,  3.60s/it]\n"
                    ]
                },
                {
                    "name": "stdout",
                    "output_type": "stream",
                    "text": [
                        "Model 3\n",
                        "\tTest Loss: 0.14033105472723642\n",
                        "\tTest Accuracy: 0.9461830742659757\n"
                    ]
                }
            ],
            "source": [
                "import medmnist\n",
                "from medmnist import INFO\n",
                "import numpy as np\n",
                "from tqdm import tqdm\n",
                "import pandas as pd\n",
                "\n",
                "data_flag = 'pathmnist'\n",
                "download = True\n",
                "info = INFO[data_flag]\n",
                "DataClass = getattr(medmnist, info['python_class'])\n",
                "\n",
                "train_dataset = DataClass(split='train', download=download)\n",
                "test_dataset = DataClass(split='test', download=download)\n",
                "train_loader = [(np.array(img), label) for img, label in tqdm(train_dataset)]\n",
                "test_loader = [(np.array(img), label) for img, label in tqdm(test_dataset)]\n",
                "train_df = pd.DataFrame(train_loader, columns=['img', 'label'])\n",
                "test_df = pd.DataFrame(test_loader, columns=['img', 'label'])\n",
                "import pandas as pd\n",
                "import numpy as np\n",
                "import seaborn as sns\n",
                "import matplotlib.pyplot as plt\n",
                "import pickle\n",
                "from sklearn.cluster import KMeans\n",
                "from keras import Sequential\n",
                "from keras.layers import Conv2D, MaxPool2D, Flatten, Dense, BatchNormalization\n",
                "from keras.utils import to_categorical\n",
                "import tensorflow as tf\n",
                "import joblib\n",
                "\n",
                "with open('../models/kmodel.dat', 'rb') as file:\n",
                "    kmodel = pickle.load(file)\n",
                "\n",
                "def preprocess(img):\n",
                "    red, green, blue = img[:, :, 0].flatten().tolist(), img[:, :, 1].flatten().tolist(), img[:, :,\n",
                "                                                                                            2].flatten().tolist()\n",
                "    colors = {'red': red, 'green': green, 'blue': blue}\n",
                "    funcs = {'_avg': np.mean, '_std': np.std, '_max': np.max, '_min': np.min}\n",
                "    results = {}\n",
                "    for _name, func in funcs.items():\n",
                "        for name, color in colors.items():\n",
                "            results[name + _name] = func(color)\n",
                "    model_num = kmodel.predict(pd.DataFrame(results, index=[0]))[0]\n",
                "    img = img / 255.0\n",
                "    img = img.astype('float32')\n",
                "    return img, model_num\n",
                "\n",
                "def prepare():\n",
                "    img = train_df['img'].apply(preprocess)\n",
                "    train_df['img'] = [i[0] for i in img]\n",
                "    train_df['group'] = [i[1] for i in img]\n",
                "    img = test_df['img'].apply(preprocess)\n",
                "    test_df['img'] = [i[0] for i in img]\n",
                "    test_df['group'] = [i[1] for i in img]\n",
                "    train_df['label'] = [i[0] for i in train_df['label']]\n",
                "    train_df['label'] = to_categorical(train_df['label'], num_classes=9)\n",
                "    test_df['label'] = [i[0] for i in test_df['label']]\n",
                "    test_df['label'] = to_categorical(test_df['label'], num_classes=9)\n",
                "\n",
                "def batch(batch_size, drop_last=True, test=False, skip=None):\n",
                "    if skip is None:\n",
                "        df = train_df if not test else test_df\n",
                "    else:\n",
                "        df = skip\n",
                "        print(1, len(df))\n",
                "    def generator():\n",
                "        for img, label, group in zip(df['img'].values, df['label'].values, df['group'].values):\n",
                "            img = tf.convert_to_tensor(img.astype(np.float32))\n",
                "            label = tf.convert_to_tensor(label, dtype=tf.float32)\n",
                "            label = to_categorical(label, num_classes=9)\n",
                "            group = tf.convert_to_tensor(group, dtype=tf.int64)\n",
                "            yield img, label, group\n",
                "\n",
                "    dataset = tf.data.Dataset.from_generator(\n",
                "        generator,\n",
                "        output_signature=(\n",
                "            tf.TensorSpec(shape=(None, None, 3), dtype=tf.float32),\n",
                "            tf.TensorSpec(shape=(9,), dtype=tf.float32),\n",
                "            tf.TensorSpec(shape=(), dtype=tf.int64)\n",
                "        )\n",
                "    )\n",
                "    dataset = dataset.batch(batch_size)\n",
                "    return iter(dataset)\n",
                "\n",
                "\n",
                "try:\n",
                "    with open('shortcut.pkl', 'rb') as file:\n",
                "        train_df, test_df = pickle.load(file)\n",
                "except FileNotFoundError:\n",
                "    prepare()\n",
                "    with open('shortcut.pkl', 'wb') as file:\n",
                "        pickle.dump([train_df, test_df], file)\n",
                "\n",
                "\n",
                "\n",
                "for i in range(4):\n",
                "    data = test_df.loc[test_df['group'] == i]\n",
                "    model = joblib.load(f'../.venv/winner{i}.joblib')\n",
                "    total_test_loss = 0\n",
                "    total_test_acc = 0\n",
                "    num_batches = 0\n",
                "    losses = []\n",
                "    accuracies = []\n",
                "    val_losses = []\n",
                "    for images, labels, model_idx in tqdm(batch(250, skip=data),\n",
                "                                            total=len(data) // 256,\n",
                "                                            desc='Validation Epoch'):\n",
                "        tf.keras.backend.clear_session()\n",
                "        if len(images) > 0:\n",
                "            preds = model.predict_on_batch(images)\n",
                "            val_loss = model.evaluate(images, labels, verbose=0)[0]\n",
                "            losses.append(val_loss)\n",
                "            val_losses.append(val_loss)\n",
                "            total_test_loss += val_loss\n",
                "            preds = np.argmax(preds, axis=-1)\n",
                "            labels = np.argmax(labels, axis=-1)\n",
                "            acc = np.mean(preds == labels)\n",
                "            accuracies.append(acc)\n",
                "            total_test_acc += acc\n",
                "            num_batches += 1\n",
                "    avg_test_loss = total_test_loss / num_batches\n",
                "    avg_test_acc = total_test_acc / num_batches\n",
                "    print(f'Model {i}\\n\\tTest Loss: {avg_test_loss}\\n\\tTest Accuracy: {avg_test_acc}')"
            ]
        },
        {
            "cell_type": "code",
            "execution_count": null,
            "metadata": {},
            "outputs": [],
            "source": []
        },
        {
            "cell_type": "code",
            "execution_count": null,
            "metadata": {},
            "outputs": [],
            "source": []
        }
    ],
    "metadata": {
        "kernelspec": {
            "display_name": "Python 3.8.13 64-bit ('3.8.13')",
            "language": "python",
            "name": "python3"
        },
        "language_info": {
            "codemirror_mode": {
                "name": "ipython",
                "version": 3
            },
            "file_extension": ".py",
            "mimetype": "text/x-python",
            "name": "python",
            "nbconvert_exporter": "python",
            "pygments_lexer": "ipython3",
            "version": "3.10.12"
        },
        "orig_nbformat": 4,
        "vscode": {
            "interpreter": {
                "hash": "110cc1dee26208153f2972f08a2ad52b6a56238dc66d48e87fb757ef2996db56"
            }
        }
    },
    "nbformat": 4,
    "nbformat_minor": 2
}
