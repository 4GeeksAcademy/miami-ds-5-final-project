{
    "cells": [
        {
            "cell_type": "markdown",
            "metadata": {},
            "source": [
                "# Machine Learning Final Project"
            ]
        },
        {
            "cell_type": "markdown",
            "metadata": {},
            "source": [
                "## Step 0: Project Ideation & Dataset Inspection"
            ]
        },
        {
            "cell_type": "markdown",
            "metadata": {},
            "source": [
                "### Instructions\n",
                "1. **Dataset Loading**:\n",
                "\n",
                "    - For each plan (e.g., Plan A, Plan B, etc.), read in the corresponding dataset.\n",
                "\n",
                "2. **Inspect the Dataset**:\n",
                "\n",
                "    - After loading the dataset, display the first few rows to understand its structure.\n",
                "\n",
                "    - Identify and list the types of fields (e.g., numerical, categorical, text).\n",
                "\n",
                "    - Attempt to identify the target variable if your project involves supervised learning."
            ]
        },
        {
            "cell_type": "markdown",
            "metadata": {},
            "source": [
                "### Plan A: Animal drug use adverse event"
            ]
        },
        {
            "cell_type": "code",
            "execution_count": 1,
            "metadata": {},
            "outputs": [
                {
                    "name": "stdout",
                    "output_type": "stream",
                    "text": [
                        "<class 'pandas.core.frame.DataFrame'>\n",
                        "Index: 74845 entries, 0 to 844\n",
                        "Data columns (total 10 columns):\n",
                        " #   Column                               Non-Null Count  Dtype \n",
                        "---  ------                               --------------  ----- \n",
                        " 0   treated_for_ae                       51922 non-null  object\n",
                        " 1   reaction                             74843 non-null  object\n",
                        " 2   time_between_exposure_and_onset      7237 non-null   object\n",
                        " 3   drug                                 74845 non-null  object\n",
                        " 4   health_assessment_prior_to_exposure  74845 non-null  object\n",
                        " 5   onset_date                           68531 non-null  object\n",
                        " 6   animal                               68776 non-null  object\n",
                        " 7   type_of_information                  74845 non-null  object\n",
                        " 8   serious_ae                           54204 non-null  object\n",
                        " 9   outcome                              56284 non-null  object\n",
                        "dtypes: object(10)\n",
                        "memory usage: 6.3+ MB\n"
                    ]
                }
            ],
            "source": [
                "# Your code here\n",
                "import pandas as pd\n",
                "import re\n",
                "import requests\n",
                "\n",
                "# Define the base URL and initial query parameters\n",
                "url = 'https://api.fda.gov/animalandveterinary/event.json?'\n",
                "search = 'search=drug.active_ingredients.name:\"Moxidectin\"&limit=1000'\n",
                "url = url + search\n",
                "\n",
                "results = []\n",
                "\n",
                "while True:\n",
                "    # Make the request to the API\n",
                "    a = requests.get(url)\n",
                "    data = a.json()\n",
                "    \n",
                "    # Convert the JSON response to a DataFrame and select specific columns\n",
                "    df = pd.DataFrame(data['results'])\n",
                "    df = df[['treated_for_ae', 'reaction', 'time_between_exposure_and_onset', 'drug', 'health_assessment_prior_to_exposure', 'onset_date', 'animal', 'type_of_information', 'serious_ae', 'outcome']]\n",
                "    results.append(df)\n",
                "    \n",
                "    # Try to get the next page URL from the 'Link' header\n",
                "    try:\n",
                "        link_header = a.headers.get('Link', '')\n",
                "        b = re.search(r'<(https[^>]+)>', link_header)\n",
                "        if b:\n",
                "            next_url = b.group(1)\n",
                "            url = next_url\n",
                "        else:\n",
                "            break\n",
                "    except Exception as e:\n",
                "        print(f\"An error occurred: {e}\")\n",
                "        break\n",
                "\n",
                "# Concatenate all DataFrames into one\n",
                "df_combined = pd.concat(results, axis=0)\n",
                "\n",
                "# Print information about the final DataFrame\n",
                "df_combined.info()"
            ]
        },
        {
            "cell_type": "code",
            "execution_count": 2,
            "metadata": {},
            "outputs": [
                {
                    "data": {
                        "text/html": [
                            "<div>\n",
                            "<style scoped>\n",
                            "    .dataframe tbody tr th:only-of-type {\n",
                            "        vertical-align: middle;\n",
                            "    }\n",
                            "\n",
                            "    .dataframe tbody tr th {\n",
                            "        vertical-align: top;\n",
                            "    }\n",
                            "\n",
                            "    .dataframe thead th {\n",
                            "        text-align: right;\n",
                            "    }\n",
                            "</style>\n",
                            "<table border=\"1\" class=\"dataframe\">\n",
                            "  <thead>\n",
                            "    <tr style=\"text-align: right;\">\n",
                            "      <th></th>\n",
                            "      <th>treated_for_ae</th>\n",
                            "      <th>reaction</th>\n",
                            "      <th>time_between_exposure_and_onset</th>\n",
                            "      <th>drug</th>\n",
                            "      <th>health_assessment_prior_to_exposure</th>\n",
                            "      <th>onset_date</th>\n",
                            "      <th>animal</th>\n",
                            "      <th>type_of_information</th>\n",
                            "      <th>serious_ae</th>\n",
                            "      <th>outcome</th>\n",
                            "    </tr>\n",
                            "  </thead>\n",
                            "  <tbody>\n",
                            "    <tr>\n",
                            "      <th>0</th>\n",
                            "      <td>false</td>\n",
                            "      <td>[{'veddra_version': '11', 'veddra_term_code': ...</td>\n",
                            "      <td>NaN</td>\n",
                            "      <td>[{'first_exposure_date': '20170915', 'last_exp...</td>\n",
                            "      <td>{'condition': 'Unknown', 'assessed_by': 'Veter...</td>\n",
                            "      <td>20170922</td>\n",
                            "      <td>{'species': 'Cattle', 'gender': 'Mixed', 'repr...</td>\n",
                            "      <td>Safety Issue</td>\n",
                            "      <td>false</td>\n",
                            "      <td>[{'medical_status': 'Outcome Unknown', 'number...</td>\n",
                            "    </tr>\n",
                            "    <tr>\n",
                            "      <th>1</th>\n",
                            "      <td>NaN</td>\n",
                            "      <td>[{'veddra_version': '11', 'veddra_term_code': ...</td>\n",
                            "      <td>NaN</td>\n",
                            "      <td>[{'route': 'Oral', 'used_according_to_label': ...</td>\n",
                            "      <td>{'assessed_by': 'Veterinarian'}</td>\n",
                            "      <td>20010717</td>\n",
                            "      <td>{'species': 'Horse', 'gender': 'Female', 'age'...</td>\n",
                            "      <td>Safety Issue</td>\n",
                            "      <td>NaN</td>\n",
                            "      <td>[{'medical_status': 'Died', 'number_of_animals...</td>\n",
                            "    </tr>\n",
                            "    <tr>\n",
                            "      <th>2</th>\n",
                            "      <td>NaN</td>\n",
                            "      <td>[{'veddra_version': '11', 'veddra_term_code': ...</td>\n",
                            "      <td>NaN</td>\n",
                            "      <td>[{'route': 'Unknown', 'lot_number': 'NOT RECOR...</td>\n",
                            "      <td>{'assessed_by': 'Veterinarian'}</td>\n",
                            "      <td>20040529</td>\n",
                            "      <td>{'species': 'Dog', 'gender': 'Female', 'reprod...</td>\n",
                            "      <td>Safety Issue</td>\n",
                            "      <td>NaN</td>\n",
                            "      <td>NaN</td>\n",
                            "    </tr>\n",
                            "    <tr>\n",
                            "      <th>3</th>\n",
                            "      <td>NaN</td>\n",
                            "      <td>[{'veddra_version': '11', 'veddra_term_code': ...</td>\n",
                            "      <td>NaN</td>\n",
                            "      <td>[{'route': 'Oral', 'used_according_to_label': ...</td>\n",
                            "      <td>{'assessed_by': 'Veterinarian'}</td>\n",
                            "      <td>19990724</td>\n",
                            "      <td>{'species': 'Horse', 'gender': 'Unknown', 'age...</td>\n",
                            "      <td>Safety Issue</td>\n",
                            "      <td>NaN</td>\n",
                            "      <td>NaN</td>\n",
                            "    </tr>\n",
                            "    <tr>\n",
                            "      <th>4</th>\n",
                            "      <td>NaN</td>\n",
                            "      <td>[{'veddra_version': '6', 'veddra_term_code': '...</td>\n",
                            "      <td>NaN</td>\n",
                            "      <td>[{'route': 'Topical', 'used_according_to_label...</td>\n",
                            "      <td>{'assessed_by': 'Veterinarian'}</td>\n",
                            "      <td>20100118</td>\n",
                            "      <td>{'species': 'Dog', 'gender': 'Female', 'age': ...</td>\n",
                            "      <td>Safety Issue</td>\n",
                            "      <td>NaN</td>\n",
                            "      <td>NaN</td>\n",
                            "    </tr>\n",
                            "  </tbody>\n",
                            "</table>\n",
                            "</div>"
                        ],
                        "text/plain": [
                            "  treated_for_ae                                           reaction  \\\n",
                            "0          false  [{'veddra_version': '11', 'veddra_term_code': ...   \n",
                            "1            NaN  [{'veddra_version': '11', 'veddra_term_code': ...   \n",
                            "2            NaN  [{'veddra_version': '11', 'veddra_term_code': ...   \n",
                            "3            NaN  [{'veddra_version': '11', 'veddra_term_code': ...   \n",
                            "4            NaN  [{'veddra_version': '6', 'veddra_term_code': '...   \n",
                            "\n",
                            "  time_between_exposure_and_onset  \\\n",
                            "0                             NaN   \n",
                            "1                             NaN   \n",
                            "2                             NaN   \n",
                            "3                             NaN   \n",
                            "4                             NaN   \n",
                            "\n",
                            "                                                drug  \\\n",
                            "0  [{'first_exposure_date': '20170915', 'last_exp...   \n",
                            "1  [{'route': 'Oral', 'used_according_to_label': ...   \n",
                            "2  [{'route': 'Unknown', 'lot_number': 'NOT RECOR...   \n",
                            "3  [{'route': 'Oral', 'used_according_to_label': ...   \n",
                            "4  [{'route': 'Topical', 'used_according_to_label...   \n",
                            "\n",
                            "                 health_assessment_prior_to_exposure onset_date  \\\n",
                            "0  {'condition': 'Unknown', 'assessed_by': 'Veter...   20170922   \n",
                            "1                    {'assessed_by': 'Veterinarian'}   20010717   \n",
                            "2                    {'assessed_by': 'Veterinarian'}   20040529   \n",
                            "3                    {'assessed_by': 'Veterinarian'}   19990724   \n",
                            "4                    {'assessed_by': 'Veterinarian'}   20100118   \n",
                            "\n",
                            "                                              animal type_of_information  \\\n",
                            "0  {'species': 'Cattle', 'gender': 'Mixed', 'repr...        Safety Issue   \n",
                            "1  {'species': 'Horse', 'gender': 'Female', 'age'...        Safety Issue   \n",
                            "2  {'species': 'Dog', 'gender': 'Female', 'reprod...        Safety Issue   \n",
                            "3  {'species': 'Horse', 'gender': 'Unknown', 'age...        Safety Issue   \n",
                            "4  {'species': 'Dog', 'gender': 'Female', 'age': ...        Safety Issue   \n",
                            "\n",
                            "  serious_ae                                            outcome  \n",
                            "0      false  [{'medical_status': 'Outcome Unknown', 'number...  \n",
                            "1        NaN  [{'medical_status': 'Died', 'number_of_animals...  \n",
                            "2        NaN                                                NaN  \n",
                            "3        NaN                                                NaN  \n",
                            "4        NaN                                                NaN  "
                        ]
                    },
                    "execution_count": 2,
                    "metadata": {},
                    "output_type": "execute_result"
                }
            ],
            "source": [
                "# Inspect the first five rows\n",
                "df_combined.head()"
            ]
        },
        {
            "cell_type": "code",
            "execution_count": 3,
            "metadata": {},
            "outputs": [
                {
                    "data": {
                        "text/plain": [
                            "(74845, 10)"
                        ]
                    },
                    "execution_count": 3,
                    "metadata": {},
                    "output_type": "execute_result"
                }
            ],
            "source": [
                "df_combined.shape"
            ]
        },
        {
            "cell_type": "markdown",
            "metadata": {},
            "source": [
                "Because some of the fields are JSON objects, we want to further inspect them. \n",
                "\n",
                "We will want to parse these JSON objects in a way that is ingestible for our model. This will occur during EDA."
            ]
        },
        {
            "cell_type": "code",
            "execution_count": 4,
            "metadata": {},
            "outputs": [
                {
                    "data": {
                        "text/plain": [
                            "[{'medical_status': 'Outcome Unknown', 'number_of_animals_affected': '80'}]"
                        ]
                    },
                    "execution_count": 4,
                    "metadata": {},
                    "output_type": "execute_result"
                }
            ],
            "source": [
                "row_index = 0\n",
                "column_label = 'outcome'\n",
                "df_combined.iloc[row_index][column_label]"
            ]
        },
        {
            "cell_type": "markdown",
            "metadata": {},
            "source": [
                "### Plan B: Biomedical Image Analysis"
            ]
        },
        {
            "cell_type": "code",
            "execution_count": 1,
            "metadata": {},
            "outputs": [
                {
                    "name": "stdout",
                    "output_type": "stream",
                    "text": [
                        "Defaulting to user installation because normal site-packages is not writeable\n",
                        "Collecting medmnist\n",
                        "  Downloading medmnist-3.0.1-py3-none-any.whl (25 kB)\n",
                        "Collecting tqdm\n",
                        "  Downloading tqdm-4.66.5-py3-none-any.whl (78 kB)\n",
                        "\u001b[2K     \u001b[90m━━━━━━━━━━━━━━━━━━━━━━━━━━━━━━━━━━━━━━━━\u001b[0m \u001b[32m78.4/78.4 kB\u001b[0m \u001b[31m3.0 MB/s\u001b[0m eta \u001b[36m0:00:00\u001b[0m\n",
                        "\u001b[?25hRequirement already satisfied: numpy in /home/vscode/.local/lib/python3.10/site-packages (from medmnist) (2.1.0)\n",
                        "Requirement already satisfied: Pillow in /home/vscode/.local/lib/python3.10/site-packages (from medmnist) (10.4.0)\n",
                        "Collecting torchvision\n",
                        "  Downloading torchvision-0.19.0-cp310-cp310-manylinux1_x86_64.whl (7.0 MB)\n",
                        "\u001b[2K     \u001b[90m━━━━━━━━━━━━━━━━━━━━━━━━━━━━━━━━━━━━━━━━\u001b[0m \u001b[32m7.0/7.0 MB\u001b[0m \u001b[31m43.0 MB/s\u001b[0m eta \u001b[36m0:00:00\u001b[0m00:01\u001b[0m00:01\u001b[0m\n",
                        "\u001b[?25hCollecting fire\n",
                        "  Downloading fire-0.6.0.tar.gz (88 kB)\n",
                        "\u001b[2K     \u001b[90m━━━━━━━━━━━━━━━━━━━━━━━━━━━━━━━━━━━━━━━━\u001b[0m \u001b[32m88.4/88.4 kB\u001b[0m \u001b[31m4.4 MB/s\u001b[0m eta \u001b[36m0:00:00\u001b[0m\n",
                        "\u001b[?25h  Preparing metadata (setup.py) ... \u001b[?25ldone\n",
                        "\u001b[?25hRequirement already satisfied: pandas in /home/vscode/.local/lib/python3.10/site-packages (from medmnist) (2.2.2)\n",
                        "Requirement already satisfied: scikit-learn in /home/vscode/.local/lib/python3.10/site-packages (from medmnist) (1.5.1)\n",
                        "Collecting torch\n",
                        "  Downloading torch-2.4.0-cp310-cp310-manylinux1_x86_64.whl (797.2 MB)\n",
                        "\u001b[2K     \u001b[90m━━━━━━━━━━━━━━━━━━━━━━━━━━━━━━━━━━━━━━━\u001b[0m \u001b[32m797.2/797.2 MB\u001b[0m \u001b[31m2.3 MB/s\u001b[0m eta \u001b[36m0:00:00\u001b[0m00:01\u001b[0m00:02\u001b[0m\n",
                        "\u001b[?25hCollecting scikit-image\n",
                        "  Downloading scikit_image-0.24.0-cp310-cp310-manylinux_2_17_x86_64.manylinux2014_x86_64.whl (14.9 MB)\n",
                        "\u001b[2K     \u001b[90m━━━━━━━━━━━━━━━━━━━━━━━━━━━━━━━━━━━━━━━━\u001b[0m \u001b[32m14.9/14.9 MB\u001b[0m \u001b[31m45.9 MB/s\u001b[0m eta \u001b[36m0:00:00\u001b[0m00:01\u001b[0m00:01\u001b[0m\n",
                        "\u001b[?25hRequirement already satisfied: six in /home/vscode/.local/lib/python3.10/site-packages (from fire->medmnist) (1.16.0)\n",
                        "Collecting termcolor\n",
                        "  Downloading termcolor-2.4.0-py3-none-any.whl (7.7 kB)\n",
                        "Requirement already satisfied: pytz>=2020.1 in /home/vscode/.local/lib/python3.10/site-packages (from pandas->medmnist) (2024.1)\n",
                        "Requirement already satisfied: python-dateutil>=2.8.2 in /home/vscode/.local/lib/python3.10/site-packages (from pandas->medmnist) (2.9.0.post0)\n",
                        "Requirement already satisfied: tzdata>=2022.7 in /home/vscode/.local/lib/python3.10/site-packages (from pandas->medmnist) (2024.1)\n",
                        "Collecting lazy-loader>=0.4\n",
                        "  Downloading lazy_loader-0.4-py3-none-any.whl (12 kB)\n",
                        "Requirement already satisfied: scipy>=1.9 in /home/vscode/.local/lib/python3.10/site-packages (from scikit-image->medmnist) (1.14.1)\n",
                        "Collecting networkx>=2.8\n",
                        "  Downloading networkx-3.3-py3-none-any.whl (1.7 MB)\n",
                        "\u001b[2K     \u001b[90m━━━━━━━━━━━━━━━━━━━━━━━━━━━━━━━━━━━━━━━━\u001b[0m \u001b[32m1.7/1.7 MB\u001b[0m \u001b[31m34.9 MB/s\u001b[0m eta \u001b[36m0:00:00\u001b[0m:00:01\u001b[0m\n",
                        "\u001b[?25hRequirement already satisfied: packaging>=21 in /home/vscode/.local/lib/python3.10/site-packages (from scikit-image->medmnist) (24.1)\n",
                        "Collecting tifffile>=2022.8.12\n",
                        "  Downloading tifffile-2024.8.10-py3-none-any.whl (225 kB)\n",
                        "\u001b[2K     \u001b[90m━━━━━━━━━━━━━━━━━━━━━━━━━━━━━━━━━━━━━━\u001b[0m \u001b[32m225.8/225.8 kB\u001b[0m \u001b[31m11.8 MB/s\u001b[0m eta \u001b[36m0:00:00\u001b[0m\n",
                        "\u001b[?25hCollecting imageio>=2.33\n",
                        "  Downloading imageio-2.35.1-py3-none-any.whl (315 kB)\n",
                        "\u001b[2K     \u001b[90m━━━━━━━━━━━━━━━━━━━━━━━━━━━━━━━━━━━━━━\u001b[0m \u001b[32m315.4/315.4 kB\u001b[0m \u001b[31m16.0 MB/s\u001b[0m eta \u001b[36m0:00:00\u001b[0m\n",
                        "\u001b[?25hRequirement already satisfied: threadpoolctl>=3.1.0 in /home/vscode/.local/lib/python3.10/site-packages (from scikit-learn->medmnist) (3.5.0)\n",
                        "Requirement already satisfied: joblib>=1.2.0 in /home/vscode/.local/lib/python3.10/site-packages (from scikit-learn->medmnist) (1.4.2)\n",
                        "Collecting nvidia-cusolver-cu12==11.4.5.107\n",
                        "  Downloading nvidia_cusolver_cu12-11.4.5.107-py3-none-manylinux1_x86_64.whl (124.2 MB)\n",
                        "\u001b[2K     \u001b[90m━━━━━━━━━━━━━━━━━━━━━━━━━━━━━━━━━━━━━━\u001b[0m \u001b[32m124.2/124.2 MB\u001b[0m \u001b[31m10.5 MB/s\u001b[0m eta \u001b[36m0:00:00\u001b[0m00:01\u001b[0m00:01\u001b[0m\n",
                        "\u001b[?25hCollecting nvidia-curand-cu12==10.3.2.106\n",
                        "  Downloading nvidia_curand_cu12-10.3.2.106-py3-none-manylinux1_x86_64.whl (56.5 MB)\n",
                        "\u001b[2K     \u001b[90m━━━━━━━━━━━━━━━━━━━━━━━━━━━━━━━━━━━━━━━━\u001b[0m \u001b[32m56.5/56.5 MB\u001b[0m \u001b[31m17.2 MB/s\u001b[0m eta \u001b[36m0:00:00\u001b[0m00:01\u001b[0m00:01\u001b[0m\n",
                        "\u001b[?25hCollecting filelock\n",
                        "  Downloading filelock-3.15.4-py3-none-any.whl (16 kB)\n",
                        "Requirement already satisfied: sympy in /home/vscode/.local/lib/python3.10/site-packages (from torch->medmnist) (1.13.2)\n",
                        "Collecting fsspec\n",
                        "  Downloading fsspec-2024.6.1-py3-none-any.whl (177 kB)\n",
                        "\u001b[2K     \u001b[90m━━━━━━━━━━━━━━━━━━━━━━━━━━━━━━━━━━━━━━━\u001b[0m \u001b[32m177.6/177.6 kB\u001b[0m \u001b[31m9.0 MB/s\u001b[0m eta \u001b[36m0:00:00\u001b[0m\n",
                        "\u001b[?25hRequirement already satisfied: typing-extensions>=4.8.0 in /home/vscode/.local/lib/python3.10/site-packages (from torch->medmnist) (4.12.2)\n",
                        "Collecting nvidia-cuda-runtime-cu12==12.1.105\n",
                        "  Downloading nvidia_cuda_runtime_cu12-12.1.105-py3-none-manylinux1_x86_64.whl (823 kB)\n",
                        "\u001b[2K     \u001b[90m━━━━━━━━━━━━━━━━━━━━━━━━━━━━━━━━━━━━━━\u001b[0m \u001b[32m823.6/823.6 kB\u001b[0m \u001b[31m28.2 MB/s\u001b[0m eta \u001b[36m0:00:00\u001b[0m\n",
                        "\u001b[?25hCollecting nvidia-cuda-cupti-cu12==12.1.105\n",
                        "  Downloading nvidia_cuda_cupti_cu12-12.1.105-py3-none-manylinux1_x86_64.whl (14.1 MB)\n",
                        "\u001b[2K     \u001b[90m━━━━━━━━━━━━━━━━━━━━━━━━━━━━━━━━━━━━━━━━\u001b[0m \u001b[32m14.1/14.1 MB\u001b[0m \u001b[31m65.3 MB/s\u001b[0m eta \u001b[36m0:00:00\u001b[0m00:01\u001b[0m00:01\u001b[0m\n",
                        "\u001b[?25hCollecting nvidia-cudnn-cu12==9.1.0.70\n",
                        "  Downloading nvidia_cudnn_cu12-9.1.0.70-py3-none-manylinux2014_x86_64.whl (664.8 MB)\n",
                        "\u001b[2K     \u001b[90m━━━━━━━━━━━━━━━━━━━━━━━━━━━━━━━━━━━━━━━\u001b[0m \u001b[32m664.8/664.8 MB\u001b[0m \u001b[31m3.1 MB/s\u001b[0m eta \u001b[36m0:00:00\u001b[0m00:01\u001b[0m00:01\u001b[0m\n",
                        "\u001b[?25hCollecting nvidia-cublas-cu12==12.1.3.1\n",
                        "  Downloading nvidia_cublas_cu12-12.1.3.1-py3-none-manylinux1_x86_64.whl (410.6 MB)\n",
                        "\u001b[2K     \u001b[90m━━━━━━━━━━━━━━━━━━━━━━━━━━━━━━━━━━━━━━━\u001b[0m \u001b[32m410.6/410.6 MB\u001b[0m \u001b[31m5.4 MB/s\u001b[0m eta \u001b[36m0:00:00\u001b[0m00:01\u001b[0m00:01\u001b[0m\n",
                        "\u001b[?25hCollecting nvidia-nccl-cu12==2.20.5\n",
                        "  Downloading nvidia_nccl_cu12-2.20.5-py3-none-manylinux2014_x86_64.whl (176.2 MB)\n",
                        "\u001b[2K     \u001b[90m━━━━━━━━━━━━━━━━━━━━━━━━━━━━━━━━━━━━━━━\u001b[0m \u001b[32m176.2/176.2 MB\u001b[0m \u001b[31m7.4 MB/s\u001b[0m eta \u001b[36m0:00:00\u001b[0m00:01\u001b[0m00:01\u001b[0m\n",
                        "\u001b[?25hCollecting nvidia-nvtx-cu12==12.1.105\n",
                        "  Downloading nvidia_nvtx_cu12-12.1.105-py3-none-manylinux1_x86_64.whl (99 kB)\n",
                        "\u001b[2K     \u001b[90m━━━━━━━━━━━━━━━━━━━━━━━━━━━━━━━━━━━━━━━━\u001b[0m \u001b[32m99.1/99.1 kB\u001b[0m \u001b[31m5.5 MB/s\u001b[0m eta \u001b[36m0:00:00\u001b[0m\n",
                        "\u001b[?25hCollecting triton==3.0.0\n",
                        "  Downloading triton-3.0.0-1-cp310-cp310-manylinux2014_x86_64.manylinux_2_17_x86_64.whl (209.4 MB)\n",
                        "\u001b[2K     \u001b[90m━━━━━━━━━━━━━━━━━━━━━━━━━━━━━━━━━━━━━━\u001b[0m \u001b[32m209.4/209.4 MB\u001b[0m \u001b[31m10.2 MB/s\u001b[0m eta \u001b[36m0:00:00\u001b[0m00:01\u001b[0m00:01\u001b[0m\n",
                        "\u001b[?25hCollecting nvidia-cusparse-cu12==12.1.0.106\n",
                        "  Downloading nvidia_cusparse_cu12-12.1.0.106-py3-none-manylinux1_x86_64.whl (196.0 MB)\n",
                        "\u001b[2K     \u001b[90m━━━━━━━━━━━━━━━━━━━━━━━━━━━━━━━━━━━━━━━\u001b[0m \u001b[32m196.0/196.0 MB\u001b[0m \u001b[31m7.3 MB/s\u001b[0m eta \u001b[36m0:00:00\u001b[0m00:01\u001b[0m00:01\u001b[0m\n",
                        "\u001b[?25hRequirement already satisfied: jinja2 in /home/vscode/.local/lib/python3.10/site-packages (from torch->medmnist) (3.1.4)\n",
                        "Collecting nvidia-cuda-nvrtc-cu12==12.1.105\n",
                        "  Downloading nvidia_cuda_nvrtc_cu12-12.1.105-py3-none-manylinux1_x86_64.whl (23.7 MB)\n",
                        "\u001b[2K     \u001b[90m━━━━━━━━━━━━━━━━━━━━━━━━━━━━━━━━━━━━━━━━\u001b[0m \u001b[32m23.7/23.7 MB\u001b[0m \u001b[31m46.4 MB/s\u001b[0m eta \u001b[36m0:00:00\u001b[0m00:01\u001b[0m00:01\u001b[0m\n",
                        "\u001b[?25hCollecting nvidia-cufft-cu12==11.0.2.54\n",
                        "  Downloading nvidia_cufft_cu12-11.0.2.54-py3-none-manylinux1_x86_64.whl (121.6 MB)\n",
                        "\u001b[2K     \u001b[90m━━━━━━━━━━━━━━━━━━━━━━━━━━━━━━━━━━━━━━\u001b[0m \u001b[32m121.6/121.6 MB\u001b[0m \u001b[31m12.3 MB/s\u001b[0m eta \u001b[36m0:00:00\u001b[0m00:01\u001b[0m00:01\u001b[0m\n",
                        "\u001b[?25hCollecting nvidia-nvjitlink-cu12\n",
                        "  Downloading nvidia_nvjitlink_cu12-12.6.20-py3-none-manylinux2014_x86_64.whl (19.7 MB)\n",
                        "\u001b[2K     \u001b[90m━━━━━━━━━━━━━━━━━━━━━━━━━━━━━━━━━━━━━━━━\u001b[0m \u001b[32m19.7/19.7 MB\u001b[0m \u001b[31m46.4 MB/s\u001b[0m eta \u001b[36m0:00:00\u001b[0m00:01\u001b[0m00:01\u001b[0m\n",
                        "\u001b[?25hRequirement already satisfied: MarkupSafe>=2.0 in /home/vscode/.local/lib/python3.10/site-packages (from jinja2->torch->medmnist) (2.1.5)\n",
                        "Requirement already satisfied: mpmath<1.4,>=1.1.0 in /home/vscode/.local/lib/python3.10/site-packages (from sympy->torch->medmnist) (1.3.0)\n",
                        "Building wheels for collected packages: fire\n",
                        "  Building wheel for fire (setup.py) ... \u001b[?25ldone\n",
                        "\u001b[?25h  Created wheel for fire: filename=fire-0.6.0-py2.py3-none-any.whl size=117031 sha256=2d8dbf1a0a2436a375b2994a1bbf0b7a984fcfacb8a5d26aabf8b0b1c1df3807\n",
                        "  Stored in directory: /home/vscode/.cache/pip/wheels/d6/6d/5d/5b73fa0f46d01a793713f8859201361e9e581ced8c75e5c6a3\n",
                        "Successfully built fire\n",
                        "Installing collected packages: tqdm, tifffile, termcolor, nvidia-nvtx-cu12, nvidia-nvjitlink-cu12, nvidia-nccl-cu12, nvidia-curand-cu12, nvidia-cufft-cu12, nvidia-cuda-runtime-cu12, nvidia-cuda-nvrtc-cu12, nvidia-cuda-cupti-cu12, nvidia-cublas-cu12, networkx, lazy-loader, imageio, fsspec, filelock, triton, scikit-image, nvidia-cusparse-cu12, nvidia-cudnn-cu12, fire, nvidia-cusolver-cu12, torch, torchvision, medmnist\n",
                        "  Attempting uninstall: nvidia-nccl-cu12\n",
                        "    Found existing installation: nvidia-nccl-cu12 2.22.3\n",
                        "    Uninstalling nvidia-nccl-cu12-2.22.3:\n",
                        "      Successfully uninstalled nvidia-nccl-cu12-2.22.3\n",
                        "Successfully installed filelock-3.15.4 fire-0.6.0 fsspec-2024.6.1 imageio-2.35.1 lazy-loader-0.4 medmnist-3.0.1 networkx-3.3 nvidia-cublas-cu12-12.1.3.1 nvidia-cuda-cupti-cu12-12.1.105 nvidia-cuda-nvrtc-cu12-12.1.105 nvidia-cuda-runtime-cu12-12.1.105 nvidia-cudnn-cu12-9.1.0.70 nvidia-cufft-cu12-11.0.2.54 nvidia-curand-cu12-10.3.2.106 nvidia-cusolver-cu12-11.4.5.107 nvidia-cusparse-cu12-12.1.0.106 nvidia-nccl-cu12-2.20.5 nvidia-nvjitlink-cu12-12.6.20 nvidia-nvtx-cu12-12.1.105 scikit-image-0.24.0 termcolor-2.4.0 tifffile-2024.8.10 torch-2.4.0 torchvision-0.19.0 tqdm-4.66.5 triton-3.0.0\n",
                        "\n",
                        "\u001b[1m[\u001b[0m\u001b[34;49mnotice\u001b[0m\u001b[1;39;49m]\u001b[0m\u001b[39;49m A new release of pip is available: \u001b[0m\u001b[31;49m23.0.1\u001b[0m\u001b[39;49m -> \u001b[0m\u001b[32;49m24.2\u001b[0m\n",
                        "\u001b[1m[\u001b[0m\u001b[34;49mnotice\u001b[0m\u001b[1;39;49m]\u001b[0m\u001b[39;49m To update, run: \u001b[0m\u001b[32;49mpip install --upgrade pip\u001b[0m\n"
                    ]
                }
            ],
            "source": [
                "!pip install medmnist"
            ]
        },
        {
            "cell_type": "code",
            "execution_count": 1,
            "metadata": {},
            "outputs": [
                {
                    "name": "stdout",
                    "output_type": "stream",
                    "text": [
                        "Using downloaded and verified file: /home/vscode/.medmnist/pathmnist.npz\n",
                        "Using downloaded and verified file: /home/vscode/.medmnist/pathmnist.npz\n",
                        "Train dataset size: 89996\n",
                        "Test dataset size: 7180\n"
                    ]
                },
                {
                    "name": "stderr",
                    "output_type": "stream",
                    "text": [
                        "100%|██████████| 89996/89996 [00:03<00:00, 29665.60it/s]\n",
                        "100%|██████████| 7180/7180 [00:00<00:00, 30371.93it/s]\n"
                    ]
                }
            ],
            "source": [
                "# Your code here\n",
                "import medmnist\n",
                "from medmnist import INFO\n",
                "import numpy as np\n",
                "from tqdm import tqdm\n",
                "import pandas as pd\n",
                "\n",
                "# Download the dataset\n",
                "data_flag = 'pathmnist'\n",
                "download = True\n",
                "info = INFO[data_flag]\n",
                "DataClass = getattr(medmnist, info['python_class'])\n",
                "\n",
                "# Load training and testing datasets\n",
                "train_dataset = DataClass(split='train', download=download)\n",
                "test_dataset = DataClass(split='test', download=download)\n",
                "\n",
                "# Inspect the dataset\n",
                "print(\"Train dataset size:\", len(train_dataset))\n",
                "print(\"Test dataset size:\", len(test_dataset))\n",
                "\n",
                "# Example of loading the dataset into a DataLoader\n",
                "train_loader = [(np.array(img), label) for img, label in tqdm(train_dataset)]\n",
                "test_loader = [(np.array(img), label) for img, label in tqdm(test_dataset)]"
            ]
        },
        {
            "cell_type": "markdown",
            "metadata": {},
            "source": [
                "Convert `train_loader` and `test_loader` into Dataframes, `train_df` and `test_df`. We can store these dataframes in a SQL databases for safekeeping (Step 3)."
            ]
        },
        {
            "cell_type": "code",
            "execution_count": 2,
            "metadata": {},
            "outputs": [
                {
                    "data": {
                        "text/html": [
                            "<div>\n",
                            "<style scoped>\n",
                            "    .dataframe tbody tr th:only-of-type {\n",
                            "        vertical-align: middle;\n",
                            "    }\n",
                            "\n",
                            "    .dataframe tbody tr th {\n",
                            "        vertical-align: top;\n",
                            "    }\n",
                            "\n",
                            "    .dataframe thead th {\n",
                            "        text-align: right;\n",
                            "    }\n",
                            "</style>\n",
                            "<table border=\"1\" class=\"dataframe\">\n",
                            "  <thead>\n",
                            "    <tr style=\"text-align: right;\">\n",
                            "      <th></th>\n",
                            "      <th>img</th>\n",
                            "      <th>label</th>\n",
                            "    </tr>\n",
                            "  </thead>\n",
                            "  <tbody>\n",
                            "    <tr>\n",
                            "      <th>0</th>\n",
                            "      <td>[[[220, 208, 227], [219, 207, 227], [220, 207,...</td>\n",
                            "      <td>[0]</td>\n",
                            "    </tr>\n",
                            "    <tr>\n",
                            "      <th>1</th>\n",
                            "      <td>[[[126, 59, 119], [142, 84, 139], [174, 127, 1...</td>\n",
                            "      <td>[4]</td>\n",
                            "    </tr>\n",
                            "    <tr>\n",
                            "      <th>2</th>\n",
                            "      <td>[[[223, 168, 204], [223, 166, 203], [218, 170,...</td>\n",
                            "      <td>[7]</td>\n",
                            "    </tr>\n",
                            "    <tr>\n",
                            "      <th>3</th>\n",
                            "      <td>[[[216, 135, 183], [216, 127, 178], [213, 125,...</td>\n",
                            "      <td>[5]</td>\n",
                            "    </tr>\n",
                            "    <tr>\n",
                            "      <th>4</th>\n",
                            "      <td>[[[204, 124, 177], [204, 116, 170], [211, 149,...</td>\n",
                            "      <td>[5]</td>\n",
                            "    </tr>\n",
                            "  </tbody>\n",
                            "</table>\n",
                            "</div>"
                        ],
                        "text/plain": [
                            "                                                 img label\n",
                            "0  [[[220, 208, 227], [219, 207, 227], [220, 207,...   [0]\n",
                            "1  [[[126, 59, 119], [142, 84, 139], [174, 127, 1...   [4]\n",
                            "2  [[[223, 168, 204], [223, 166, 203], [218, 170,...   [7]\n",
                            "3  [[[216, 135, 183], [216, 127, 178], [213, 125,...   [5]\n",
                            "4  [[[204, 124, 177], [204, 116, 170], [211, 149,...   [5]"
                        ]
                    },
                    "execution_count": 2,
                    "metadata": {},
                    "output_type": "execute_result"
                }
            ],
            "source": [
                "# Convert train_loader to DataFrame\n",
                "train_df = pd.DataFrame(train_loader, columns=['img', 'label'])\n",
                "\n",
                "# Convert test_loader to DataFrame\n",
                "test_df = pd.DataFrame(test_loader, columns=['img', 'label'])\n",
                "\n",
                "# Inspect train_df\n",
                "train_df.head()"
            ]
        },
        {
            "cell_type": "markdown",
            "metadata": {},
            "source": [
                "Each row represents an image and its corresponding label. The values you see under `img` are the pixel values of the images. These arrays are typically multi-dimensional, with each dimension corresponding to different properties of the image. Let's inspect a single image,"
            ]
        },
        {
            "cell_type": "code",
            "execution_count": 3,
            "metadata": {},
            "outputs": [
                {
                    "data": {
                        "text/plain": [
                            "array([[[204, 124, 177],\n",
                            "        [204, 116, 170],\n",
                            "        [211, 149, 190],\n",
                            "        ...,\n",
                            "        [216, 153, 194],\n",
                            "        [224, 185, 214],\n",
                            "        [233, 211, 228]],\n",
                            "\n",
                            "       [[207, 132, 182],\n",
                            "        [209, 141, 188],\n",
                            "        [205, 127, 176],\n",
                            "        ...,\n",
                            "        [216, 153, 194],\n",
                            "        [227, 190, 217],\n",
                            "        [235, 217, 232]],\n",
                            "\n",
                            "       [[226, 179, 211],\n",
                            "        [215, 156, 197],\n",
                            "        [212, 150, 193],\n",
                            "        ...,\n",
                            "        [207, 141, 185],\n",
                            "        [211, 154, 193],\n",
                            "        [229, 196, 219]],\n",
                            "\n",
                            "       ...,\n",
                            "\n",
                            "       [[216, 171, 205],\n",
                            "        [206, 151, 191],\n",
                            "        [214, 162, 200],\n",
                            "        ...,\n",
                            "        [217, 173, 207],\n",
                            "        [219, 176, 207],\n",
                            "        [225, 197, 220]],\n",
                            "\n",
                            "       [[210, 164, 200],\n",
                            "        [218, 168, 203],\n",
                            "        [228, 199, 221],\n",
                            "        ...,\n",
                            "        [215, 164, 202],\n",
                            "        [219, 181, 210],\n",
                            "        [227, 209, 227]],\n",
                            "\n",
                            "       [[231, 214, 229],\n",
                            "        [228, 202, 223],\n",
                            "        [231, 204, 224],\n",
                            "        ...,\n",
                            "        [194, 124, 176],\n",
                            "        [217, 170, 205],\n",
                            "        [229, 206, 225]]], dtype=uint8)"
                        ]
                    },
                    "execution_count": 3,
                    "metadata": {},
                    "output_type": "execute_result"
                }
            ],
            "source": [
                "# Select an index to view\n",
                "index = 4  # Change this to view a different image\n",
                "\n",
                "# From the train_dataset\n",
                "# image, label = train_dataset[index]\n",
                "\n",
                "# Or from the train_loader\n",
                "image, label = train_loader[index]\n",
                "\n",
                "# Convert image to numpy array if needed\n",
                "image = np.array(image)\n",
                "image"
            ]
        },
        {
            "cell_type": "markdown",
            "metadata": {},
            "source": [
                "The images are in color because the array is 3D with dimensions `(height, width, channels)`, where `channels` is usually 3 (representing the Red, Green, and Blue color channels). Each element in the array represents the intensity of the corresponding color channel for a pixel.\n",
                "\n",
                "Below we can see that the images are 28x28 pixels and RGB (in color),"
            ]
        },
        {
            "cell_type": "code",
            "execution_count": 4,
            "metadata": {},
            "outputs": [
                {
                    "data": {
                        "text/plain": [
                            "(28, 28, 3)"
                        ]
                    },
                    "execution_count": 4,
                    "metadata": {},
                    "output_type": "execute_result"
                }
            ],
            "source": [
                "np.shape(image)"
            ]
        },
        {
            "cell_type": "markdown",
            "metadata": {},
            "source": [
                "These arrays are used as input for machine learning models, where the model processes these pixel values to learn patterns and make predictions based on the images.\n",
                "\n",
                "Lets use `matplotlib` to render the image from the pixel data,"
            ]
        },
        {
            "cell_type": "code",
            "execution_count": 5,
            "metadata": {},
            "outputs": [
                {
                    "data": {
                        "image/png": "[encoded data removed]",
                        "text/plain": [
                            "<Figure size 640x480 with 1 Axes>"
                        ]
                    },
                    "metadata": {},
                    "output_type": "display_data"
                }
            ],
            "source": [
                "import matplotlib.pyplot as plt\n",
                "\n",
                "# Display the image\n",
                "plt.imshow(image, cmap='gray')  # Use 'gray' for grayscale images\n",
                "plt.title(f'Label: {label}')\n",
                "plt.axis('off')\n",
                "plt.show()"
            ]
        },
        {
            "cell_type": "markdown",
            "metadata": {},
            "source": [
                "Inspect 9 random images with their associated label,"
            ]
        },
        {
            "cell_type": "code",
            "execution_count": 6,
            "metadata": {},
            "outputs": [
                {
                    "data": {
                        "image/png": "[encoded data removed]",
                        "text/plain": [
                            "<Figure size 800x800 with 9 Axes>"
                        ]
                    },
                    "metadata": {},
                    "output_type": "display_data"
                }
            ],
            "source": [
                "import random\n",
                "\n",
                "# Select 9 random indices\n",
                "random_indices = random.sample(range(len(train_dataset)), 9)\n",
                "\n",
                "# Create a 3x3 subplot\n",
                "fig, axes = plt.subplots(3, 3, figsize=(8, 8))\n",
                "\n",
                "# Loop over the 9 random indices and display each image\n",
                "for i, ax in enumerate(axes.flat):\n",
                "    image, label = train_dataset[random_indices[i]]\n",
                "    \n",
                "    # Convert image to numpy array if needed\n",
                "    image = np.array(image)\n",
                "    \n",
                "    # Display the image\n",
                "    ax.imshow(image, cmap='gray')\n",
                "    ax.set_title(f'Label: {label}')\n",
                "    ax.axis('off')\n",
                "\n",
                "# Adjust layout\n",
                "plt.tight_layout()\n",
                "plt.show()"
            ]
        },
        {
            "cell_type": "code",
            "execution_count": 7,
            "metadata": {},
            "outputs": [
                {
                    "name": "stdout",
                    "output_type": "stream",
                    "text": [
                        "Unique labels: [0, 1, 2, 3, 4, 5, 6, 7, 8]\n"
                    ]
                }
            ],
            "source": [
                "# Extract all labels from the train_dataset\n",
                "labels = [label.item() for _, label in train_dataset]\n",
                "\n",
                "# Get unique labels\n",
                "unique_labels = list(set(labels))\n",
                "\n",
                "# Print unique labels\n",
                "print(\"Unique labels:\", unique_labels)"
            ]
        },
        {
            "cell_type": "markdown",
            "metadata": {},
            "source": [
                "<span style=\"color: red;\">**TODO: Write code to obtain the mapping of the labels. Example:** `{0: 'dog', 1: 'cat', 2: 'mouse', ...}`</span>"
            ]
        },
        {
            "cell_type": "code",
            "execution_count": null,
            "metadata": {},
            "outputs": [],
            "source": [
                "# Your code here"
            ]
        },
        {
            "cell_type": "markdown",
            "metadata": {},
            "source": [
                "### Plan C: Website Fact Checker"
            ]
        },
        {
            "cell_type": "code",
            "execution_count": 10,
            "metadata": {},
            "outputs": [],
            "source": [
                "# Your code here"
            ]
        },
        {
            "cell_type": "markdown",
            "metadata": {},
            "source": [
                "## Step 1: Problem definition\n",
                "\n",
                "### Instructions\n",
                "\n",
                "1. **Select a Project Plan:**\n",
                "\n",
                "    - Review the dataset options from Plan A, Plan B, and Plan C.\n",
                "\n",
                "    - Choose one of the plans to move forward with based on your dataset inspection and interest.\n",
                "\n",
                "2. **Write a Project Description:**\n",
                "\n",
                "    - Clearly define the problem or question you intend to address with your selected dataset.\n",
                "\n",
                "    - Consider how your chosen dataset can help solve this problem or answer the question.\n",
                "\n",
                "    - Write a one-sentence description that clearly states the objective of your project. This should include what you aim to achieve or understand with the dataset.\n",
                "\n",
                "3. **Name the Project:**\n",
                "\n",
                "    - Create a name for your project that reflects the focus of your work."
            ]
        },
        {
            "cell_type": "markdown",
            "metadata": {},
            "source": [
                "### 1. Select a Project Plan"
            ]
        },
        {
            "cell_type": "markdown",
            "metadata": {},
            "source": [
                "Plan B: Predicting Colon Cancer Histology Slide Content Using Deep Learning"
            ]
        },
        {
            "cell_type": "markdown",
            "metadata": {},
            "source": [
                "### 2. Write a Project Description"
            ]
        },
        {
            "cell_type": "markdown",
            "metadata": {},
            "source": [
                "Problem Definition:\n",
                "The project aims to develop a machine learning model capable of accurately predicting the content of histology slides related to colon cancer. This involves analyzing images of colon cancer tissue to identify specific features and patterns that can indicate the presence and type of cancerous cells. The dataset comprises 100,000 non-overlapping image patches, each representing one of nine classes: adipose tissue (ADI), background (BACK), debris (DEB), lymphocyte (LYM), mucus (MUC), smooth muscle (MUS), normal colon mucosa (NORM), cancer-associated stroma (STR), and CRC Epithelium (TUM). Accurately classifying these image patches is crucial for aiding in the diagnosis and treatment planning of colon cancer.\n",
                "\n",
                "Dataset Utilization:\n",
                "The chosen dataset from MedMNIST.com provides a collection of labeled histology images specific to colon cancer. By training the model on this dataset, we aim to create a tool that can assist pathologists in diagnosing colon cancer more effectively.\n",
                "\n",
                "Objective:\n",
                "The objective of this project is to use deep learning techniques to classify and predict the contents of colon cancer histology slides, ultimately aiding in the early and accurate detection of colon cancer."
            ]
        },
        {
            "cell_type": "markdown",
            "metadata": {},
            "source": [
                "### 3. Name the Project"
            ]
        },
        {
            "cell_type": "markdown",
            "metadata": {},
            "source": [
                "Project Title: Predicting Colon Cancer Histology Slide Content Using Deep Learning"
            ]
        },
        {
            "cell_type": "markdown",
            "metadata": {},
            "source": [
                "## Step 2: Acquiring and loading the data set\n",
                "\n",
                "### Instructions\n",
                "\n",
                "1. **Acquiring the Dataset:** Describe how you have acquired the dataset for your project. Depending on the method you used:\n",
                "\n",
                "    1. **Web Scraping:**\n",
                "\n",
                "        - If you used web scraping, provide details about the website or web page from which you extracted data.\n",
                "\n",
                "        - Include information on the tools or libraries you used for scraping (e.g., BeautifulSoup, Scrapy).\n",
                "\n",
                "        - Mention any challenges faced during the scraping process and how you addressed them.\n",
                "\n",
                "    2. **SQL Database:**\n",
                "\n",
                "        - If you obtained data from a public database using SQL, specify the database you accessed.\n",
                "\n",
                "        - Describe the SQL queries you used to extract the data.\n",
                "\n",
                "        - Include any relevant details about the database schema and how you navigated it.\n",
                "\n",
                "    3. **Public API:**\n",
                "\n",
                "        - If you accessed data through a public API, provide details about the API.\n",
                "\n",
                "        - Describe the API endpoints you used and any parameters or filters applied to your requests.\n",
                "\n",
                "        - Mention the format of the data returned by the API and how you processed it.\n",
                "\n",
                "2. **Loading the Dataset:**\n",
                "\n",
                "    - Detail the steps you followed to load the dataset into your working environment.\n",
                "\n",
                "    - Describe the tools or libraries used for loading the data (e.g., `Pandas` for CSV files, `SQLAlchemy` for SQL databases, `requests` or an API client library for APIs).\n",
                "\n",
                "    - Include any data cleaning or preprocessing steps you performed to prepare the data for analysis.\n",
                "\n",
                "3. **Document Your Process:**\n",
                "\n",
                "    - Provide a brief summary of your data acquisition and loading process, highlighting any key steps or decisions.\n",
                "\n",
                "    - Include any challenges or issues encountered and how you resolved them."
            ]
        },
        {
            "cell_type": "markdown",
            "metadata": {},
            "source": [
                "There is a premade package that we have downloaded and used the documentation to dowload all of the images and set them up\n",
                "\n",
                "in an SQL database.  Though, honestly, using the prebuilt custom DataLoader class based in pytorch will likely be much more sensible\n",
                "\n",
                "for our purposes, as it will automatically batch the images and take care of much of the headache."
            ]
        },
        {
            "cell_type": "markdown",
            "metadata": {},
            "source": [
                "## Step 3: Store the information\n",
                "\n",
                "### Instructions\n",
                "\n",
                "1. **Choose a Database:**\n",
                "\n",
                "    - Select a database that is most compatible with your dataset. Consider factors such as the size of the data, the complexity of the queries you plan to perform, and the features offered by the database.\n",
                "\n",
                "    - The databases we have studied include SQLite, PostgreSQL, MySQL, etc.\n",
                "\n",
                "2. **Store the Data:**\n",
                "\n",
                "    - Import the dataset into the chosen database. This may involve creating tables and defining schemas that match the structure of your data.\n",
                "\n",
                "    - Ensure that the database is properly set up to handle the data efficiently. Consider indexing or other optimizations if necessary.\n",
                "\n",
                "3. **Perform Queries:**\n",
                "\n",
                "    - Write and execute SQL queries to interact with your stored data. Use the following types of queries:\n",
                "\n",
                "        - `SELECT`: Retrieve specific data from your tables. For example, you can select columns or rows that meet certain criteria.\n",
                "\n",
                "        - `JOIN`: Combine data from multiple tables based on related columns to perform more complex queries.\n",
                "\n",
                "        - `INSERT`: Add new data to your tables if necessary.\n",
                "\n",
                "        - Include any other relevant SQL operations that are useful for your analysis.\n",
                "    \n",
                "    - Alternatively, use Python wrappers for SQL (e.g., `SQLAlchemy`, `pandas`) if applicable. These wrappers can help you perform SQL operations more easily within a Python environment.\n",
                "\n",
                "4. **Document Your Process:**\n",
                "\n",
                "    - Provide a summary of how you stored your data in the database, including the database used and the structure of the tables.\n",
                "\n",
                "    - Include examples of the SQL queries you wrote and explain how they help in starting the analysis.\n",
                "\n",
                "    - Discuss any challenges faced during the data storage and querying process and how you addressed them."
            ]
        },
        {
            "cell_type": "markdown",
            "metadata": {},
            "source": [
                "<span style=\"color: red;\">**TODO: Instead of writing and saving the images locally and then reading them again, save both** `train_df` **and** `test_df` **as separate tables in your SQL database. This will safeguard the pixel data and labels for both your train and test sets.**</span>"
            ]
        },
        {
            "cell_type": "code",
            "execution_count": 2,
            "metadata": {},
            "outputs": [
                {
                    "ename": "ModuleNotFoundError",
                    "evalue": "No module named 'medmnist'",
                    "output_type": "error",
                    "traceback": [
                        "\u001b[0;31m---------------------------------------------------------------------------\u001b[0m",
                        "\u001b[0;31mModuleNotFoundError\u001b[0m                       Traceback (most recent call last)",
                        "Cell \u001b[0;32mIn[2], line 1\u001b[0m\n\u001b[0;32m----> 1\u001b[0m \u001b[38;5;28;01mimport\u001b[39;00m \u001b[38;5;21;01mmedmnist\u001b[39;00m\n\u001b[1;32m      2\u001b[0m \u001b[38;5;28;01mfrom\u001b[39;00m \u001b[38;5;21;01mmedmnist\u001b[39;00m \u001b[38;5;28;01mimport\u001b[39;00m INFO\n\u001b[1;32m      4\u001b[0m data_flag \u001b[38;5;241m=\u001b[39m \u001b[38;5;124m'\u001b[39m\u001b[38;5;124mpathmnist\u001b[39m\u001b[38;5;124m'\u001b[39m\n",
                        "\u001b[0;31mModuleNotFoundError\u001b[0m: No module named 'medmnist'"
                    ]
                }
            ],
            "source": [
                "\n",
                "import medmnist\n",
                "from medmnist import INFO\n",
                "\n",
                "data_flag = 'pathmnist'\n",
                "download = True\n",
                "info = INFO[data_flag]\n",
                "task = info['task']\n",
                "n_channels = info['n_channels']\n",
                "n_classes = len(info['label'])\n",
                "\n",
                "print(info['label'])\n",
                "\n",
                "DataClass = getattr(medmnist, info['python_class'])\n",
                "tr_data = DataClass(split='train', download=download)\n",
                "te_data = DataClass(split='test', download=download)\n",
                "\n",
                "tr_data.save('../Bump')\n",
                "te_data.save('../Bump')\n",
                "\n",
                "import pandas as pd\n",
                "import sqlite3\n",
                "from concurrent.futures import ThreadPoolExecutor\n",
                "\n",
                "csv = pd.read_csv('../Bump/pathmnist.csv')\n",
                "csv.head()\n",
                "conn = sqlite3.connect('../Bump/DBIITheReckoning.db')\n",
                "# csv.to_sql('CREATE TABLE \"PATHMNIST\"', conn)\n",
                "\n",
                "def binaryconvent(filename):\n",
                "    with open(filename, 'rb') as file:\n",
                "        bina = file.read()\n",
                "    return bina\n",
                "\n",
                "def badhabits(filename):\n",
                "    query = f\"UPDATE PATHMNIST SET train0_0.png = (?) WHERE train0_0.png = {filename}\"\n",
                "    habit = binaryconvent(filename)\n",
                "    conn = sqlite3.connect('../Bump/DBIITheReckoning.db')\n",
                "    conn.cursor().execute(query, habit)\n",
                "    conn.commit()\n",
                "\n",
                "nunya = ['../Bump/pathmnist/' + i for i in csv['train0_0.png'].to_list()]\n",
                "\n",
                "with ThreadPoolExecutor(max_workers=25) as executor:\n",
                "    executor.map(badhabits, nunya)\n",
                "\n",
                "# SQL Database\n"
            ]
        },
        {
            "cell_type": "markdown",
            "metadata": {},
            "source": [
                "<span style=\"color: red;\">**TODO: After saving** `train_df` **and** `test_df` **as separate tables in your SQL database, follow the steps below to retrieve the entire dataset for both the training set and test set.**</span>"
            ]
        },
        {
            "cell_type": "markdown",
            "metadata": {},
            "source": [
                "1. Write a SQL `SELECT` statement to retrieve all the data from your training set table:"
            ]
        },
        {
            "cell_type": "code",
            "execution_count": null,
            "metadata": {},
            "outputs": [],
            "source": [
                "# Your code here"
            ]
        },
        {
            "cell_type": "markdown",
            "metadata": {},
            "source": [
                "2. Write a SQL `SELECT` statement to retrieve all the data from your test set table:"
            ]
        },
        {
            "cell_type": "code",
            "execution_count": null,
            "metadata": {},
            "outputs": [],
            "source": [
                "# Your code here"
            ]
        },
        {
            "cell_type": "markdown",
            "metadata": {},
            "source": [
                "## Step 4 & 5: Perform a descriptive analysis & full EDA"
            ]
        },
        {
            "cell_type": "markdown",
            "metadata": {},
            "source": [
                "1. **Getting the Dimensions of the Dataframe**\n",
                "\n",
                "    - Get the dimensions of the `train_df`. This will give you the number of rows (images) and columns in the dataframe."
            ]
        },
        {
            "cell_type": "code",
            "execution_count": null,
            "metadata": {},
            "outputs": [],
            "source": [
                "# Your code here"
            ]
        },
        {
            "cell_type": "markdown",
            "metadata": {},
            "source": [
                "$~~~~~~~~~~$- Get the dimensions of `test_df`."
            ]
        },
        {
            "cell_type": "code",
            "execution_count": null,
            "metadata": {},
            "outputs": [],
            "source": [
                "# Your code here"
            ]
        },
        {
            "cell_type": "markdown",
            "metadata": {},
            "source": [
                "2. **Checking for Missing Values**\n",
                "\n",
                "    - Check and count how many rows have missing values in `train_df`. Drop/remove rows with missing values if any."
            ]
        },
        {
            "cell_type": "code",
            "execution_count": null,
            "metadata": {},
            "outputs": [],
            "source": [
                "# Your code here"
            ]
        },
        {
            "cell_type": "markdown",
            "metadata": {},
            "source": [
                "$~~~~~~~~~~$- Check and count how many rows have missing values in `test_df`. Drop/remove rows with missing values if any."
            ]
        },
        {
            "cell_type": "code",
            "execution_count": null,
            "metadata": {},
            "outputs": [],
            "source": [
                "# Your code here"
            ]
        },
        {
            "cell_type": "markdown",
            "metadata": {},
            "source": [
                "3. **Checking the Data Types of Columns**\n",
                "\n",
                "    - Check the data type of of each column in the `train_df` DataFrame."
            ]
        },
        {
            "cell_type": "code",
            "execution_count": null,
            "metadata": {},
            "outputs": [],
            "source": [
                "# Your code here"
            ]
        },
        {
            "cell_type": "markdown",
            "metadata": {},
            "source": [
                "$~~~~~~~~~~$- Check the data type of of each column in the `test_df` DataFrame."
            ]
        },
        {
            "cell_type": "code",
            "execution_count": null,
            "metadata": {},
            "outputs": [],
            "source": [
                "# Your code here"
            ]
        },
        {
            "cell_type": "markdown",
            "metadata": {},
            "source": [
                "4. **Inspect the Data Type of `img`**\n",
                "\n",
                "    - Inspect the data type of an individual `img` from `train_df`."
            ]
        },
        {
            "cell_type": "code",
            "execution_count": 12,
            "metadata": {},
            "outputs": [
                {
                    "data": {
                        "text/plain": [
                            "numpy.ndarray"
                        ]
                    },
                    "execution_count": 12,
                    "metadata": {},
                    "output_type": "execute_result"
                }
            ],
            "source": [
                "# This example has been done for you\n",
                "first_train_img = train_df['img'].iloc[0]\n",
                "type(first_train_img)"
            ]
        },
        {
            "cell_type": "markdown",
            "metadata": {},
            "source": [
                "$~~~~~~~~~~$- Inspect the data type of an individual `img` from `test_df`."
            ]
        },
        {
            "cell_type": "code",
            "execution_count": null,
            "metadata": {},
            "outputs": [],
            "source": [
                "# Your code here"
            ]
        },
        {
            "cell_type": "markdown",
            "metadata": {},
            "source": [
                "5. **Inspect the Data Type of `label`**\n",
                "\n",
                "    - Inspect the data type of an individual `label` from `train_df`."
            ]
        },
        {
            "cell_type": "code",
            "execution_count": null,
            "metadata": {},
            "outputs": [],
            "source": [
                "# Your code here"
            ]
        },
        {
            "cell_type": "markdown",
            "metadata": {},
            "source": [
                "$~~~~~~~~~~$- Inspect the data type of an individual `label` from `test_df`."
            ]
        },
        {
            "cell_type": "code",
            "execution_count": null,
            "metadata": {},
            "outputs": [],
            "source": [
                "# Your code here"
            ]
        },
        {
            "cell_type": "markdown",
            "metadata": {},
            "source": [
                "6. **Casting the Label to an Integer**\n",
                "\n",
                "    - Convert the `label` column from an array to an integer for `train_df`."
            ]
        },
        {
            "cell_type": "code",
            "execution_count": null,
            "metadata": {},
            "outputs": [],
            "source": [
                "# Your code here"
            ]
        },
        {
            "cell_type": "markdown",
            "metadata": {},
            "source": [
                "$~~~~~~~~~~$- Convert the `label` column from an array to an integer for `test_df`."
            ]
        },
        {
            "cell_type": "code",
            "execution_count": null,
            "metadata": {},
            "outputs": [],
            "source": [
                "# Your code here"
            ]
        },
        {
            "cell_type": "markdown",
            "metadata": {},
            "source": [
                "7. **Getting the Label Distribution**\n",
                "\n",
                "    - Count the number of instances for each `label` in `train_df`."
            ]
        },
        {
            "cell_type": "code",
            "execution_count": null,
            "metadata": {},
            "outputs": [],
            "source": [
                "# Your code here"
            ]
        },
        {
            "cell_type": "markdown",
            "metadata": {},
            "source": [
                "$~~~~~~~~~~$- Count the number of instances for each `label` in `test_df`."
            ]
        },
        {
            "cell_type": "code",
            "execution_count": null,
            "metadata": {},
            "outputs": [],
            "source": [
                "# Your code here"
            ]
        },
        {
            "cell_type": "markdown",
            "metadata": {},
            "source": [
                "8. **Visualizing the Label Distribution**\n",
                "\n",
                "    - Visualize the `label` distribution for `train_df` using a bar plot or histogram."
            ]
        },
        {
            "cell_type": "code",
            "execution_count": null,
            "metadata": {},
            "outputs": [],
            "source": [
                "# Your code here"
            ]
        },
        {
            "cell_type": "markdown",
            "metadata": {},
            "source": [
                "$~~~~~~~~~~$- Visualize the `label` distribution for `test_df` using a bar plot or histogram."
            ]
        },
        {
            "cell_type": "code",
            "execution_count": null,
            "metadata": {},
            "outputs": [],
            "source": [
                "# Your code here"
            ]
        },
        {
            "cell_type": "markdown",
            "metadata": {},
            "source": [
                "9. **Getting Image Dimensions**\n",
                "\n",
                "    - Check the dimensions of the images to ensure consistency across the `train_df` dataset."
            ]
        },
        {
            "cell_type": "code",
            "execution_count": 15,
            "metadata": {},
            "outputs": [],
            "source": [
                "# Your code here"
            ]
        },
        {
            "cell_type": "markdown",
            "metadata": {},
            "source": [
                "$~~~~~~~~~~$- Check the dimensions of the images to ensure consistency across the `test_df` dataset."
            ]
        },
        {
            "cell_type": "code",
            "execution_count": 16,
            "metadata": {},
            "outputs": [],
            "source": [
                "# Your code here"
            ]
        },
        {
            "cell_type": "markdown",
            "metadata": {},
            "source": [
                "10. **Getting Pixel Intensity Statistics**\n",
                "\n",
                "    - Calculate basic statistics (mean, standard deviation, min, max) of pixel intensities across all images in `train_df`."
            ]
        },
        {
            "cell_type": "code",
            "execution_count": null,
            "metadata": {},
            "outputs": [],
            "source": [
                "# Your code here"
            ]
        },
        {
            "cell_type": "markdown",
            "metadata": {},
            "source": [
                "$~~~~~~~~~~$- Calculate basic statistics (mean, standard deviation, min, max) of pixel intensities across all images in `test_df`."
            ]
        },
        {
            "cell_type": "code",
            "execution_count": null,
            "metadata": {},
            "outputs": [],
            "source": [
                "# Your code here"
            ]
        },
        {
            "cell_type": "markdown",
            "metadata": {},
            "source": [
                "11. **Analyzing a Correlation Between Image Intensity and Labels**\n",
                "\n",
                "    - Analyze if there is any relationship between the average pixel intensity of an image and its label for `train_df`."
            ]
        },
        {
            "cell_type": "code",
            "execution_count": null,
            "metadata": {},
            "outputs": [],
            "source": [
                "# Your code here"
            ]
        },
        {
            "cell_type": "markdown",
            "metadata": {},
            "source": [
                "$~~~~~~~~~~$- Analyze if there is any relationship between the average pixel intensity of an image and its label for `test_df`."
            ]
        },
        {
            "cell_type": "code",
            "execution_count": null,
            "metadata": {},
            "outputs": [],
            "source": [
                "# Your code here"
            ]
        }
    ],
    "metadata": {
        "kernelspec": {
            "display_name": "Python 3.8.13 64-bit ('3.8.13')",
            "language": "python",
            "name": "python3"
        },
        "language_info": {
            "codemirror_mode": {
                "name": "ipython",
                "version": 3
            },
            "file_extension": ".py",
            "mimetype": "text/x-python",
            "name": "python",
            "nbconvert_exporter": "python",
            "pygments_lexer": "ipython3",
            "version": "3.10.12"
        },
        "orig_nbformat": 4,
        "vscode": {
            "interpreter": {
                "hash": "110cc1dee26208153f2972f08a2ad52b6a56238dc66d48e87fb757ef2996db56"
            }
        }
    },
    "nbformat": 4,
    "nbformat_minor": 2
}
