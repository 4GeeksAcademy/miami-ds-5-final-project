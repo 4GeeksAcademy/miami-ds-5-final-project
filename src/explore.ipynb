{
    "cells": [
        {
            "cell_type": "markdown",
            "metadata": {},
            "source": [
                "# Machine Learning Final Project"
            ]
        },
        {
            "cell_type": "markdown",
            "metadata": {},
            "source": [
                "## Step 0: Project Ideation & Dataset Inspection"
            ]
        },
        {
            "cell_type": "markdown",
            "metadata": {},
            "source": [
                "### Instructions\n",
                "1. **Dataset Loading**:\n",
                "\n",
                "    - For each plan (e.g., Plan A, Plan B, etc.), read in the corresponding dataset.\n",
                "\n",
                "2. **Inspect the Dataset**:\n",
                "\n",
                "    - After loading the dataset, display the first few rows to understand its structure.\n",
                "\n",
                "    - Identify and list the types of fields (e.g., numerical, categorical, text).\n",
                "\n",
                "    - Attempt to identify the target variable if your project involves supervised learning."
            ]
        },
        {
            "cell_type": "markdown",
            "metadata": {},
            "source": [
                "### Plan A: Animal drug use adverse event"
            ]
        },
        {
            "cell_type": "code",
            "execution_count": 1,
            "metadata": {},
            "outputs": [],
            "source": [
                "# # Your code here\n",
                "# import pandas as pd\n",
                "# import re\n",
                "# import requests\n",
                "\n",
                "# # Define the base URL and initial query parameters\n",
                "# url = 'https://api.fda.gov/animalandveterinary/event.json?'\n",
                "# search = 'search=drug.active_ingredients.name:\"Moxidectin\"&limit=1000'\n",
                "# url = url + search\n",
                "\n",
                "# results = []\n",
                "\n",
                "# while True:\n",
                "#     # Make the request to the API\n",
                "#     a = requests.get(url)\n",
                "#     data = a.json()\n",
                "    \n",
                "#     # Convert the JSON response to a DataFrame and select specific columns\n",
                "#     df = pd.DataFrame(data['results'])\n",
                "#     df = df[['treated_for_ae', 'reaction', 'time_between_exposure_and_onset', 'drug', 'health_assessment_prior_to_exposure', 'onset_date', 'animal', 'type_of_information', 'serious_ae', 'outcome']]\n",
                "#     results.append(df)\n",
                "    \n",
                "#     # Try to get the next page URL from the 'Link' header\n",
                "#     try:\n",
                "#         link_header = a.headers.get('Link', '')\n",
                "#         b = re.search(r'<(https[^>]+)>', link_header)\n",
                "#         if b:\n",
                "#             next_url = b.group(1)\n",
                "#             url = next_url\n",
                "#         else:\n",
                "#             break\n",
                "#     except Exception as e:\n",
                "#         print(f\"An error occurred: {e}\")\n",
                "#         break\n",
                "\n",
                "# # Concatenate all DataFrames into one\n",
                "# df_combined = pd.concat(results, axis=0)\n",
                "\n",
                "# # Print information about the final DataFrame\n",
                "# df_combined.info()"
            ]
        },
        {
            "cell_type": "code",
            "execution_count": 2,
            "metadata": {},
            "outputs": [],
            "source": [
                "# # Inspect the first five rows\n",
                "# df_combined.head()"
            ]
        },
        {
            "cell_type": "code",
            "execution_count": 3,
            "metadata": {},
            "outputs": [],
            "source": [
                "# df_combined.shape"
            ]
        },
        {
            "cell_type": "markdown",
            "metadata": {},
            "source": [
                "Because some of the fields are JSON objects, we want to further inspect them. \n",
                "\n",
                "We will want to parse these JSON objects in a way that is ingestible for our model. This will occur during EDA."
            ]
        },
        {
            "cell_type": "code",
            "execution_count": 4,
            "metadata": {},
            "outputs": [],
            "source": [
                "# row_index = 0\n",
                "# column_label = 'outcome'\n",
                "# df_combined.iloc[row_index][column_label]"
            ]
        },
        {
            "cell_type": "markdown",
            "metadata": {},
            "source": [
                "### Plan B: Biomedical Image Analysis"
            ]
        },
        {
            "cell_type": "code",
            "execution_count": 5,
            "metadata": {},
            "outputs": [],
            "source": [
                "# TODO: Uncomment if not installed\n",
                "# !pip install medmnist"
            ]
        },
        {
            "cell_type": "markdown",
            "metadata": {},
            "source": [
                "Loading the dataset:"
            ]
        },
        {
            "cell_type": "code",
            "execution_count": 48,
            "metadata": {},
            "outputs": [
                {
                    "name": "stdout",
                    "output_type": "stream",
                    "text": [
                        "Using downloaded and verified file: /home/vscode/.medmnist/pathmnist.npz\n",
                        "Using downloaded and verified file: /home/vscode/.medmnist/pathmnist.npz\n",
                        "Train dataset size: 89996\n",
                        "Test dataset size: 7180\n"
                    ]
                }
            ],
            "source": [
                "# Your code here\n",
                "import medmnist\n",
                "from medmnist import INFO\n",
                "import numpy as np\n",
                "import pandas as pd\n",
                "import torchvision.transforms as transforms\n",
                "\n",
                "# Download the dataset\n",
                "data_flag = 'pathmnist'\n",
                "download = True\n",
                "info = INFO[data_flag]\n",
                "DataClass = getattr(medmnist, info['python_class'])\n",
                "\n",
                "# preprocessing\n",
                "data_transform = transforms.Compose([\n",
                "    transforms.ToTensor(),\n",
                "    transforms.Normalize(mean=[.5], std=[.5])\n",
                "])\n",
                "\n",
                "# Load training and testing datasets\n",
                "train_dataset = DataClass(split='train', transform=data_transform, download=download)\n",
                "test_dataset = DataClass(split='test', transform=data_transform, download=download)\n",
                "\n",
                "# Inspect the dataset\n",
                "print(\"Train dataset size:\", len(train_dataset))\n",
                "print(\"Test dataset size:\", len(test_dataset))"
            ]
        },
        {
            "cell_type": "markdown",
            "metadata": {},
            "source": [
                "Summary:\n",
                "\n",
                "- `transforms.Compose([...])`: This function allows you to chain multiple transformations together. In this case, two transformations are applied to the data:\n",
                "\n",
                "    - `transforms.ToTensor()`: Converts a PIL Image or NumPy array into a PyTorch tensor. This is necessary because neural networks in PyTorch work with tensors.\n",
                "\n",
                "    - `transforms.Normalize(mean=[.5], std=[.5])`: Normalizes the tensor data. Here, it normalizes the input by subtracting the mean and dividing by the standard deviation. This helps in stabilizing and speeding up the training process.\n",
                "\n",
                "- `DataClass`: This is a placeholder for your dataset class, which is responsible for loading and potentially transforming the data. \n",
                "\n",
                "    - `split='train'` or `'test'`: Specifies whether to load the training or test data\n",
                "\n",
                "    - `transform=data_transform`: Applies the transformation defined earlier (converting to tensor and normalizing) to each sample in the dataset.\n",
                "\n",
                "    - `download=download`: If the dataset is not available locally, it will be downloaded."
            ]
        },
        {
            "cell_type": "markdown",
            "metadata": {},
            "source": [
                "Encapsulating data into `data.DataLoader`:"
            ]
        },
        {
            "cell_type": "code",
            "execution_count": 49,
            "metadata": {},
            "outputs": [],
            "source": [
                "import torch.utils.data as data\n",
                "\n",
                "BATCH_SIZE = 128\n",
                "\n",
                "# Example of loading the dataset into a DataLoader\n",
                "train_loader = data.DataLoader(dataset=train_dataset, batch_size=BATCH_SIZE, shuffle=True)\n",
                "test_loader = data.DataLoader(dataset=test_dataset, batch_size=2*BATCH_SIZE, shuffle=False)"
            ]
        },
        {
            "cell_type": "markdown",
            "metadata": {},
            "source": [
                "Summary:\n",
                "\n",
                "- `data.DataLoader`: This wraps the dataset into a DataLoader object, which provides an iterator to iterate over the dataset in mini-batches.\n",
                "\n",
                "    - `data.DataLoader` is essential for handling data efficiently in PyTorch, particularly when dealing with large datasets. It batches the data, optionally shuffles it, and loads it in a way that can be processed by your model.\n",
                "\n",
                "    - `dataset=train_dataset` or `test_dataset`: Specifies the dataset to load from.\n",
                "\n",
                "    - `batch_size=BATCH_SIZE`: Defines how many samples are loaded per batch. This is crucial for training neural networks, as it allows for gradient updates over multiple samples at once rather than one at a time.\n",
                "\n",
                "    - `shuffle=True` or `False`: Determines whether the data should be shuffled before being passed to the model. Shuffling is generally enabled during training to ensure that the model doesn't learn the order of the data. During evaluation, shuffling is typically turned off."
            ]
        },
        {
            "cell_type": "markdown",
            "metadata": {},
            "source": [
                "Convert `train_dataset` and `test_dataset` into Dataframes, `train_df` and `test_df`. We can store these dataframes in a SQL databases for safekeeping (Step 3)."
            ]
        },
        {
            "cell_type": "code",
            "execution_count": 50,
            "metadata": {},
            "outputs": [
                {
                    "name": "stderr",
                    "output_type": "stream",
                    "text": [
                        "100%|██████████| 89996/89996 [00:17<00:00, 5025.03it/s]\n",
                        "100%|██████████| 7180/7180 [00:01<00:00, 4907.84it/s]\n"
                    ]
                },
                {
                    "data": {
                        "text/html": [
                            "<div>\n",
                            "<style scoped>\n",
                            "    .dataframe tbody tr th:only-of-type {\n",
                            "        vertical-align: middle;\n",
                            "    }\n",
                            "\n",
                            "    .dataframe tbody tr th {\n",
                            "        vertical-align: top;\n",
                            "    }\n",
                            "\n",
                            "    .dataframe thead th {\n",
                            "        text-align: right;\n",
                            "    }\n",
                            "</style>\n",
                            "<table border=\"1\" class=\"dataframe\">\n",
                            "  <thead>\n",
                            "    <tr style=\"text-align: right;\">\n",
                            "      <th></th>\n",
                            "      <th>img</th>\n",
                            "      <th>label</th>\n",
                            "    </tr>\n",
                            "  </thead>\n",
                            "  <tbody>\n",
                            "    <tr>\n",
                            "      <th>0</th>\n",
                            "      <td>[[[0.7254902, 0.7176471, 0.7254902, 0.73333335...</td>\n",
                            "      <td>[0]</td>\n",
                            "    </tr>\n",
                            "    <tr>\n",
                            "      <th>1</th>\n",
                            "      <td>[[[-0.011764705, 0.11372554, 0.36470592, 0.513...</td>\n",
                            "      <td>[4]</td>\n",
                            "    </tr>\n",
                            "    <tr>\n",
                            "      <th>2</th>\n",
                            "      <td>[[[0.7490196, 0.7490196, 0.70980394, 0.6470588...</td>\n",
                            "      <td>[7]</td>\n",
                            "    </tr>\n",
                            "    <tr>\n",
                            "      <th>3</th>\n",
                            "      <td>[[[0.69411767, 0.69411767, 0.67058825, 0.71764...</td>\n",
                            "      <td>[5]</td>\n",
                            "    </tr>\n",
                            "    <tr>\n",
                            "      <th>4</th>\n",
                            "      <td>[[[0.6, 0.6, 0.654902, 0.69411767, 0.654902, 0...</td>\n",
                            "      <td>[5]</td>\n",
                            "    </tr>\n",
                            "  </tbody>\n",
                            "</table>\n",
                            "</div>"
                        ],
                        "text/plain": [
                            "                                                 img label\n",
                            "0  [[[0.7254902, 0.7176471, 0.7254902, 0.73333335...   [0]\n",
                            "1  [[[-0.011764705, 0.11372554, 0.36470592, 0.513...   [4]\n",
                            "2  [[[0.7490196, 0.7490196, 0.70980394, 0.6470588...   [7]\n",
                            "3  [[[0.69411767, 0.69411767, 0.67058825, 0.71764...   [5]\n",
                            "4  [[[0.6, 0.6, 0.654902, 0.69411767, 0.654902, 0...   [5]"
                        ]
                    },
                    "execution_count": 50,
                    "metadata": {},
                    "output_type": "execute_result"
                }
            ],
            "source": [
                "from tqdm import tqdm\n",
                "\n",
                "# Load data from `train_dataset` and `test_dataset` using `tqdm`\n",
                "train_data = [(np.array(img), label) for img, label in tqdm(train_dataset)]\n",
                "test_data = [(np.array(img), label) for img, label in tqdm(test_dataset)]\n",
                "\n",
                "# Convert `train_data` and `test_data` to DataFrame\n",
                "train_df = pd.DataFrame(train_data, columns=['img', 'label'])\n",
                "test_df = pd.DataFrame(test_data, columns=['img', 'label'])\n",
                "\n",
                "# Inspect train_df\n",
                "train_df.head()"
            ]
        },
        {
            "cell_type": "markdown",
            "metadata": {},
            "source": [
                "Each row represents an image and its corresponding label. The values you see under `img` are the normalized pixel values of the images. These arrays are typically multi-dimensional, with each dimension corresponding to different properties of the image. Let's inspect a single image,"
            ]
        },
        {
            "cell_type": "code",
            "execution_count": 51,
            "metadata": {},
            "outputs": [
                {
                    "data": {
                        "text/plain": [
                            "array([[[ 0.6       ,  0.6       ,  0.654902  , ...,  0.69411767,\n",
                            "          0.75686276,  0.827451  ],\n",
                            "        [ 0.62352943,  0.6392157 ,  0.60784316, ...,  0.69411767,\n",
                            "          0.78039217,  0.84313726],\n",
                            "        [ 0.77254903,  0.6862745 ,  0.6627451 , ...,  0.62352943,\n",
                            "          0.654902  ,  0.79607844],\n",
                            "        ...,\n",
                            "        [ 0.69411767,  0.6156863 ,  0.6784314 , ...,  0.7019608 ,\n",
                            "          0.7176471 ,  0.7647059 ],\n",
                            "        [ 0.64705884,  0.70980394,  0.7882353 , ...,  0.6862745 ,\n",
                            "          0.7176471 ,  0.78039217],\n",
                            "        [ 0.8117647 ,  0.7882353 ,  0.8117647 , ...,  0.52156866,\n",
                            "          0.7019608 ,  0.79607844]],\n",
                            "\n",
                            "       [[-0.02745098, -0.09019607,  0.1686275 , ...,  0.20000005,\n",
                            "          0.45098042,  0.654902  ],\n",
                            "        [ 0.03529418,  0.10588241, -0.00392157, ...,  0.20000005,\n",
                            "          0.4901961 ,  0.7019608 ],\n",
                            "        [ 0.4039216 ,  0.22352946,  0.17647064, ...,  0.10588241,\n",
                            "          0.20784318,  0.5372549 ],\n",
                            "        ...,\n",
                            "        [ 0.3411765 ,  0.18431377,  0.27058828, ...,  0.35686278,\n",
                            "          0.3803922 ,  0.54509807],\n",
                            "        [ 0.28627455,  0.3176471 ,  0.56078434, ...,  0.28627455,\n",
                            "          0.41960788,  0.6392157 ],\n",
                            "        [ 0.6784314 ,  0.58431375,  0.6       , ..., -0.02745098,\n",
                            "          0.33333337,  0.6156863 ]],\n",
                            "\n",
                            "       [[ 0.38823533,  0.33333337,  0.4901961 , ...,  0.52156866,\n",
                            "          0.6784314 ,  0.7882353 ],\n",
                            "        [ 0.427451  ,  0.47450984,  0.3803922 , ...,  0.52156866,\n",
                            "          0.7019608 ,  0.81960785],\n",
                            "        [ 0.654902  ,  0.54509807,  0.5137255 , ...,  0.45098042,\n",
                            "          0.5137255 ,  0.7176471 ],\n",
                            "        ...,\n",
                            "        [ 0.60784316,  0.49803925,  0.5686275 , ...,  0.62352943,\n",
                            "          0.62352943,  0.7254902 ],\n",
                            "        [ 0.5686275 ,  0.5921569 ,  0.73333335, ...,  0.58431375,\n",
                            "          0.64705884,  0.78039217],\n",
                            "        [ 0.79607844,  0.7490196 ,  0.75686276, ...,  0.3803922 ,\n",
                            "          0.60784316,  0.7647059 ]]], dtype=float32)"
                        ]
                    },
                    "execution_count": 51,
                    "metadata": {},
                    "output_type": "execute_result"
                }
            ],
            "source": [
                "# Select an index to view\n",
                "index = 4  # Change this to view a different image\n",
                "\n",
                "# From the train_dataset\n",
                "image, label = train_dataset[index]\n",
                "label = label.item()\n",
                "\n",
                "# Convert image to numpy array if needed\n",
                "image = np.array(image)\n",
                "image"
            ]
        },
        {
            "cell_type": "markdown",
            "metadata": {},
            "source": [
                "The images are in color because the array is 3D with dimensions `(channels, height, width)`, where `channels` is usually 3 (representing the Red, Green, and Blue color channels). Each element in the array represents the intensity of the corresponding color channel for a pixel.\n",
                "\n",
                "Below we can see that the images are 28x28 pixels and RGB (in color),"
            ]
        },
        {
            "cell_type": "code",
            "execution_count": 52,
            "metadata": {},
            "outputs": [
                {
                    "data": {
                        "text/plain": [
                            "(3, 28, 28)"
                        ]
                    },
                    "execution_count": 52,
                    "metadata": {},
                    "output_type": "execute_result"
                }
            ],
            "source": [
                "np.shape(image)"
            ]
        },
        {
            "cell_type": "markdown",
            "metadata": {},
            "source": [
                "These arrays are used as input for machine learning models, where the model processes these pixel values to learn patterns and make predictions based on the images.\n",
                "\n",
                "Lets use `matplotlib` to render the image from the pixel data. To display an image using `matplotlib`, you need to ensure the image is in the correct format. `matplotlib` expects the image in the format `(height, width, channels)` (i.e., (28, 28, 3)), so we need need to transpose the dimensions of the array.\n",
                "\n",
                "*Note: Normalization was reversed to display the original image*"
            ]
        },
        {
            "cell_type": "code",
            "execution_count": 53,
            "metadata": {},
            "outputs": [
                {
                    "data": {
                        "image/png": "[encoded data removed]",
                        "text/plain": [
                            "<Figure size 640x480 with 1 Axes>"
                        ]
                    },
                    "metadata": {},
                    "output_type": "display_data"
                }
            ],
            "source": [
                "import matplotlib.pyplot as plt\n",
                "\n",
                "# Reverse the normalization: Since you used mean=[.5], std=[.5], reverse it using the formula:\n",
                "image = image * 0.5 + 0.5\n",
                "\n",
                "# Transpose the image to match Matplotlib's expected format (H, W, C)\n",
                "image = np.transpose(image, (1, 2, 0))\n",
                "\n",
                "# Display the image\n",
                "plt.imshow(image)\n",
                "plt.title(f'Label: {label}')\n",
                "plt.axis('off')  # Turn off axis labels\n",
                "\n",
                "plt.show()"
            ]
        },
        {
            "cell_type": "markdown",
            "metadata": {},
            "source": [
                "Inspect 9 random images with their associated label,"
            ]
        },
        {
            "cell_type": "code",
            "execution_count": 54,
            "metadata": {},
            "outputs": [
                {
                    "data": {
                        "image/png": "[encoded data removed]",
                        "text/plain": [
                            "<Figure size 800x800 with 9 Axes>"
                        ]
                    },
                    "metadata": {},
                    "output_type": "display_data"
                }
            ],
            "source": [
                "import matplotlib.pyplot as plt\n",
                "import numpy as np\n",
                "import random\n",
                "import os\n",
                "\n",
                "# Select 9 random indices\n",
                "random_indices = random.sample(range(len(train_dataset)), 9)\n",
                "\n",
                "# Create a 3x3 subplot\n",
                "fig, axes = plt.subplots(3, 3, figsize=(8, 8))\n",
                "\n",
                "# Loop over the 9 random indices and display each image\n",
                "for i, ax in enumerate(axes.flat):\n",
                "    image, label = train_dataset[random_indices[i]]\n",
                "    label = label.item()\n",
                "\n",
                "    # Reverse the normalization: Since you used mean=[.5], std=[.5], reverse it using the formula:\n",
                "    image = image * 0.5 + 0.5\n",
                "\n",
                "    # Convert PyTorch tensor to NumPy array\n",
                "    image = image.numpy()\n",
                "\n",
                "    # Transpose the image to match Matplotlib's expected format (H, W, C)\n",
                "    image = np.transpose(image, (1, 2, 0))\n",
                "\n",
                "    # Ensure the image data is in the correct format\n",
                "    image = np.clip(image, 0, 1)  # Clip to range [0, 1] if it's a float image\n",
                "\n",
                "    # Ensure the directory for saving images exists\n",
                "    save_dir = f'../data/raw/Class {label}'\n",
                "    os.makedirs(save_dir, exist_ok=True)\n",
                "\n",
                "    # Save the image with a unique index\n",
                "    filename = f'{save_dir}/image_{random_indices[i]}.png'\n",
                "    plt.imsave(filename, image)\n",
                "\n",
                "    # Display the image\n",
                "    ax.imshow(image, cmap='gray')\n",
                "    ax.set_title(f'Label: {label}')\n",
                "    ax.axis('off')\n",
                "\n",
                "# Adjust layout\n",
                "plt.tight_layout()\n",
                "plt.show()"
            ]
        },
        {
            "cell_type": "code",
            "execution_count": 55,
            "metadata": {},
            "outputs": [
                {
                    "name": "stdout",
                    "output_type": "stream",
                    "text": [
                        "Unique labels: [0, 1, 2, 3, 4, 5, 6, 7, 8]\n"
                    ]
                }
            ],
            "source": [
                "# Extract all labels from the train_dataset\n",
                "labels = [label.item() for _, label in train_data]\n",
                "\n",
                "# Get unique labels\n",
                "unique_labels = list(set(labels))\n",
                "\n",
                "# Print unique labels\n",
                "print(\"Unique labels:\", unique_labels)"
            ]
        },
        {
            "cell_type": "markdown",
            "metadata": {},
            "source": [
                "Mapping of the labels:"
            ]
        },
        {
            "cell_type": "code",
            "execution_count": 56,
            "metadata": {},
            "outputs": [
                {
                    "name": "stdout",
                    "output_type": "stream",
                    "text": [
                        "{'0': 'adipose', '1': 'background', '2': 'debris', '3': 'lymphocytes', '4': 'mucus', '5': 'smooth muscle', '6': 'normal colon mucosa', '7': 'cancer-associated stroma', '8': 'colorectal adenocarcinoma epithelium'}\n"
                    ]
                }
            ],
            "source": [
                "print(info['label'])"
            ]
        },
        {
            "cell_type": "markdown",
            "metadata": {},
            "source": [
                "### Plan C: Website Fact Checker"
            ]
        },
        {
            "cell_type": "code",
            "execution_count": 57,
            "metadata": {},
            "outputs": [],
            "source": [
                "# Your code here"
            ]
        },
        {
            "cell_type": "markdown",
            "metadata": {},
            "source": [
                "## Step 1: Problem definition\n",
                "\n",
                "### Instructions\n",
                "\n",
                "1. **Select a Project Plan:**\n",
                "\n",
                "    - Review the dataset options from Plan A, Plan B, and Plan C.\n",
                "\n",
                "    - Choose one of the plans to move forward with based on your dataset inspection and interest.\n",
                "\n",
                "2. **Write a Project Description:**\n",
                "\n",
                "    - Clearly define the problem or question you intend to address with your selected dataset.\n",
                "\n",
                "    - Consider how your chosen dataset can help solve this problem or answer the question.\n",
                "\n",
                "    - Write a one-sentence description that clearly states the objective of your project. This should include what you aim to achieve or understand with the dataset.\n",
                "\n",
                "3. **Name the Project:**\n",
                "\n",
                "    - Create a name for your project that reflects the focus of your work."
            ]
        },
        {
            "cell_type": "markdown",
            "metadata": {},
            "source": [
                "### 1. Select a Project Plan"
            ]
        },
        {
            "cell_type": "markdown",
            "metadata": {},
            "source": [
                "Plan B: Predicting Colon Cancer Histology Slide Content Using Deep Learning"
            ]
        },
        {
            "cell_type": "markdown",
            "metadata": {},
            "source": [
                "### 2. Write a Project Description"
            ]
        },
        {
            "cell_type": "markdown",
            "metadata": {},
            "source": [
                "Problem Definition:\n",
                "The project aims to develop a machine learning model capable of accurately predicting the content of histology slides related to colon cancer. This involves analyzing images of colon cancer tissue to identify specific features and patterns that can indicate the presence and type of cancerous cells. The dataset comprises 100,000 non-overlapping image patches, each representing one of nine classes: adipose tissue (ADI), background (BACK), debris (DEB), lymphocyte (LYM), mucus (MUC), smooth muscle (MUS), normal colon mucosa (NORM), cancer-associated stroma (STR), and CRC Epithelium (TUM). Accurately classifying these image patches is crucial for aiding in the diagnosis and treatment planning of colon cancer.\n",
                "\n",
                "Dataset Utilization:\n",
                "The chosen dataset from MedMNIST.com provides a collection of labeled histology images specific to colon cancer. By training the model on this dataset, we aim to create a tool that can assist pathologists in diagnosing colon cancer more effectively.\n",
                "\n",
                "Objective:\n",
                "The objective of this project is to use deep learning techniques to classify and predict the contents of colon cancer histology slides, ultimately aiding in the early and accurate detection of colon cancer."
            ]
        },
        {
            "cell_type": "markdown",
            "metadata": {},
            "source": [
                "### 3. Name the Project"
            ]
        },
        {
            "cell_type": "markdown",
            "metadata": {},
            "source": [
                "Project Title: Predicting Colon Cancer Histology Slide Content Using Deep Learning"
            ]
        },
        {
            "cell_type": "markdown",
            "metadata": {},
            "source": [
                "## Step 2: Acquiring and loading the data set\n",
                "\n",
                "### Instructions\n",
                "\n",
                "1. **Acquiring the Dataset:** Describe how you have acquired the dataset for your project. Depending on the method you used:\n",
                "\n",
                "    1. **Web Scraping:**\n",
                "\n",
                "        - If you used web scraping, provide details about the website or web page from which you extracted data.\n",
                "\n",
                "        - Include information on the tools or libraries you used for scraping (e.g., BeautifulSoup, Scrapy).\n",
                "\n",
                "        - Mention any challenges faced during the scraping process and how you addressed them.\n",
                "\n",
                "    2. **SQL Database:**\n",
                "\n",
                "        - If you obtained data from a public database using SQL, specify the database you accessed.\n",
                "\n",
                "        - Describe the SQL queries you used to extract the data.\n",
                "\n",
                "        - Include any relevant details about the database schema and how you navigated it.\n",
                "\n",
                "    3. **Public API:**\n",
                "\n",
                "        - If you accessed data through a public API, provide details about the API.\n",
                "\n",
                "        - Describe the API endpoints you used and any parameters or filters applied to your requests.\n",
                "\n",
                "        - Mention the format of the data returned by the API and how you processed it.\n",
                "\n",
                "2. **Loading the Dataset:**\n",
                "\n",
                "    - Detail the steps you followed to load the dataset into your working environment.\n",
                "\n",
                "    - Describe the tools or libraries used for loading the data (e.g., `Pandas` for CSV files, `SQLAlchemy` for SQL databases, `requests` or an API client library for APIs).\n",
                "\n",
                "    - Include any data cleaning or preprocessing steps you performed to prepare the data for analysis.\n",
                "\n",
                "3. **Document Your Process:**\n",
                "\n",
                "    - Provide a brief summary of your data acquisition and loading process, highlighting any key steps or decisions.\n",
                "\n",
                "    - Include any challenges or issues encountered and how you resolved them."
            ]
        },
        {
            "cell_type": "markdown",
            "metadata": {},
            "source": [
                "There is a premade package that we have downloaded and used the documentation to dowload all of the images and set them up in an SQL database.  Though, honestly, using the prebuilt custom DataLoader class based in pytorch will likely be much more sensible for our purposes, as it will automatically batch the images and take care of much of the headache."
            ]
        },
        {
            "cell_type": "markdown",
            "metadata": {},
            "source": [
                "## Step 3: Store the information\n",
                "\n",
                "### Instructions\n",
                "\n",
                "1. **Choose a Database:**\n",
                "\n",
                "    - Select a database that is most compatible with your dataset. Consider factors such as the size of the data, the complexity of the queries you plan to perform, and the features offered by the database.\n",
                "\n",
                "    - The databases we have studied include SQLite, PostgreSQL, MySQL, etc.\n",
                "\n",
                "2. **Store the Data:**\n",
                "\n",
                "    - Import the dataset into the chosen database. This may involve creating tables and defining schemas that match the structure of your data.\n",
                "\n",
                "    - Ensure that the database is properly set up to handle the data efficiently. Consider indexing or other optimizations if necessary.\n",
                "\n",
                "3. **Perform Queries:**\n",
                "\n",
                "    - Write and execute SQL queries to interact with your stored data. Use the following types of queries:\n",
                "\n",
                "        - `SELECT`: Retrieve specific data from your tables. For example, you can select columns or rows that meet certain criteria.\n",
                "\n",
                "        - `JOIN`: Combine data from multiple tables based on related columns to perform more complex queries.\n",
                "\n",
                "        - `INSERT`: Add new data to your tables if necessary.\n",
                "\n",
                "        - Include any other relevant SQL operations that are useful for your analysis.\n",
                "    \n",
                "    - Alternatively, use Python wrappers for SQL (e.g., `SQLAlchemy`, `pandas`) if applicable. These wrappers can help you perform SQL operations more easily within a Python environment.\n",
                "\n",
                "4. **Document Your Process:**\n",
                "\n",
                "    - Provide a summary of how you stored your data in the database, including the database used and the structure of the tables.\n",
                "\n",
                "    - Include examples of the SQL queries you wrote and explain how they help in starting the analysis.\n",
                "\n",
                "    - Discuss any challenges faced during the data storage and querying process and how you addressed them."
            ]
        },
        {
            "cell_type": "code",
            "execution_count": 58,
            "metadata": {},
            "outputs": [],
            "source": [
                "import pandas as pd\n",
                "import sqlite3\n",
                "\n",
                "conn = sqlite3.connect('../Bump/DBIITheReckoning.db')\n",
                "\n",
                "# Commented out to save time\n",
                "# train_df.to_sql('Train_Data', conn, if_exists='replace', index=False)\n",
                "# test_df.to_sql('Test_Data', conn, if_exists='replace', index=False)"
            ]
        },
        {
            "cell_type": "markdown",
            "metadata": {},
            "source": [
                "1. Write a SQL `SELECT` statement to retrieve the first 10 rows from your training set table &\n",
                "\n",
                "2. Write a SQL `SELECT` statement to retrieve the first 10 rows from your test set table:"
            ]
        },
        {
            "cell_type": "code",
            "execution_count": 59,
            "metadata": {},
            "outputs": [],
            "source": [
                "# Initialize an empty list to store dataframes\n",
                "dfs = []\n",
                "\n",
                "cursor = conn.cursor()\n",
                "query = 'SELECT * FROM {} LIMIT 10'\n",
                "for i in ['Train_Data', 'Test_Data']:\n",
                "    que = query.format(i)  # Format the query string with the table name\n",
                "    cursor.execute(que)\n",
                "\n",
                "    # Fetch all the records and convert them to a dataframe\n",
                "    df = pd.DataFrame(cursor.fetchall(), columns=[desc[0] for desc in cursor.description])\n",
                "\n",
                "    # Convert the byte data back into numpy arrays\n",
                "    # Adjust dtype and shape as per your data\n",
                "    def decode_image_data(byte_data, shape=(3, 28, 28), dtype=np.float32):\n",
                "        array = np.frombuffer(byte_data, dtype=dtype)\n",
                "        return array.reshape(shape)\n",
                "\n",
                "    # Convert the byte data back into numpy arrays\n",
                "    df['img'] = df['img'].apply(lambda x: decode_image_data(x, shape=(3, 28, 28), dtype=np.float32))\n",
                "    df['label'] = df['label'].apply(lambda x: np.frombuffer(x, dtype=np.int64))  # Adjust dtype as per your data\n",
                "\n",
                "    # Append the dataframe to the list\n",
                "    dfs.append(df)"
            ]
        },
        {
            "cell_type": "markdown",
            "metadata": {},
            "source": [
                "Inspect the retrieved data and ensure they match the inputs `train_df` and `test_df`,"
            ]
        },
        {
            "cell_type": "code",
            "execution_count": 60,
            "metadata": {},
            "outputs": [
                {
                    "data": {
                        "text/html": [
                            "<div>\n",
                            "<style scoped>\n",
                            "    .dataframe tbody tr th:only-of-type {\n",
                            "        vertical-align: middle;\n",
                            "    }\n",
                            "\n",
                            "    .dataframe tbody tr th {\n",
                            "        vertical-align: top;\n",
                            "    }\n",
                            "\n",
                            "    .dataframe thead th {\n",
                            "        text-align: right;\n",
                            "    }\n",
                            "</style>\n",
                            "<table border=\"1\" class=\"dataframe\">\n",
                            "  <thead>\n",
                            "    <tr style=\"text-align: right;\">\n",
                            "      <th></th>\n",
                            "      <th>img</th>\n",
                            "      <th>label</th>\n",
                            "    </tr>\n",
                            "  </thead>\n",
                            "  <tbody>\n",
                            "    <tr>\n",
                            "      <th>0</th>\n",
                            "      <td>[[[0.7254902, 0.7176471, 0.7254902, 0.73333335...</td>\n",
                            "      <td>[0]</td>\n",
                            "    </tr>\n",
                            "    <tr>\n",
                            "      <th>1</th>\n",
                            "      <td>[[[-0.011764705, 0.11372554, 0.36470592, 0.513...</td>\n",
                            "      <td>[4]</td>\n",
                            "    </tr>\n",
                            "    <tr>\n",
                            "      <th>2</th>\n",
                            "      <td>[[[0.7490196, 0.7490196, 0.70980394, 0.6470588...</td>\n",
                            "      <td>[7]</td>\n",
                            "    </tr>\n",
                            "    <tr>\n",
                            "      <th>3</th>\n",
                            "      <td>[[[0.69411767, 0.69411767, 0.67058825, 0.71764...</td>\n",
                            "      <td>[5]</td>\n",
                            "    </tr>\n",
                            "    <tr>\n",
                            "      <th>4</th>\n",
                            "      <td>[[[0.6, 0.6, 0.654902, 0.69411767, 0.654902, 0...</td>\n",
                            "      <td>[5]</td>\n",
                            "    </tr>\n",
                            "    <tr>\n",
                            "      <th>5</th>\n",
                            "      <td>[[[0.5764706, 0.60784316, 0.58431375, 0.396078...</td>\n",
                            "      <td>[8]</td>\n",
                            "    </tr>\n",
                            "    <tr>\n",
                            "      <th>6</th>\n",
                            "      <td>[[[0.36470592, 0.36470592, 0.49803925, 0.60784...</td>\n",
                            "      <td>[3]</td>\n",
                            "    </tr>\n",
                            "    <tr>\n",
                            "      <th>7</th>\n",
                            "      <td>[[[0.1686275, 0.56078434, 0.22352946, 0.278431...</td>\n",
                            "      <td>[3]</td>\n",
                            "    </tr>\n",
                            "    <tr>\n",
                            "      <th>8</th>\n",
                            "      <td>[[[0.5764706, 0.58431375, 0.5294118, 0.5686275...</td>\n",
                            "      <td>[5]</td>\n",
                            "    </tr>\n",
                            "    <tr>\n",
                            "      <th>9</th>\n",
                            "      <td>[[[0.5372549, 0.5764706, 0.5529412, 0.54509807...</td>\n",
                            "      <td>[2]</td>\n",
                            "    </tr>\n",
                            "  </tbody>\n",
                            "</table>\n",
                            "</div>"
                        ],
                        "text/plain": [
                            "                                                 img label\n",
                            "0  [[[0.7254902, 0.7176471, 0.7254902, 0.73333335...   [0]\n",
                            "1  [[[-0.011764705, 0.11372554, 0.36470592, 0.513...   [4]\n",
                            "2  [[[0.7490196, 0.7490196, 0.70980394, 0.6470588...   [7]\n",
                            "3  [[[0.69411767, 0.69411767, 0.67058825, 0.71764...   [5]\n",
                            "4  [[[0.6, 0.6, 0.654902, 0.69411767, 0.654902, 0...   [5]\n",
                            "5  [[[0.5764706, 0.60784316, 0.58431375, 0.396078...   [8]\n",
                            "6  [[[0.36470592, 0.36470592, 0.49803925, 0.60784...   [3]\n",
                            "7  [[[0.1686275, 0.56078434, 0.22352946, 0.278431...   [3]\n",
                            "8  [[[0.5764706, 0.58431375, 0.5294118, 0.5686275...   [5]\n",
                            "9  [[[0.5372549, 0.5764706, 0.5529412, 0.54509807...   [2]"
                        ]
                    },
                    "execution_count": 60,
                    "metadata": {},
                    "output_type": "execute_result"
                }
            ],
            "source": [
                "retrieved_train_data = dfs[0]\n",
                "retrieved_train_data"
            ]
        },
        {
            "cell_type": "code",
            "execution_count": 61,
            "metadata": {},
            "outputs": [
                {
                    "data": {
                        "text/html": [
                            "<div>\n",
                            "<style scoped>\n",
                            "    .dataframe tbody tr th:only-of-type {\n",
                            "        vertical-align: middle;\n",
                            "    }\n",
                            "\n",
                            "    .dataframe tbody tr th {\n",
                            "        vertical-align: top;\n",
                            "    }\n",
                            "\n",
                            "    .dataframe thead th {\n",
                            "        text-align: right;\n",
                            "    }\n",
                            "</style>\n",
                            "<table border=\"1\" class=\"dataframe\">\n",
                            "  <thead>\n",
                            "    <tr style=\"text-align: right;\">\n",
                            "      <th></th>\n",
                            "      <th>img</th>\n",
                            "      <th>label</th>\n",
                            "    </tr>\n",
                            "  </thead>\n",
                            "  <tbody>\n",
                            "    <tr>\n",
                            "      <th>0</th>\n",
                            "      <td>[[[0.4901961, 0.34901965, 0.19215691, 0.050980...</td>\n",
                            "      <td>[8]</td>\n",
                            "    </tr>\n",
                            "    <tr>\n",
                            "      <th>1</th>\n",
                            "      <td>[[[0.5686275, 0.39607847, 0.38823533, 0.364705...</td>\n",
                            "      <td>[4]</td>\n",
                            "    </tr>\n",
                            "    <tr>\n",
                            "      <th>2</th>\n",
                            "      <td>[[[0.8666667, 0.81960785, 0.8039216, 0.7490196...</td>\n",
                            "      <td>[4]</td>\n",
                            "    </tr>\n",
                            "    <tr>\n",
                            "      <th>3</th>\n",
                            "      <td>[[[0.5372549, 0.5372549, 0.654902, 0.5294118, ...</td>\n",
                            "      <td>[8]</td>\n",
                            "    </tr>\n",
                            "    <tr>\n",
                            "      <th>4</th>\n",
                            "      <td>[[[0.827451, 0.7254902, 0.62352943, 0.67058825...</td>\n",
                            "      <td>[4]</td>\n",
                            "    </tr>\n",
                            "    <tr>\n",
                            "      <th>5</th>\n",
                            "      <td>[[[0.7176471, 0.70980394, 0.60784316, 0.443137...</td>\n",
                            "      <td>[4]</td>\n",
                            "    </tr>\n",
                            "    <tr>\n",
                            "      <th>6</th>\n",
                            "      <td>[[[0.058823586, 0.45882356, 0.7490196, 0.85882...</td>\n",
                            "      <td>[8]</td>\n",
                            "    </tr>\n",
                            "    <tr>\n",
                            "      <th>7</th>\n",
                            "      <td>[[[0.84313726, 0.84313726, 0.827451, 0.8352941...</td>\n",
                            "      <td>[0]</td>\n",
                            "    </tr>\n",
                            "    <tr>\n",
                            "      <th>8</th>\n",
                            "      <td>[[[0.027451038, -0.0039215684, 0.19215691, 0.4...</td>\n",
                            "      <td>[6]</td>\n",
                            "    </tr>\n",
                            "    <tr>\n",
                            "      <th>9</th>\n",
                            "      <td>[[[0.92156863, 0.92941177, 0.92156863, 0.89019...</td>\n",
                            "      <td>[8]</td>\n",
                            "    </tr>\n",
                            "  </tbody>\n",
                            "</table>\n",
                            "</div>"
                        ],
                        "text/plain": [
                            "                                                 img label\n",
                            "0  [[[0.4901961, 0.34901965, 0.19215691, 0.050980...   [8]\n",
                            "1  [[[0.5686275, 0.39607847, 0.38823533, 0.364705...   [4]\n",
                            "2  [[[0.8666667, 0.81960785, 0.8039216, 0.7490196...   [4]\n",
                            "3  [[[0.5372549, 0.5372549, 0.654902, 0.5294118, ...   [8]\n",
                            "4  [[[0.827451, 0.7254902, 0.62352943, 0.67058825...   [4]\n",
                            "5  [[[0.7176471, 0.70980394, 0.60784316, 0.443137...   [4]\n",
                            "6  [[[0.058823586, 0.45882356, 0.7490196, 0.85882...   [8]\n",
                            "7  [[[0.84313726, 0.84313726, 0.827451, 0.8352941...   [0]\n",
                            "8  [[[0.027451038, -0.0039215684, 0.19215691, 0.4...   [6]\n",
                            "9  [[[0.92156863, 0.92941177, 0.92156863, 0.89019...   [8]"
                        ]
                    },
                    "execution_count": 61,
                    "metadata": {},
                    "output_type": "execute_result"
                }
            ],
            "source": [
                "retrieved_test_data = dfs[1]\n",
                "retrieved_test_data"
            ]
        },
        {
            "cell_type": "markdown",
            "metadata": {},
            "source": [
                "## Step 4 & 5: Perform a descriptive analysis & full EDA"
            ]
        },
        {
            "cell_type": "markdown",
            "metadata": {},
            "source": [
                "1. **Getting the Dimensions of the Dataframe**\n",
                "\n",
                "    - Get the dimensions of the `train_df`. This will give you the number of rows (images) and columns in the dataframe."
            ]
        },
        {
            "cell_type": "code",
            "execution_count": 62,
            "metadata": {},
            "outputs": [
                {
                    "data": {
                        "text/plain": [
                            "(89996, 2)"
                        ]
                    },
                    "execution_count": 62,
                    "metadata": {},
                    "output_type": "execute_result"
                }
            ],
            "source": [
                "train_df.shape"
            ]
        },
        {
            "cell_type": "markdown",
            "metadata": {},
            "source": [
                "$~~~~~~~~~~$- Get the dimensions of `test_df`."
            ]
        },
        {
            "cell_type": "code",
            "execution_count": 63,
            "metadata": {},
            "outputs": [
                {
                    "data": {
                        "text/plain": [
                            "(7180, 2)"
                        ]
                    },
                    "execution_count": 63,
                    "metadata": {},
                    "output_type": "execute_result"
                }
            ],
            "source": [
                "test_df.shape"
            ]
        },
        {
            "cell_type": "markdown",
            "metadata": {},
            "source": [
                "2. **Checking for Missing Values**\n",
                "\n",
                "    - Check and count how many rows have missing values in `train_df`. Drop/remove rows with missing values if any."
            ]
        },
        {
            "cell_type": "code",
            "execution_count": 64,
            "metadata": {},
            "outputs": [
                {
                    "name": "stdout",
                    "output_type": "stream",
                    "text": [
                        "Missing values per column:\n",
                        " img      0\n",
                        "label    0\n",
                        "dtype: int64\n",
                        "Total number of rows with missing values: 0\n"
                    ]
                }
            ],
            "source": [
                "# Your code here\n",
                "# Check for missing values in each column\n",
                "missing_values = train_df.isnull().sum()\n",
                "print(\"Missing values per column:\\n\", missing_values)\n",
                "\n",
                "# Count the total number of rows with any missing values\n",
                "rows_with_missing_values = train_df.isnull().any(axis=1).sum()\n",
                "print(f'Total number of rows with missing values: {rows_with_missing_values}')"
            ]
        },
        {
            "cell_type": "markdown",
            "metadata": {},
            "source": [
                "$~~~~~~~~~~$- Check and count how many rows have missing values in `test_df`. Drop/remove rows with missing values if any."
            ]
        },
        {
            "cell_type": "code",
            "execution_count": 65,
            "metadata": {},
            "outputs": [
                {
                    "name": "stdout",
                    "output_type": "stream",
                    "text": [
                        "Missing values per column:\n",
                        " img      0\n",
                        "label    0\n",
                        "dtype: int64\n",
                        "Total number of rows with missing values: 0\n"
                    ]
                }
            ],
            "source": [
                "# Your code here\n",
                "# Check for missing values in each column\n",
                "missing_values = test_df.isnull().sum()\n",
                "print(\"Missing values per column:\\n\", missing_values)\n",
                "\n",
                "# Count the total number of rows with any missing values\n",
                "rows_with_missing_values = test_df.isnull().any(axis=1).sum()\n",
                "print(f'Total number of rows with missing values: {rows_with_missing_values}')"
            ]
        },
        {
            "cell_type": "markdown",
            "metadata": {},
            "source": [
                "3. **Checking the Data Types of Columns**\n",
                "\n",
                "    - Check the data type of of each column in the `train_df` DataFrame."
            ]
        },
        {
            "cell_type": "code",
            "execution_count": 66,
            "metadata": {},
            "outputs": [
                {
                    "name": "stdout",
                    "output_type": "stream",
                    "text": [
                        "<class 'pandas.core.frame.DataFrame'>\n",
                        "RangeIndex: 89996 entries, 0 to 89995\n",
                        "Data columns (total 2 columns):\n",
                        " #   Column  Non-Null Count  Dtype \n",
                        "---  ------  --------------  ----- \n",
                        " 0   img     89996 non-null  object\n",
                        " 1   label   89996 non-null  object\n",
                        "dtypes: object(2)\n",
                        "memory usage: 1.4+ MB\n"
                    ]
                }
            ],
            "source": [
                "train_df.info()"
            ]
        },
        {
            "cell_type": "markdown",
            "metadata": {},
            "source": [
                "$~~~~~~~~~~$- Check the data type of of each column in the `test_df` DataFrame."
            ]
        },
        {
            "cell_type": "code",
            "execution_count": 67,
            "metadata": {},
            "outputs": [
                {
                    "name": "stdout",
                    "output_type": "stream",
                    "text": [
                        "<class 'pandas.core.frame.DataFrame'>\n",
                        "RangeIndex: 7180 entries, 0 to 7179\n",
                        "Data columns (total 2 columns):\n",
                        " #   Column  Non-Null Count  Dtype \n",
                        "---  ------  --------------  ----- \n",
                        " 0   img     7180 non-null   object\n",
                        " 1   label   7180 non-null   object\n",
                        "dtypes: object(2)\n",
                        "memory usage: 112.3+ KB\n"
                    ]
                }
            ],
            "source": [
                "test_df.info()"
            ]
        },
        {
            "cell_type": "markdown",
            "metadata": {},
            "source": [
                "4. **Inspect the Data Type of `img`**\n",
                "\n",
                "    - Inspect the data type of an individual `img` from `train_df`."
            ]
        },
        {
            "cell_type": "code",
            "execution_count": 68,
            "metadata": {},
            "outputs": [
                {
                    "name": "stdout",
                    "output_type": "stream",
                    "text": [
                        "Shape of the first image: (3, 28, 28)\n",
                        "Data type of the first image: <class 'numpy.ndarray'>\n"
                    ]
                }
            ],
            "source": [
                "first_train_img = train_df['img'].iloc[0]\n",
                "type(first_train_img)\n",
                "\n",
                "print(f\"Shape of the first image: {first_train_img.shape}\")\n",
                "print(f\"Data type of the first image: {type(first_train_img)}\")"
            ]
        },
        {
            "cell_type": "markdown",
            "metadata": {},
            "source": [
                "$~~~~~~~~~~$- Inspect the data type of an individual `img` from `test_df`."
            ]
        },
        {
            "cell_type": "code",
            "execution_count": 69,
            "metadata": {},
            "outputs": [
                {
                    "name": "stdout",
                    "output_type": "stream",
                    "text": [
                        "Shape of the first test image: (3, 28, 28)\n",
                        "Data type of the first test image: <class 'numpy.ndarray'>\n"
                    ]
                }
            ],
            "source": [
                "first_test_img = test_df['img'].iloc[0]\n",
                "type(first_test_img)\n",
                "\n",
                "print(f\"Shape of the first test image: {first_test_img.shape}\")\n",
                "print(f\"Data type of the first test image: {type(first_test_img)}\")"
            ]
        },
        {
            "cell_type": "markdown",
            "metadata": {},
            "source": [
                "5. **Inspect the Data Type of `label`**\n",
                "\n",
                "    - Inspect the data type of an individual `label` from `train_df`.\n",
                "\n",
                "    - Inspect the data type of an individual `label` from `test_df`."
            ]
        },
        {
            "cell_type": "code",
            "execution_count": 70,
            "metadata": {},
            "outputs": [
                {
                    "name": "stdout",
                    "output_type": "stream",
                    "text": [
                        "<class 'numpy.ndarray'>\n",
                        "<class 'numpy.ndarray'>\n"
                    ]
                }
            ],
            "source": [
                "for i in [train_df, test_df]:\n",
                "    print(type(i['label'].iloc[0]))"
            ]
        },
        {
            "cell_type": "markdown",
            "metadata": {},
            "source": [
                "6. **Casting the Label to an Integer**\n",
                "\n",
                "    - Convert the `label` column from an array to an integer for `train_df`.\n",
                "\n",
                "    - Convert the `label` column from an array to an integer for `test_df`."
            ]
        },
        {
            "cell_type": "code",
            "execution_count": 71,
            "metadata": {},
            "outputs": [],
            "source": [
                "# Convert the label column from an array to an integer in train_df\n",
                "train_df['label'] = train_df['label'].apply(lambda x: int(x[0]))\n",
                "\n",
                "# Convert the label column from an array to an integer in test_df\n",
                "test_df['label'] = test_df['label'].apply(lambda x: int(x[0]))"
            ]
        },
        {
            "cell_type": "code",
            "execution_count": 72,
            "metadata": {},
            "outputs": [
                {
                    "name": "stdout",
                    "output_type": "stream",
                    "text": [
                        "<class 'numpy.int64'>\n",
                        "<class 'numpy.int64'>\n"
                    ]
                }
            ],
            "source": [
                "for i in [train_df, test_df]:\n",
                "    print(type(i['label'].iloc[0]))"
            ]
        },
        {
            "cell_type": "markdown",
            "metadata": {},
            "source": [
                "Verifying that the data type of the `label` column is now an integer,"
            ]
        },
        {
            "cell_type": "code",
            "execution_count": 73,
            "metadata": {},
            "outputs": [
                {
                    "name": "stdout",
                    "output_type": "stream",
                    "text": [
                        "First train img label: 0\n",
                        "Data type of first train img label: <class 'numpy.int64'>\n"
                    ]
                }
            ],
            "source": [
                "# Get the first train image label\n",
                "first_train_img_label = train_df['label'].iloc[0]\n",
                "\n",
                "print(f\"First train img label: {first_train_img_label}\")\n",
                "print(f\"Data type of first train img label: {type(first_train_img_label)}\")"
            ]
        },
        {
            "cell_type": "code",
            "execution_count": 74,
            "metadata": {},
            "outputs": [
                {
                    "name": "stdout",
                    "output_type": "stream",
                    "text": [
                        "First test img label: 8\n",
                        "Data type of first train img label: <class 'numpy.int64'>\n"
                    ]
                }
            ],
            "source": [
                "# Get the first test image label\n",
                "first_test_img_label = test_df['label'].iloc[0]\n",
                "\n",
                "print(f\"First test img label: {first_test_img_label}\")\n",
                "print(f\"Data type of first train img label: {type(first_test_img_label)}\")"
            ]
        },
        {
            "cell_type": "markdown",
            "metadata": {},
            "source": [
                "7. **Getting the Label Distribution**\n",
                "\n",
                "    - Count the number of instances for each `label` in `train_df`."
            ]
        },
        {
            "cell_type": "code",
            "execution_count": 75,
            "metadata": {},
            "outputs": [
                {
                    "data": {
                        "text/plain": [
                            "label\n",
                            "8    12885\n",
                            "5    12182\n",
                            "3    10401\n",
                            "2    10360\n",
                            "1     9509\n",
                            "7     9401\n",
                            "0     9366\n",
                            "4     8006\n",
                            "6     7886\n",
                            "Name: count, dtype: int64"
                        ]
                    },
                    "execution_count": 75,
                    "metadata": {},
                    "output_type": "execute_result"
                }
            ],
            "source": [
                "train_df['label'].value_counts()"
            ]
        },
        {
            "cell_type": "markdown",
            "metadata": {},
            "source": [
                "$~~~~~~~~~~$- Count the number of instances for each `label` in `test_df`."
            ]
        },
        {
            "cell_type": "code",
            "execution_count": 76,
            "metadata": {},
            "outputs": [
                {
                    "data": {
                        "text/plain": [
                            "label\n",
                            "0    1338\n",
                            "8    1233\n",
                            "4    1035\n",
                            "1     847\n",
                            "6     741\n",
                            "3     634\n",
                            "5     592\n",
                            "7     421\n",
                            "2     339\n",
                            "Name: count, dtype: int64"
                        ]
                    },
                    "execution_count": 76,
                    "metadata": {},
                    "output_type": "execute_result"
                }
            ],
            "source": [
                "test_df['label'].value_counts()"
            ]
        },
        {
            "cell_type": "markdown",
            "metadata": {},
            "source": [
                "8. **Visualizing the Label Distribution**\n",
                "\n",
                "    - Visualize the `label` distribution for `train_df` using a bar plot or histogram."
            ]
        },
        {
            "cell_type": "code",
            "execution_count": 77,
            "metadata": {},
            "outputs": [
                {
                    "data": {
                        "image/png": "[encoded data removed]",
                        "text/plain": [
                            "<Figure size 640x480 with 1 Axes>"
                        ]
                    },
                    "metadata": {},
                    "output_type": "display_data"
                }
            ],
            "source": [
                "import matplotlib.pyplot as plt\n",
                "import seaborn as sns\n",
                "\n",
                "bar = train_df['label'].value_counts().plot(kind='bar')\n",
                "plt.show()"
            ]
        },
        {
            "cell_type": "markdown",
            "metadata": {},
            "source": [
                "$~~~~~~~~~~$- Visualize the `label` distribution for `test_df` using a bar plot or histogram."
            ]
        },
        {
            "cell_type": "code",
            "execution_count": 78,
            "metadata": {},
            "outputs": [
                {
                    "data": {
                        "image/png": "[encoded data removed]",
                        "text/plain": [
                            "<Figure size 640x480 with 1 Axes>"
                        ]
                    },
                    "metadata": {},
                    "output_type": "display_data"
                }
            ],
            "source": [
                "bar_nun = test_df['label'].value_counts().plot(kind='bar')\n",
                "plt.show()"
            ]
        },
        {
            "cell_type": "markdown",
            "metadata": {},
            "source": [
                "9. **Getting Image Dimensions**\n",
                "\n",
                "    - Check the dimensions of the images to ensure consistency across the `train_df` dataset."
            ]
        },
        {
            "cell_type": "code",
            "execution_count": 79,
            "metadata": {},
            "outputs": [
                {
                    "name": "stdout",
                    "output_type": "stream",
                    "text": [
                        "Unique image dimensions: [(3, 28, 28)]\n"
                    ]
                }
            ],
            "source": [
                "# Extract the dimensions of each image in the train_df\n",
                "image_dimensions = train_df['img'].apply(lambda x: x.shape)\n",
                "\n",
                "# Display unique dimensions to check for consistency\n",
                "unique_dimensions = image_dimensions.unique()\n",
                "print(f\"Unique image dimensions: {unique_dimensions}\")\n"
            ]
        },
        {
            "cell_type": "markdown",
            "metadata": {},
            "source": [
                "$~~~~~~~~~~$- Check the dimensions of the images to ensure consistency across the `test_df` dataset."
            ]
        },
        {
            "cell_type": "code",
            "execution_count": 80,
            "metadata": {},
            "outputs": [
                {
                    "name": "stdout",
                    "output_type": "stream",
                    "text": [
                        "Unique image dimensions: [(3, 28, 28)]\n"
                    ]
                }
            ],
            "source": [
                "# Extract the dimensions of each image in the train_df\n",
                "image_dimensions = test_df['img'].apply(lambda x: x.shape)\n",
                "\n",
                "# Display unique dimensions to check for consistency\n",
                "unique_dimensions = image_dimensions.unique()\n",
                "print(f\"Unique image dimensions: {unique_dimensions}\")\n"
            ]
        },
        {
            "cell_type": "markdown",
            "metadata": {},
            "source": [
                "10. **Getting Pixel Intensity Statistics**\n",
                "\n",
                "    - Calculate basic statistics (mean, standard deviation, min, max) of pixel intensities across all images in `train_df`."
            ]
        },
        {
            "cell_type": "code",
            "execution_count": 81,
            "metadata": {},
            "outputs": [],
            "source": [
                "import numpy as np\n",
                "\n",
                "funcs = {'avg':np.mean, 'std':np.std, 'min':np.min, 'max':np.max}\n",
                "for k, v in funcs.items():\n",
                "    train_df[k] = train_df['img'].apply(v)"
            ]
        },
        {
            "cell_type": "markdown",
            "metadata": {},
            "source": [
                "Inspect `train_df` with the newly created columns (the aggregations),"
            ]
        },
        {
            "cell_type": "code",
            "execution_count": 82,
            "metadata": {},
            "outputs": [
                {
                    "data": {
                        "text/html": [
                            "<div>\n",
                            "<style scoped>\n",
                            "    .dataframe tbody tr th:only-of-type {\n",
                            "        vertical-align: middle;\n",
                            "    }\n",
                            "\n",
                            "    .dataframe tbody tr th {\n",
                            "        vertical-align: top;\n",
                            "    }\n",
                            "\n",
                            "    .dataframe thead th {\n",
                            "        text-align: right;\n",
                            "    }\n",
                            "</style>\n",
                            "<table border=\"1\" class=\"dataframe\">\n",
                            "  <thead>\n",
                            "    <tr style=\"text-align: right;\">\n",
                            "      <th></th>\n",
                            "      <th>img</th>\n",
                            "      <th>label</th>\n",
                            "      <th>avg</th>\n",
                            "      <th>std</th>\n",
                            "      <th>min</th>\n",
                            "      <th>max</th>\n",
                            "    </tr>\n",
                            "  </thead>\n",
                            "  <tbody>\n",
                            "    <tr>\n",
                            "      <th>0</th>\n",
                            "      <td>[[[0.7254902, 0.7176471, 0.7254902, 0.73333335...</td>\n",
                            "      <td>0</td>\n",
                            "      <td>0.695545</td>\n",
                            "      <td>0.083301</td>\n",
                            "      <td>0.286275</td>\n",
                            "      <td>0.788235</td>\n",
                            "    </tr>\n",
                            "    <tr>\n",
                            "      <th>1</th>\n",
                            "      <td>[[[-0.011764705, 0.11372554, 0.36470592, 0.513...</td>\n",
                            "      <td>4</td>\n",
                            "      <td>0.350800</td>\n",
                            "      <td>0.242469</td>\n",
                            "      <td>-0.631373</td>\n",
                            "      <td>0.843137</td>\n",
                            "    </tr>\n",
                            "    <tr>\n",
                            "      <th>2</th>\n",
                            "      <td>[[[0.7490196, 0.7490196, 0.70980394, 0.6470588...</td>\n",
                            "      <td>7</td>\n",
                            "      <td>0.485701</td>\n",
                            "      <td>0.203110</td>\n",
                            "      <td>-0.372549</td>\n",
                            "      <td>0.858824</td>\n",
                            "    </tr>\n",
                            "    <tr>\n",
                            "      <th>3</th>\n",
                            "      <td>[[[0.69411767, 0.69411767, 0.67058825, 0.71764...</td>\n",
                            "      <td>5</td>\n",
                            "      <td>0.380172</td>\n",
                            "      <td>0.269259</td>\n",
                            "      <td>-0.325490</td>\n",
                            "      <td>0.835294</td>\n",
                            "    </tr>\n",
                            "    <tr>\n",
                            "      <th>4</th>\n",
                            "      <td>[[[0.6, 0.6, 0.654902, 0.69411767, 0.654902, 0...</td>\n",
                            "      <td>5</td>\n",
                            "      <td>0.467240</td>\n",
                            "      <td>0.261426</td>\n",
                            "      <td>-0.443137</td>\n",
                            "      <td>0.905882</td>\n",
                            "    </tr>\n",
                            "    <tr>\n",
                            "      <th>...</th>\n",
                            "      <td>...</td>\n",
                            "      <td>...</td>\n",
                            "      <td>...</td>\n",
                            "      <td>...</td>\n",
                            "      <td>...</td>\n",
                            "      <td>...</td>\n",
                            "    </tr>\n",
                            "    <tr>\n",
                            "      <th>89991</th>\n",
                            "      <td>[[[0.7254902, 0.7176471, 0.7176471, 0.7176471,...</td>\n",
                            "      <td>0</td>\n",
                            "      <td>0.595598</td>\n",
                            "      <td>0.202713</td>\n",
                            "      <td>-0.741176</td>\n",
                            "      <td>0.788235</td>\n",
                            "    </tr>\n",
                            "    <tr>\n",
                            "      <th>89992</th>\n",
                            "      <td>[[[0.52156866, 0.5529412, 0.5137255, 0.6, 0.6,...</td>\n",
                            "      <td>6</td>\n",
                            "      <td>0.477034</td>\n",
                            "      <td>0.228047</td>\n",
                            "      <td>-0.411765</td>\n",
                            "      <td>0.905882</td>\n",
                            "    </tr>\n",
                            "    <tr>\n",
                            "      <th>89993</th>\n",
                            "      <td>[[[0.5764706, 0.58431375, 0.49803925, 0.560784...</td>\n",
                            "      <td>2</td>\n",
                            "      <td>0.320782</td>\n",
                            "      <td>0.238570</td>\n",
                            "      <td>-0.286274</td>\n",
                            "      <td>0.709804</td>\n",
                            "    </tr>\n",
                            "    <tr>\n",
                            "      <th>89994</th>\n",
                            "      <td>[[[0.77254903, 0.7647059, 0.5058824, -0.239215...</td>\n",
                            "      <td>0</td>\n",
                            "      <td>0.680969</td>\n",
                            "      <td>0.181265</td>\n",
                            "      <td>-0.654902</td>\n",
                            "      <td>0.803922</td>\n",
                            "    </tr>\n",
                            "    <tr>\n",
                            "      <th>89995</th>\n",
                            "      <td>[[[0.5529412, 0.37254906, 0.6392157, 0.6078431...</td>\n",
                            "      <td>2</td>\n",
                            "      <td>0.290620</td>\n",
                            "      <td>0.265173</td>\n",
                            "      <td>-0.458824</td>\n",
                            "      <td>0.764706</td>\n",
                            "    </tr>\n",
                            "  </tbody>\n",
                            "</table>\n",
                            "<p>89996 rows × 6 columns</p>\n",
                            "</div>"
                        ],
                        "text/plain": [
                            "                                                     img  label       avg  \\\n",
                            "0      [[[0.7254902, 0.7176471, 0.7254902, 0.73333335...      0  0.695545   \n",
                            "1      [[[-0.011764705, 0.11372554, 0.36470592, 0.513...      4  0.350800   \n",
                            "2      [[[0.7490196, 0.7490196, 0.70980394, 0.6470588...      7  0.485701   \n",
                            "3      [[[0.69411767, 0.69411767, 0.67058825, 0.71764...      5  0.380172   \n",
                            "4      [[[0.6, 0.6, 0.654902, 0.69411767, 0.654902, 0...      5  0.467240   \n",
                            "...                                                  ...    ...       ...   \n",
                            "89991  [[[0.7254902, 0.7176471, 0.7176471, 0.7176471,...      0  0.595598   \n",
                            "89992  [[[0.52156866, 0.5529412, 0.5137255, 0.6, 0.6,...      6  0.477034   \n",
                            "89993  [[[0.5764706, 0.58431375, 0.49803925, 0.560784...      2  0.320782   \n",
                            "89994  [[[0.77254903, 0.7647059, 0.5058824, -0.239215...      0  0.680969   \n",
                            "89995  [[[0.5529412, 0.37254906, 0.6392157, 0.6078431...      2  0.290620   \n",
                            "\n",
                            "            std       min       max  \n",
                            "0      0.083301  0.286275  0.788235  \n",
                            "1      0.242469 -0.631373  0.843137  \n",
                            "2      0.203110 -0.372549  0.858824  \n",
                            "3      0.269259 -0.325490  0.835294  \n",
                            "4      0.261426 -0.443137  0.905882  \n",
                            "...         ...       ...       ...  \n",
                            "89991  0.202713 -0.741176  0.788235  \n",
                            "89992  0.228047 -0.411765  0.905882  \n",
                            "89993  0.238570 -0.286274  0.709804  \n",
                            "89994  0.181265 -0.654902  0.803922  \n",
                            "89995  0.265173 -0.458824  0.764706  \n",
                            "\n",
                            "[89996 rows x 6 columns]"
                        ]
                    },
                    "execution_count": 82,
                    "metadata": {},
                    "output_type": "execute_result"
                }
            ],
            "source": [
                "train_df"
            ]
        },
        {
            "cell_type": "markdown",
            "metadata": {},
            "source": [
                "$~~~~~~~~~~$- Calculate basic statistics (mean, standard deviation, min, max) of pixel intensities across all images in `test_df`."
            ]
        },
        {
            "cell_type": "code",
            "execution_count": 83,
            "metadata": {},
            "outputs": [
                {
                    "data": {
                        "text/html": [
                            "<div>\n",
                            "<style scoped>\n",
                            "    .dataframe tbody tr th:only-of-type {\n",
                            "        vertical-align: middle;\n",
                            "    }\n",
                            "\n",
                            "    .dataframe tbody tr th {\n",
                            "        vertical-align: top;\n",
                            "    }\n",
                            "\n",
                            "    .dataframe thead th {\n",
                            "        text-align: right;\n",
                            "    }\n",
                            "</style>\n",
                            "<table border=\"1\" class=\"dataframe\">\n",
                            "  <thead>\n",
                            "    <tr style=\"text-align: right;\">\n",
                            "      <th></th>\n",
                            "      <th>img</th>\n",
                            "      <th>label</th>\n",
                            "      <th>avg</th>\n",
                            "      <th>std</th>\n",
                            "      <th>min</th>\n",
                            "      <th>max</th>\n",
                            "    </tr>\n",
                            "  </thead>\n",
                            "  <tbody>\n",
                            "    <tr>\n",
                            "      <th>0</th>\n",
                            "      <td>[[[0.4901961, 0.34901965, 0.19215691, 0.050980...</td>\n",
                            "      <td>8</td>\n",
                            "      <td>0.080856</td>\n",
                            "      <td>0.339828</td>\n",
                            "      <td>-0.756863</td>\n",
                            "      <td>0.913725</td>\n",
                            "    </tr>\n",
                            "    <tr>\n",
                            "      <th>1</th>\n",
                            "      <td>[[[0.5686275, 0.39607847, 0.38823533, 0.364705...</td>\n",
                            "      <td>4</td>\n",
                            "      <td>0.355969</td>\n",
                            "      <td>0.243152</td>\n",
                            "      <td>-0.545098</td>\n",
                            "      <td>0.819608</td>\n",
                            "    </tr>\n",
                            "    <tr>\n",
                            "      <th>2</th>\n",
                            "      <td>[[[0.8666667, 0.81960785, 0.8039216, 0.7490196...</td>\n",
                            "      <td>4</td>\n",
                            "      <td>0.505562</td>\n",
                            "      <td>0.223927</td>\n",
                            "      <td>-0.490196</td>\n",
                            "      <td>0.866667</td>\n",
                            "    </tr>\n",
                            "    <tr>\n",
                            "      <th>3</th>\n",
                            "      <td>[[[0.5372549, 0.5372549, 0.654902, 0.5294118, ...</td>\n",
                            "      <td>8</td>\n",
                            "      <td>0.290329</td>\n",
                            "      <td>0.309868</td>\n",
                            "      <td>-0.584314</td>\n",
                            "      <td>0.929412</td>\n",
                            "    </tr>\n",
                            "    <tr>\n",
                            "      <th>4</th>\n",
                            "      <td>[[[0.827451, 0.7254902, 0.62352943, 0.67058825...</td>\n",
                            "      <td>4</td>\n",
                            "      <td>0.536581</td>\n",
                            "      <td>0.344740</td>\n",
                            "      <td>-0.788235</td>\n",
                            "      <td>0.898039</td>\n",
                            "    </tr>\n",
                            "    <tr>\n",
                            "      <th>...</th>\n",
                            "      <td>...</td>\n",
                            "      <td>...</td>\n",
                            "      <td>...</td>\n",
                            "      <td>...</td>\n",
                            "      <td>...</td>\n",
                            "      <td>...</td>\n",
                            "    </tr>\n",
                            "    <tr>\n",
                            "      <th>7175</th>\n",
                            "      <td>[[[0.4901961, 0.20784318, 0.18431377, 0.466666...</td>\n",
                            "      <td>8</td>\n",
                            "      <td>0.039753</td>\n",
                            "      <td>0.303229</td>\n",
                            "      <td>-0.686275</td>\n",
                            "      <td>0.850980</td>\n",
                            "    </tr>\n",
                            "    <tr>\n",
                            "      <th>7176</th>\n",
                            "      <td>[[[0.47450984, 0.4039216, 0.49803925, 0.662745...</td>\n",
                            "      <td>7</td>\n",
                            "      <td>0.419521</td>\n",
                            "      <td>0.258381</td>\n",
                            "      <td>-0.545098</td>\n",
                            "      <td>0.921569</td>\n",
                            "    </tr>\n",
                            "    <tr>\n",
                            "      <th>7177</th>\n",
                            "      <td>[[[0.35686278, 0.5686275, 0.39607847, 0.443137...</td>\n",
                            "      <td>4</td>\n",
                            "      <td>0.364816</td>\n",
                            "      <td>0.198056</td>\n",
                            "      <td>-0.349020</td>\n",
                            "      <td>0.756863</td>\n",
                            "    </tr>\n",
                            "    <tr>\n",
                            "      <th>7178</th>\n",
                            "      <td>[[[0.035294175, -0.035294116, 0.09803927, 0.36...</td>\n",
                            "      <td>8</td>\n",
                            "      <td>0.167647</td>\n",
                            "      <td>0.401613</td>\n",
                            "      <td>-0.725490</td>\n",
                            "      <td>0.913725</td>\n",
                            "    </tr>\n",
                            "    <tr>\n",
                            "      <th>7179</th>\n",
                            "      <td>[[[0.13725495, 0.003921628, 0.082352996, 0.349...</td>\n",
                            "      <td>8</td>\n",
                            "      <td>0.197522</td>\n",
                            "      <td>0.333059</td>\n",
                            "      <td>-0.529412</td>\n",
                            "      <td>0.913725</td>\n",
                            "    </tr>\n",
                            "  </tbody>\n",
                            "</table>\n",
                            "<p>7180 rows × 6 columns</p>\n",
                            "</div>"
                        ],
                        "text/plain": [
                            "                                                    img  label       avg  \\\n",
                            "0     [[[0.4901961, 0.34901965, 0.19215691, 0.050980...      8  0.080856   \n",
                            "1     [[[0.5686275, 0.39607847, 0.38823533, 0.364705...      4  0.355969   \n",
                            "2     [[[0.8666667, 0.81960785, 0.8039216, 0.7490196...      4  0.505562   \n",
                            "3     [[[0.5372549, 0.5372549, 0.654902, 0.5294118, ...      8  0.290329   \n",
                            "4     [[[0.827451, 0.7254902, 0.62352943, 0.67058825...      4  0.536581   \n",
                            "...                                                 ...    ...       ...   \n",
                            "7175  [[[0.4901961, 0.20784318, 0.18431377, 0.466666...      8  0.039753   \n",
                            "7176  [[[0.47450984, 0.4039216, 0.49803925, 0.662745...      7  0.419521   \n",
                            "7177  [[[0.35686278, 0.5686275, 0.39607847, 0.443137...      4  0.364816   \n",
                            "7178  [[[0.035294175, -0.035294116, 0.09803927, 0.36...      8  0.167647   \n",
                            "7179  [[[0.13725495, 0.003921628, 0.082352996, 0.349...      8  0.197522   \n",
                            "\n",
                            "           std       min       max  \n",
                            "0     0.339828 -0.756863  0.913725  \n",
                            "1     0.243152 -0.545098  0.819608  \n",
                            "2     0.223927 -0.490196  0.866667  \n",
                            "3     0.309868 -0.584314  0.929412  \n",
                            "4     0.344740 -0.788235  0.898039  \n",
                            "...        ...       ...       ...  \n",
                            "7175  0.303229 -0.686275  0.850980  \n",
                            "7176  0.258381 -0.545098  0.921569  \n",
                            "7177  0.198056 -0.349020  0.756863  \n",
                            "7178  0.401613 -0.725490  0.913725  \n",
                            "7179  0.333059 -0.529412  0.913725  \n",
                            "\n",
                            "[7180 rows x 6 columns]"
                        ]
                    },
                    "execution_count": 83,
                    "metadata": {},
                    "output_type": "execute_result"
                }
            ],
            "source": [
                "for k, v in funcs.items():\n",
                "    test_df[k] = test_df['img'].apply(v)\n",
                "\n",
                "test_df"
            ]
        },
        {
            "cell_type": "markdown",
            "metadata": {},
            "source": [
                "11. **Analyzing a Correlation Between Image Intensity and Labels**\n",
                "\n",
                "    - Analyze if there is any relationship between the average pixel intensity of an image and its label for `train_df`."
            ]
        },
        {
            "cell_type": "code",
            "execution_count": 84,
            "metadata": {},
            "outputs": [
                {
                    "data": {
                        "image/png": "[encoded data removed]",
                        "text/plain": [
                            "<Figure size 640x480 with 2 Axes>"
                        ]
                    },
                    "metadata": {},
                    "output_type": "display_data"
                }
            ],
            "source": [
                "corr = train_df.drop(columns='img').corr()\n",
                "sns.heatmap(corr, annot=True, fmt='.2f', cbar=True)\n",
                "plt.show()"
            ]
        },
        {
            "cell_type": "markdown",
            "metadata": {},
            "source": [
                "$~~~~~~~~~~$- Analyze if there is any relationship between the average pixel intensity of an image and its label for `test_df`."
            ]
        },
        {
            "cell_type": "code",
            "execution_count": 85,
            "metadata": {},
            "outputs": [
                {
                    "data": {
                        "image/png": "[encoded data removed]",
                        "text/plain": [
                            "<Figure size 640x480 with 2 Axes>"
                        ]
                    },
                    "metadata": {},
                    "output_type": "display_data"
                }
            ],
            "source": [
                "corr = test_df.drop(columns='img').corr()\n",
                "sns.heatmap(corr, annot=True, fmt='.2f', cbar=True)\n",
                "plt.show()"
            ]
        },
        {
            "cell_type": "code",
            "execution_count": 86,
            "metadata": {},
            "outputs": [
                {
                    "data": {
                        "image/png": "[encoded data removed]",
                        "text/plain": [
                            "<Figure size 1000x600 with 1 Axes>"
                        ]
                    },
                    "metadata": {},
                    "output_type": "display_data"
                }
            ],
            "source": [
                "import matplotlib.pyplot as plt\n",
                "import seaborn as sns\n",
                "\n",
                "# Group by label and calculate the mean of average pixel intensity\n",
                "label_intensity_mean = train_df.groupby('label')['avg'].mean()\n",
                "\n",
                "# Plot the relationship between label and average pixel intensity\n",
                "plt.figure(figsize=(10, 6))\n",
                "sns.barplot(x=label_intensity_mean.index, y=label_intensity_mean.values)\n",
                "plt.title('Average Pixel Intensity by Label')\n",
                "plt.xlabel('Label')\n",
                "plt.ylabel('Average Pixel Intensity')\n",
                "plt.show()"
            ]
        },
        {
            "cell_type": "markdown",
            "metadata": {},
            "source": [
                "## Step 6: Build the model and optimize it"
            ]
        },
        {
            "cell_type": "markdown",
            "metadata": {},
            "source": [
                "### 6.1 Set Up the Model\n",
                "Let's assume we're working with a simple neural network model for image classification."
            ]
        },
        {
            "cell_type": "code",
            "execution_count": 87,
            "metadata": {},
            "outputs": [],
            "source": [
                "import torch\n",
                "import torch.nn as nn\n",
                "import torch.optim as optim\n",
                "from model_module import SimpleCNN\n",
                "\n",
                "# Saved this class in a separate module `model_module.py`\n",
                "# class SimpleCNN(nn.Module):\n",
                "#     def __init__(self):\n",
                "#         super(SimpleCNN, self).__init__()\n",
                "#         self.conv1 = nn.Conv2d(in_channels=3, out_channels=32, kernel_size=3, stride=1, padding=1)  # Changed in_channels to 3\n",
                "#         self.conv2 = nn.Conv2d(in_channels=32, out_channels=64, kernel_size=3, stride=1, padding=1)\n",
                "#         self.fc1 = nn.Linear(in_features=64*7*7, out_features=128)  # Updated in_features to match the output size after pooling\n",
                "#         self.fc2 = nn.Linear(in_features=128, out_features=10)  # Assuming 10 classes\n",
                "\n",
                "#     def forward(self, x):\n",
                "#         x = nn.functional.relu(self.conv1(x))\n",
                "#         x = nn.functional.max_pool2d(x, kernel_size=2, stride=2)\n",
                "#         x = nn.functional.relu(self.conv2(x))\n",
                "#         x = nn.functional.max_pool2d(x, kernel_size=2, stride=2)\n",
                "#         x = x.view(-1, 64*7*7)  # Flatten the tensor\n",
                "#         x = nn.functional.relu(self.fc1(x))\n",
                "#         x = self.fc2(x)\n",
                "#         return x\n",
                "\n",
                "# Instantiate the model\n",
                "model = SimpleCNN()"
            ]
        },
        {
            "cell_type": "markdown",
            "metadata": {},
            "source": [
                "Summary:\n",
                "\n",
                "- **Model Definition (`SimpleCNN`)**: This is a simple convolutional neural network (CNN) with two convolutional layers followed by fully connected layers."
            ]
        },
        {
            "cell_type": "markdown",
            "metadata": {},
            "source": [
                "### 6.2 Define the Loss Function and Optimizer\n",
                "We'll use CrossEntropyLoss (common for classification tasks) and the Adam optimizer."
            ]
        },
        {
            "cell_type": "code",
            "execution_count": 88,
            "metadata": {},
            "outputs": [],
            "source": [
                "# Loss function\n",
                "criterion = nn.CrossEntropyLoss()\n",
                "\n",
                "# Optimizer\n",
                "optimizer = optim.Adam(model.parameters(), lr=0.001)"
            ]
        },
        {
            "cell_type": "markdown",
            "metadata": {},
            "source": [
                "Summary:\n",
                "\n",
                "- **Loss Function & Optimizer**: The `CrossEntropyLoss` is used for multi-class classification, and `Adam` is a popular optimizer that adjusts the learning rate during training."
            ]
        },
        {
            "cell_type": "markdown",
            "metadata": {},
            "source": [
                "### 6.3 Training Loop\n",
                "Now, we'll train the model using the `train_loader`."
            ]
        },
        {
            "cell_type": "code",
            "execution_count": 89,
            "metadata": {},
            "outputs": [
                {
                    "name": "stdout",
                    "output_type": "stream",
                    "text": [
                        "Epoch [1/10], Step [100/704], Loss: 1.4714\n",
                        "Epoch [1/10], Step [200/704], Loss: 0.9929\n",
                        "Epoch [1/10], Step [300/704], Loss: 0.8309\n",
                        "Epoch [1/10], Step [400/704], Loss: 0.7193\n",
                        "Epoch [1/10], Step [500/704], Loss: 0.6797\n",
                        "Epoch [1/10], Step [600/704], Loss: 0.6307\n",
                        "Epoch [1/10], Step [700/704], Loss: 0.6086\n",
                        "Epoch [2/10], Step [100/704], Loss: 0.5995\n",
                        "Epoch [2/10], Step [200/704], Loss: 0.5723\n",
                        "Epoch [2/10], Step [300/704], Loss: 0.5536\n",
                        "Epoch [2/10], Step [400/704], Loss: 0.5375\n",
                        "Epoch [2/10], Step [500/704], Loss: 0.5112\n",
                        "Epoch [2/10], Step [600/704], Loss: 0.5022\n",
                        "Epoch [2/10], Step [700/704], Loss: 0.5007\n",
                        "Epoch [3/10], Step [100/704], Loss: 0.4899\n",
                        "Epoch [3/10], Step [200/704], Loss: 0.4625\n",
                        "Epoch [3/10], Step [300/704], Loss: 0.4421\n",
                        "Epoch [3/10], Step [400/704], Loss: 0.4479\n",
                        "Epoch [3/10], Step [500/704], Loss: 0.4172\n",
                        "Epoch [3/10], Step [600/704], Loss: 0.4112\n",
                        "Epoch [3/10], Step [700/704], Loss: 0.4171\n",
                        "Epoch [4/10], Step [100/704], Loss: 0.3763\n",
                        "Epoch [4/10], Step [200/704], Loss: 0.3934\n",
                        "Epoch [4/10], Step [300/704], Loss: 0.3734\n",
                        "Epoch [4/10], Step [400/704], Loss: 0.3660\n",
                        "Epoch [4/10], Step [500/704], Loss: 0.3545\n",
                        "Epoch [4/10], Step [600/704], Loss: 0.3534\n",
                        "Epoch [4/10], Step [700/704], Loss: 0.3423\n",
                        "Epoch [5/10], Step [100/704], Loss: 0.3397\n",
                        "Epoch [5/10], Step [200/704], Loss: 0.3437\n",
                        "Epoch [5/10], Step [300/704], Loss: 0.3148\n",
                        "Epoch [5/10], Step [400/704], Loss: 0.3168\n",
                        "Epoch [5/10], Step [500/704], Loss: 0.3155\n",
                        "Epoch [5/10], Step [600/704], Loss: 0.2999\n",
                        "Epoch [5/10], Step [700/704], Loss: 0.3034\n",
                        "Epoch [6/10], Step [100/704], Loss: 0.2823\n",
                        "Epoch [6/10], Step [200/704], Loss: 0.2769\n",
                        "Epoch [6/10], Step [300/704], Loss: 0.2834\n",
                        "Epoch [6/10], Step [400/704], Loss: 0.2679\n",
                        "Epoch [6/10], Step [500/704], Loss: 0.2948\n",
                        "Epoch [6/10], Step [600/704], Loss: 0.2657\n",
                        "Epoch [6/10], Step [700/704], Loss: 0.2746\n",
                        "Epoch [7/10], Step [100/704], Loss: 0.2486\n",
                        "Epoch [7/10], Step [200/704], Loss: 0.2427\n",
                        "Epoch [7/10], Step [300/704], Loss: 0.2493\n",
                        "Epoch [7/10], Step [400/704], Loss: 0.2519\n",
                        "Epoch [7/10], Step [500/704], Loss: 0.2449\n",
                        "Epoch [7/10], Step [600/704], Loss: 0.2363\n",
                        "Epoch [7/10], Step [700/704], Loss: 0.2447\n",
                        "Epoch [8/10], Step [100/704], Loss: 0.2179\n",
                        "Epoch [8/10], Step [200/704], Loss: 0.2141\n",
                        "Epoch [8/10], Step [300/704], Loss: 0.2183\n",
                        "Epoch [8/10], Step [400/704], Loss: 0.2049\n",
                        "Epoch [8/10], Step [500/704], Loss: 0.2198\n",
                        "Epoch [8/10], Step [600/704], Loss: 0.2003\n",
                        "Epoch [8/10], Step [700/704], Loss: 0.2218\n",
                        "Epoch [9/10], Step [100/704], Loss: 0.2056\n",
                        "Epoch [9/10], Step [200/704], Loss: 0.1989\n",
                        "Epoch [9/10], Step [300/704], Loss: 0.1990\n",
                        "Epoch [9/10], Step [400/704], Loss: 0.1902\n",
                        "Epoch [9/10], Step [500/704], Loss: 0.1752\n",
                        "Epoch [9/10], Step [600/704], Loss: 0.1903\n",
                        "Epoch [9/10], Step [700/704], Loss: 0.1853\n",
                        "Epoch [10/10], Step [100/704], Loss: 0.1728\n",
                        "Epoch [10/10], Step [200/704], Loss: 0.1728\n",
                        "Epoch [10/10], Step [300/704], Loss: 0.1558\n",
                        "Epoch [10/10], Step [400/704], Loss: 0.1908\n",
                        "Epoch [10/10], Step [500/704], Loss: 0.1852\n",
                        "Epoch [10/10], Step [600/704], Loss: 0.1760\n",
                        "Epoch [10/10], Step [700/704], Loss: 0.1683\n",
                        "Finished Training\n"
                    ]
                }
            ],
            "source": [
                "# Set the model to training mode\n",
                "model.train()\n",
                "\n",
                "# Number of epochs to train\n",
                "num_epochs = 10\n",
                "\n",
                "for epoch in range(num_epochs):\n",
                "    running_loss = 0.0\n",
                "    for batch_idx, (inputs, labels) in enumerate(train_loader):\n",
                "        # Squeeze labels to the correct shape\n",
                "        labels = labels.squeeze(1)\n",
                "\n",
                "        # Zero the parameter gradients\n",
                "        optimizer.zero_grad()\n",
                "\n",
                "        # Forward pass\n",
                "        outputs = model(inputs)\n",
                "        loss = criterion(outputs, labels)\n",
                "\n",
                "        # Backward pass and optimize\n",
                "        loss.backward()\n",
                "        optimizer.step()\n",
                "\n",
                "        # Print statistics\n",
                "        running_loss += loss.item()\n",
                "        if batch_idx % 100 == 99:  # Print every 100 batches\n",
                "            print(f'Epoch [{epoch + 1}/{num_epochs}], Step [{batch_idx + 1}/{len(train_loader)}], Loss: {running_loss / 100:.4f}')\n",
                "            running_loss = 0.0\n",
                "\n",
                "print('Finished Training')"
            ]
        },
        {
            "cell_type": "markdown",
            "metadata": {},
            "source": [
                "Summary:\n",
                "- The model is trained over multiple epochs.\n",
                "\n",
                "- For each batch, the model's parameters are updated using backpropagation to minimize the loss\n",
                "\n",
                "- We print the loss periodically to monitor the training process."
            ]
        },
        {
            "cell_type": "markdown",
            "metadata": {},
            "source": [
                "### 6.4 Evaluation Loop\n",
                "After training, we can evaluate the model on the test dataset."
            ]
        },
        {
            "cell_type": "code",
            "execution_count": 90,
            "metadata": {},
            "outputs": [
                {
                    "name": "stdout",
                    "output_type": "stream",
                    "text": [
                        "Accuracy of the model on the test images: 81.59%\n"
                    ]
                }
            ],
            "source": [
                "# Set the model to evaluation mode\n",
                "model.eval()\n",
                "\n",
                "# Disable gradient computation for evaluation\n",
                "with torch.no_grad():\n",
                "    correct = 0\n",
                "    total = 0\n",
                "    for inputs, labels in test_loader:\n",
                "        # Squeeze labels to the correct shape\n",
                "        labels = labels.squeeze(1)\n",
                "        \n",
                "        # Forward pass\n",
                "        outputs = model(inputs)\n",
                "        \n",
                "        # Get predictions\n",
                "        _, predicted = torch.max(outputs.data, 1)\n",
                "        \n",
                "        # Calculate the number of correct predictions\n",
                "        total += labels.size(0)\n",
                "        correct += (predicted == labels).sum().item()\n",
                "\n",
                "    # Print the accuracy\n",
                "    print(f'Accuracy of the model on the test images: {100 * correct / total:.2f}%')"
            ]
        },
        {
            "cell_type": "markdown",
            "metadata": {},
            "source": [
                "Summary:\n",
                "\n",
                "- After training, the model's performance is evaluated on the test set.\n",
                "\n",
                "- The accuracy of the model on the test data is calculated and displayed."
            ]
        },
        {
            "cell_type": "markdown",
            "metadata": {},
            "source": [
                "### 6.5 Make predictions\n",
                "To use your model to predict the class of an image that you have saved locally, you'll need to perform the following steps:\n",
                "\n",
                "#### 1. Preprocess the Image\n",
                "Since your model expects images with 3 channels (RGB) and your saved image has 4 channels (RGBA), you need to handle the alpha channel and ensure the image is in the correct format.\n",
                "\n",
                "Here’s how you can preprocess your image:"
            ]
        },
        {
            "cell_type": "code",
            "execution_count": 91,
            "metadata": {},
            "outputs": [
                {
                    "name": "stdout",
                    "output_type": "stream",
                    "text": [
                        "torch.Size([1, 3, 28, 28])\n"
                    ]
                }
            ],
            "source": [
                "from PIL import Image\n",
                "import torchvision.transforms as transforms\n",
                "\n",
                "# Define the preprocessing transformation\n",
                "data_transform = transforms.Compose([\n",
                "    transforms.Resize((28, 28)),       # Ensure the image is 28x28\n",
                "    transforms.ToTensor(),             # Convert image to tensor\n",
                "    transforms.Normalize(mean=[0.5, 0.5, 0.5], std=[0.5, 0.5, 0.5])  # Same normalization as used during training\n",
                "])\n",
                "\n",
                "# Load and preprocess the image\n",
                "folder_name = \"Class 0\"  # Feel free to change the folder\n",
                "image_name = \"image_88405.png\"  # Feel free to change the image\n",
                "image_path = f'../data/raw/{folder_name}/{image_name}'\n",
                "image = Image.open(image_path).convert('RGB')  # Convert to RGB to match model input\n",
                "\n",
                "# Apply the preprocessing transformations\n",
                "image_tensor = data_transform(image).unsqueeze(0)  # Add batch dimension\n",
                "\n",
                "# Check the shape of the processed image tensor\n",
                "print(image_tensor.shape)  # Should be (1, 3, 28, 28)"
            ]
        },
        {
            "cell_type": "markdown",
            "metadata": {},
            "source": [
                "#### 2. Run the Model Inference\n",
                "Load your trained model and use it to predict the class of the preprocessed image:"
            ]
        },
        {
            "cell_type": "code",
            "execution_count": 92,
            "metadata": {},
            "outputs": [
                {
                    "name": "stdout",
                    "output_type": "stream",
                    "text": [
                        "Label mapping:\n",
                        "{'0': 'adipose', '1': 'background', '2': 'debris', '3': 'lymphocytes', '4': 'mucus', '5': 'smooth muscle', '6': 'normal colon mucosa', '7': 'cancer-associated stroma', '8': 'colorectal adenocarcinoma epithelium'}\n",
                        "\n",
                        "Predicted class: 0 (adipose)\n"
                    ]
                }
            ],
            "source": [
                "# Ensure the model is in evaluation mode\n",
                "model.eval()\n",
                "\n",
                "# Perform inference\n",
                "with torch.no_grad():\n",
                "    # Forward pass\n",
                "    outputs = model(image_tensor)\n",
                "    # Get the predicted class\n",
                "    _, predicted = torch.max(outputs, 1)\n",
                "\n",
                "# Print the predicted class\n",
                "label_mapping = info[\"label\"]\n",
                "print(\"Label mapping:\")\n",
                "print(label_mapping)\n",
                "print()\n",
                "\n",
                "predicted_label = predicted.item()\n",
                "print(f'Predicted class: {predicted_label} ({label_mapping[f\"{predicted_label}\"]})')"
            ]
        },
        {
            "cell_type": "markdown",
            "metadata": {},
            "source": [
                "Summary:\n",
                "\n",
                "- **Image Conversion**: Convert the image to RGB since your model expects 3 channels.\n",
                "\n",
                "- **Image Transformation**: Apply the same preprocessing steps used during training: resizing, tensor conversion, and normalization.\n",
                "\n",
                "- **Model Inference**: Use the model to predict the class of the image by passing the preprocessed image through it."
            ]
        },
        {
            "cell_type": "markdown",
            "metadata": {},
            "source": [
                "### 6.6 Save your model"
            ]
        },
        {
            "cell_type": "code",
            "execution_count": 93,
            "metadata": {},
            "outputs": [
                {
                    "name": "stdout",
                    "output_type": "stream",
                    "text": [
                        "Pipeline saved as trained_cnn.pkl\n"
                    ]
                }
            ],
            "source": [
                "import pickle\n",
                "\n",
                "# Save the trained model as a pickle file\n",
                "with open('trained_cnn.pkl', 'wb') as f:\n",
                "    pickle.dump(model, f)\n",
                "\n",
                "print('Model saved as trained_cnn.pkl')"
            ]
        }
    ],
    "metadata": {
        "kernelspec": {
            "display_name": "Python 3.8.13 64-bit ('3.8.13')",
            "language": "python",
            "name": "python3"
        },
        "language_info": {
            "codemirror_mode": {
                "name": "ipython",
                "version": 3
            },
            "file_extension": ".py",
            "mimetype": "text/x-python",
            "name": "python",
            "nbconvert_exporter": "python",
            "pygments_lexer": "ipython3",
            "version": "3.10.12"
        },
        "orig_nbformat": 4,
        "vscode": {
            "interpreter": {
                "hash": "110cc1dee26208153f2972f08a2ad52b6a56238dc66d48e87fb757ef2996db56"
            }
        }
    },
    "nbformat": 4,
    "nbformat_minor": 2
}
