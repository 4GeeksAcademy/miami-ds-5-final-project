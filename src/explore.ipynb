{
    "cells": [
        {
            "cell_type": "markdown",
            "metadata": {},
            "source": [
                "# Machine Learning Final Project"
            ]
        },
        {
            "cell_type": "markdown",
            "metadata": {},
            "source": [
                "## Step 0: Project Ideation & Dataset Inspection"
            ]
        },
        {
            "cell_type": "markdown",
            "metadata": {},
            "source": [
                "### Instructions\n",
                "1. **Dataset Loading**:\n",
                "\n",
                "    - For each plan (e.g., Plan A, Plan B, etc.), read in the corresponding dataset.\n",
                "\n",
                "2. **Inspect the Dataset**:\n",
                "\n",
                "    - After loading the dataset, display the first few rows to understand its structure.\n",
                "\n",
                "    - Identify and list the types of fields (e.g., numerical, categorical, text).\n",
                "\n",
                "    - Attempt to identify the target variable if your project involves supervised learning."
            ]
        },
        {
            "cell_type": "markdown",
            "metadata": {},
            "source": [
                "### Plan A: Animal drug use adverse event"
            ]
        },
        {
            "cell_type": "code",
            "execution_count": 1,
            "metadata": {},
            "outputs": [
                {
                    "name": "stdout",
                    "output_type": "stream",
                    "text": [
                        "<class 'pandas.core.frame.DataFrame'>\n",
                        "Index: 74845 entries, 0 to 844\n",
                        "Data columns (total 10 columns):\n",
                        " #   Column                               Non-Null Count  Dtype \n",
                        "---  ------                               --------------  ----- \n",
                        " 0   treated_for_ae                       51922 non-null  object\n",
                        " 1   reaction                             74843 non-null  object\n",
                        " 2   time_between_exposure_and_onset      7237 non-null   object\n",
                        " 3   drug                                 74845 non-null  object\n",
                        " 4   health_assessment_prior_to_exposure  74845 non-null  object\n",
                        " 5   onset_date                           68531 non-null  object\n",
                        " 6   animal                               68776 non-null  object\n",
                        " 7   type_of_information                  74845 non-null  object\n",
                        " 8   serious_ae                           54204 non-null  object\n",
                        " 9   outcome                              56284 non-null  object\n",
                        "dtypes: object(10)\n",
                        "memory usage: 6.3+ MB\n",
                        "None\n"
                    ]
                }
            ],
            "source": [
                "# Your code here\n",
                "\n",
                "import pandas as pd\n",
                "import re\n",
                "import requests\n",
                "\n",
                "# Define the base URL and initial query parameters\n",
                "url = 'https://api.fda.gov/animalandveterinary/event.json?'\n",
                "search = 'search=drug.active_ingredients.name:\"Moxidectin\"&limit=1000'\n",
                "url = url + search\n",
                "\n",
                "results = []\n",
                "\n",
                "while True:\n",
                "    # Make the request to the API\n",
                "    a = requests.get(url)\n",
                "    data = a.json()\n",
                "    \n",
                "    # Convert the JSON response to a DataFrame and select specific columns\n",
                "    df = pd.DataFrame(data['results'])\n",
                "    df = df[['treated_for_ae', 'reaction', 'time_between_exposure_and_onset', 'drug', 'health_assessment_prior_to_exposure', 'onset_date', 'animal', 'type_of_information', 'serious_ae', 'outcome']]\n",
                "    results.append(df)\n",
                "    \n",
                "    # Try to get the next page URL from the 'Link' header\n",
                "    try:\n",
                "        link_header = a.headers.get('Link', '')\n",
                "        b = re.search(r'<(https[^>]+)>', link_header)\n",
                "        if b:\n",
                "            next_url = b.group(1)\n",
                "            url = next_url\n",
                "        else:\n",
                "            break\n",
                "    except Exception as e:\n",
                "        print(f\"An error occurred: {e}\")\n",
                "        break\n",
                "\n",
                "# Concatenate all DataFrames into one\n",
                "df_combined = pd.concat(results, axis=0)\n",
                "\n",
                "# Print information about the final DataFrame\n",
                "print(df_combined.info())\n"
            ]
        },
        {
            "cell_type": "markdown",
            "metadata": {},
            "source": [
                "### Plan B: Biomedical Image Analysis"
            ]
        },
        {
            "cell_type": "code",
            "execution_count": null,
            "metadata": {},
            "outputs": [],
            "source": [
                "# Your code here"
            ]
        },
        {
            "cell_type": "markdown",
            "metadata": {},
            "source": [
                "### Plan C: Website Fact Checker"
            ]
        },
        {
            "cell_type": "code",
            "execution_count": null,
            "metadata": {},
            "outputs": [],
            "source": [
                "# Your code here"
            ]
        }
    ],
    "metadata": {
        "kernelspec": {
            "display_name": "Python 3.8.13 64-bit ('3.8.13')",
            "language": "python",
            "name": "python3"
        },
        "language_info": {
            "codemirror_mode": {
                "name": "ipython",
                "version": 3
            },
            "file_extension": ".py",
            "mimetype": "text/x-python",
            "name": "python",
            "nbconvert_exporter": "python",
            "pygments_lexer": "ipython3",
            "version": "3.10.12"
        },
        "orig_nbformat": 4,
        "vscode": {
            "interpreter": {
                "hash": "110cc1dee26208153f2972f08a2ad52b6a56238dc66d48e87fb757ef2996db56"
            }
        }
    },
    "nbformat": 4,
    "nbformat_minor": 2
}
