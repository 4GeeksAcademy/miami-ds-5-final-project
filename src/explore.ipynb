{
    "cells": [
        {
            "cell_type": "markdown",
            "metadata": {},
            "source": [
                "# Machine Learning Final Project"
            ]
        },
        {
            "cell_type": "markdown",
            "metadata": {},
            "source": [
                "## Step 0: Project Ideation & Dataset Inspection"
            ]
        },
        {
            "cell_type": "markdown",
            "metadata": {},
            "source": [
                "### Instructions\n",
                "1. **Dataset Loading**:\n",
                "\n",
                "    - For each plan (e.g., Plan A, Plan B, etc.), read in the corresponding dataset.\n",
                "\n",
                "2. **Inspect the Dataset**:\n",
                "\n",
                "    - After loading the dataset, display the first few rows to understand its structure.\n",
                "\n",
                "    - Identify and list the types of fields (e.g., numerical, categorical, text).\n",
                "\n",
                "    - Attempt to identify the target variable if your project involves supervised learning."
            ]
        },
        {
            "cell_type": "markdown",
            "metadata": {},
            "source": [
                "### Plan A: Animal drug use adverse event"
            ]
        },
        {
            "cell_type": "code",
            "execution_count": 4,
            "metadata": {},
            "outputs": [
                {
                    "name": "stdout",
                    "output_type": "stream",
                    "text": [
                        "<class 'pandas.core.frame.DataFrame'>\n",
                        "Index: 74845 entries, 0 to 844\n",
                        "Data columns (total 10 columns):\n",
                        " #   Column                               Non-Null Count  Dtype \n",
                        "---  ------                               --------------  ----- \n",
                        " 0   treated_for_ae                       51922 non-null  object\n",
                        " 1   reaction                             74843 non-null  object\n",
                        " 2   time_between_exposure_and_onset      7237 non-null   object\n",
                        " 3   drug                                 74845 non-null  object\n",
                        " 4   health_assessment_prior_to_exposure  74845 non-null  object\n",
                        " 5   onset_date                           68531 non-null  object\n",
                        " 6   animal                               68776 non-null  object\n",
                        " 7   type_of_information                  74845 non-null  object\n",
                        " 8   serious_ae                           54204 non-null  object\n",
                        " 9   outcome                              56284 non-null  object\n",
                        "dtypes: object(10)\n",
                        "memory usage: 6.3+ MB\n"
                    ]
                }
            ],
            "source": [
                "# Your code here\n",
                "import pandas as pd\n",
                "import re\n",
                "import requests\n",
                "\n",
                "# Define the base URL and initial query parameters\n",
                "url = 'https://api.fda.gov/animalandveterinary/event.json?'\n",
                "search = 'search=drug.active_ingredients.name:\"Moxidectin\"&limit=1000'\n",
                "url = url + search\n",
                "\n",
                "results = []\n",
                "\n",
                "while True:\n",
                "    # Make the request to the API\n",
                "    a = requests.get(url)\n",
                "    data = a.json()\n",
                "    \n",
                "    # Convert the JSON response to a DataFrame and select specific columns\n",
                "    df = pd.DataFrame(data['results'])\n",
                "    df = df[['treated_for_ae', 'reaction', 'time_between_exposure_and_onset', 'drug', 'health_assessment_prior_to_exposure', 'onset_date', 'animal', 'type_of_information', 'serious_ae', 'outcome']]\n",
                "    results.append(df)\n",
                "    \n",
                "    # Try to get the next page URL from the 'Link' header\n",
                "    try:\n",
                "        link_header = a.headers.get('Link', '')\n",
                "        b = re.search(r'<(https[^>]+)>', link_header)\n",
                "        if b:\n",
                "            next_url = b.group(1)\n",
                "            url = next_url\n",
                "        else:\n",
                "            break\n",
                "    except Exception as e:\n",
                "        print(f\"An error occurred: {e}\")\n",
                "        break\n",
                "\n",
                "# Concatenate all DataFrames into one\n",
                "df_combined = pd.concat(results, axis=0)\n",
                "\n",
                "# Print information about the final DataFrame\n",
                "df_combined.info()"
            ]
        },
        {
            "cell_type": "code",
            "execution_count": 5,
            "metadata": {},
            "outputs": [
                {
                    "data": {
                        "text/html": [
                            "<div>\n",
                            "<style scoped>\n",
                            "    .dataframe tbody tr th:only-of-type {\n",
                            "        vertical-align: middle;\n",
                            "    }\n",
                            "\n",
                            "    .dataframe tbody tr th {\n",
                            "        vertical-align: top;\n",
                            "    }\n",
                            "\n",
                            "    .dataframe thead th {\n",
                            "        text-align: right;\n",
                            "    }\n",
                            "</style>\n",
                            "<table border=\"1\" class=\"dataframe\">\n",
                            "  <thead>\n",
                            "    <tr style=\"text-align: right;\">\n",
                            "      <th></th>\n",
                            "      <th>treated_for_ae</th>\n",
                            "      <th>reaction</th>\n",
                            "      <th>time_between_exposure_and_onset</th>\n",
                            "      <th>drug</th>\n",
                            "      <th>health_assessment_prior_to_exposure</th>\n",
                            "      <th>onset_date</th>\n",
                            "      <th>animal</th>\n",
                            "      <th>type_of_information</th>\n",
                            "      <th>serious_ae</th>\n",
                            "      <th>outcome</th>\n",
                            "    </tr>\n",
                            "  </thead>\n",
                            "  <tbody>\n",
                            "    <tr>\n",
                            "      <th>0</th>\n",
                            "      <td>true</td>\n",
                            "      <td>[{'veddra_version': '11', 'veddra_term_code': ...</td>\n",
                            "      <td>NaN</td>\n",
                            "      <td>[{'first_exposure_date': '20170324', 'last_exp...</td>\n",
                            "      <td>{'condition': 'Unknown', 'assessed_by': 'Veter...</td>\n",
                            "      <td>201704</td>\n",
                            "      <td>{'species': 'Dog', 'gender': 'Female', 'reprod...</td>\n",
                            "      <td>Safety Issue</td>\n",
                            "      <td>true</td>\n",
                            "      <td>[{'medical_status': 'Outcome Unknown', 'number...</td>\n",
                            "    </tr>\n",
                            "    <tr>\n",
                            "      <th>1</th>\n",
                            "      <td>true</td>\n",
                            "      <td>[{'veddra_version': '11', 'veddra_term_code': ...</td>\n",
                            "      <td>NaN</td>\n",
                            "      <td>[{'first_exposure_date': '20180226', 'last_exp...</td>\n",
                            "      <td>{'condition': 'Unknown', 'assessed_by': 'Veter...</td>\n",
                            "      <td>20180223</td>\n",
                            "      <td>{'species': 'Dog', 'gender': 'Male', 'reproduc...</td>\n",
                            "      <td>Safety Issue</td>\n",
                            "      <td>true</td>\n",
                            "      <td>[{'medical_status': 'Recovered/Normal', 'numbe...</td>\n",
                            "    </tr>\n",
                            "    <tr>\n",
                            "      <th>2</th>\n",
                            "      <td>false</td>\n",
                            "      <td>[{'veddra_version': '11', 'veddra_term_code': ...</td>\n",
                            "      <td>NaN</td>\n",
                            "      <td>[{'first_exposure_date': '201810', 'last_expos...</td>\n",
                            "      <td>{'condition': 'Unknown', 'assessed_by': 'Veter...</td>\n",
                            "      <td>20181005</td>\n",
                            "      <td>{'species': 'Dog', 'gender': 'Female', 'reprod...</td>\n",
                            "      <td>Safety Issue</td>\n",
                            "      <td>true</td>\n",
                            "      <td>[{'medical_status': 'Outcome Unknown', 'number...</td>\n",
                            "    </tr>\n",
                            "    <tr>\n",
                            "      <th>3</th>\n",
                            "      <td>true</td>\n",
                            "      <td>[{'veddra_version': '11', 'veddra_term_code': ...</td>\n",
                            "      <td>NaN</td>\n",
                            "      <td>[{'first_exposure_date': '20170701', 'last_exp...</td>\n",
                            "      <td>{'condition': 'Fair', 'assessed_by': 'Veterina...</td>\n",
                            "      <td>20190114</td>\n",
                            "      <td>{'species': 'Dog', 'gender': 'Female', 'reprod...</td>\n",
                            "      <td>Lack Of Expected Effectiveness</td>\n",
                            "      <td>true</td>\n",
                            "      <td>[{'medical_status': 'Ongoing', 'number_of_anim...</td>\n",
                            "    </tr>\n",
                            "    <tr>\n",
                            "      <th>4</th>\n",
                            "      <td>NaN</td>\n",
                            "      <td>[{'veddra_version': '11', 'veddra_term_code': ...</td>\n",
                            "      <td>NaN</td>\n",
                            "      <td>[{'lot_number': 'KP0D94L KP0D7H5', 'lot_expira...</td>\n",
                            "      <td>{'assessed_by': 'Veterinarian'}</td>\n",
                            "      <td>NaN</td>\n",
                            "      <td>NaN</td>\n",
                            "      <td>Manufacturing/Product Defect Manufacturing Def...</td>\n",
                            "      <td>NaN</td>\n",
                            "      <td>NaN</td>\n",
                            "    </tr>\n",
                            "  </tbody>\n",
                            "</table>\n",
                            "</div>"
                        ],
                        "text/plain": [
                            "  treated_for_ae                                           reaction  \\\n",
                            "0           true  [{'veddra_version': '11', 'veddra_term_code': ...   \n",
                            "1           true  [{'veddra_version': '11', 'veddra_term_code': ...   \n",
                            "2          false  [{'veddra_version': '11', 'veddra_term_code': ...   \n",
                            "3           true  [{'veddra_version': '11', 'veddra_term_code': ...   \n",
                            "4            NaN  [{'veddra_version': '11', 'veddra_term_code': ...   \n",
                            "\n",
                            "  time_between_exposure_and_onset  \\\n",
                            "0                             NaN   \n",
                            "1                             NaN   \n",
                            "2                             NaN   \n",
                            "3                             NaN   \n",
                            "4                             NaN   \n",
                            "\n",
                            "                                                drug  \\\n",
                            "0  [{'first_exposure_date': '20170324', 'last_exp...   \n",
                            "1  [{'first_exposure_date': '20180226', 'last_exp...   \n",
                            "2  [{'first_exposure_date': '201810', 'last_expos...   \n",
                            "3  [{'first_exposure_date': '20170701', 'last_exp...   \n",
                            "4  [{'lot_number': 'KP0D94L KP0D7H5', 'lot_expira...   \n",
                            "\n",
                            "                 health_assessment_prior_to_exposure onset_date  \\\n",
                            "0  {'condition': 'Unknown', 'assessed_by': 'Veter...     201704   \n",
                            "1  {'condition': 'Unknown', 'assessed_by': 'Veter...   20180223   \n",
                            "2  {'condition': 'Unknown', 'assessed_by': 'Veter...   20181005   \n",
                            "3  {'condition': 'Fair', 'assessed_by': 'Veterina...   20190114   \n",
                            "4                    {'assessed_by': 'Veterinarian'}        NaN   \n",
                            "\n",
                            "                                              animal  \\\n",
                            "0  {'species': 'Dog', 'gender': 'Female', 'reprod...   \n",
                            "1  {'species': 'Dog', 'gender': 'Male', 'reproduc...   \n",
                            "2  {'species': 'Dog', 'gender': 'Female', 'reprod...   \n",
                            "3  {'species': 'Dog', 'gender': 'Female', 'reprod...   \n",
                            "4                                                NaN   \n",
                            "\n",
                            "                                 type_of_information serious_ae  \\\n",
                            "0                                       Safety Issue       true   \n",
                            "1                                       Safety Issue       true   \n",
                            "2                                       Safety Issue       true   \n",
                            "3                     Lack Of Expected Effectiveness       true   \n",
                            "4  Manufacturing/Product Defect Manufacturing Def...        NaN   \n",
                            "\n",
                            "                                             outcome  \n",
                            "0  [{'medical_status': 'Outcome Unknown', 'number...  \n",
                            "1  [{'medical_status': 'Recovered/Normal', 'numbe...  \n",
                            "2  [{'medical_status': 'Outcome Unknown', 'number...  \n",
                            "3  [{'medical_status': 'Ongoing', 'number_of_anim...  \n",
                            "4                                                NaN  "
                        ]
                    },
                    "execution_count": 5,
                    "metadata": {},
                    "output_type": "execute_result"
                }
            ],
            "source": [
                "# Inspect the first five rows\n",
                "df.head()"
            ]
        },
        {
            "cell_type": "markdown",
            "metadata": {},
            "source": [
                "Because some of the fields are JSON objects, we want to further inspect them. \n",
                "\n",
                "We will want to parse these JSON objects in a way that is ingestible for our model. This will occur during EDA."
            ]
        },
        {
            "cell_type": "code",
            "execution_count": 6,
            "metadata": {},
            "outputs": [
                {
                    "data": {
                        "text/plain": [
                            "{'species': 'Dog',\n",
                            " 'gender': 'Female',\n",
                            " 'reproductive_status': 'Intact',\n",
                            " 'female_animal_physiological_status': 'Unknown',\n",
                            " 'age': {'min': '13.00', 'unit': 'Week', 'qualifier': 'Measured'},\n",
                            " 'weight': {'min': '8.528', 'unit': 'Kilogram', 'qualifier': 'Measured'},\n",
                            " 'breed': {'is_crossbred': 'true',\n",
                            "  'breed_component': ['Poodle - Standard', 'Retriever - Golden']}}"
                        ]
                    },
                    "execution_count": 6,
                    "metadata": {},
                    "output_type": "execute_result"
                }
            ],
            "source": [
                "row_index = 0\n",
                "column_label = 'animal'\n",
                "df.loc[row_index, column_label]"
            ]
        },
        {
            "cell_type": "markdown",
            "metadata": {},
            "source": [
                "<span style=\"color: red;\">**TODO: Identify the target variable.**</span>"
            ]
        },
        {
            "cell_type": "markdown",
            "metadata": {},
            "source": [
                "### Plan B: Biomedical Image Analysis"
            ]
        },
        {
            "cell_type": "code",
            "execution_count": 36,
            "metadata": {},
            "outputs": [
                {
                    "name": "stdout",
                    "output_type": "stream",
                    "text": [
                        "Defaulting to user installation because normal site-packages is not writeable\n",
                        "Requirement already satisfied: medmnist in /home/vscode/.local/lib/python3.10/site-packages (3.0.1)\n",
                        "Requirement already satisfied: fire in /home/vscode/.local/lib/python3.10/site-packages (from medmnist) (0.6.0)\n",
                        "Requirement already satisfied: Pillow in /home/vscode/.local/lib/python3.10/site-packages (from medmnist) (10.4.0)\n",
                        "Requirement already satisfied: torch in /home/vscode/.local/lib/python3.10/site-packages (from medmnist) (2.4.0)\n",
                        "Requirement already satisfied: pandas in /home/vscode/.local/lib/python3.10/site-packages (from medmnist) (2.2.2)\n",
                        "Requirement already satisfied: numpy in /home/vscode/.local/lib/python3.10/site-packages (from medmnist) (2.1.0)\n",
                        "Requirement already satisfied: scikit-image in /home/vscode/.local/lib/python3.10/site-packages (from medmnist) (0.24.0)\n",
                        "Requirement already satisfied: tqdm in /home/vscode/.local/lib/python3.10/site-packages (from medmnist) (4.66.5)\n",
                        "Requirement already satisfied: torchvision in /home/vscode/.local/lib/python3.10/site-packages (from medmnist) (0.19.0)\n",
                        "Requirement already satisfied: scikit-learn in /home/vscode/.local/lib/python3.10/site-packages (from medmnist) (1.5.1)\n",
                        "Requirement already satisfied: termcolor in /home/vscode/.local/lib/python3.10/site-packages (from fire->medmnist) (2.4.0)\n",
                        "Requirement already satisfied: six in /home/vscode/.local/lib/python3.10/site-packages (from fire->medmnist) (1.16.0)\n",
                        "Requirement already satisfied: pytz>=2020.1 in /home/vscode/.local/lib/python3.10/site-packages (from pandas->medmnist) (2024.1)\n",
                        "Requirement already satisfied: tzdata>=2022.7 in /home/vscode/.local/lib/python3.10/site-packages (from pandas->medmnist) (2024.1)\n",
                        "Requirement already satisfied: python-dateutil>=2.8.2 in /home/vscode/.local/lib/python3.10/site-packages (from pandas->medmnist) (2.9.0.post0)\n",
                        "Requirement already satisfied: tifffile>=2022.8.12 in /home/vscode/.local/lib/python3.10/site-packages (from scikit-image->medmnist) (2024.8.10)\n",
                        "Requirement already satisfied: imageio>=2.33 in /home/vscode/.local/lib/python3.10/site-packages (from scikit-image->medmnist) (2.35.1)\n",
                        "Requirement already satisfied: packaging>=21 in /home/vscode/.local/lib/python3.10/site-packages (from scikit-image->medmnist) (24.1)\n",
                        "Requirement already satisfied: lazy-loader>=0.4 in /home/vscode/.local/lib/python3.10/site-packages (from scikit-image->medmnist) (0.4)\n",
                        "Requirement already satisfied: networkx>=2.8 in /home/vscode/.local/lib/python3.10/site-packages (from scikit-image->medmnist) (3.3)\n",
                        "Requirement already satisfied: scipy>=1.9 in /home/vscode/.local/lib/python3.10/site-packages (from scikit-image->medmnist) (1.14.0)\n",
                        "Requirement already satisfied: threadpoolctl>=3.1.0 in /home/vscode/.local/lib/python3.10/site-packages (from scikit-learn->medmnist) (3.5.0)\n",
                        "Requirement already satisfied: joblib>=1.2.0 in /home/vscode/.local/lib/python3.10/site-packages (from scikit-learn->medmnist) (1.4.2)\n",
                        "Requirement already satisfied: nvidia-cuda-runtime-cu12==12.1.105 in /home/vscode/.local/lib/python3.10/site-packages (from torch->medmnist) (12.1.105)\n",
                        "Requirement already satisfied: nvidia-nvtx-cu12==12.1.105 in /home/vscode/.local/lib/python3.10/site-packages (from torch->medmnist) (12.1.105)\n",
                        "Requirement already satisfied: sympy in /home/vscode/.local/lib/python3.10/site-packages (from torch->medmnist) (1.13.2)\n",
                        "Requirement already satisfied: typing-extensions>=4.8.0 in /home/vscode/.local/lib/python3.10/site-packages (from torch->medmnist) (4.12.2)\n",
                        "Requirement already satisfied: nvidia-cuda-cupti-cu12==12.1.105 in /home/vscode/.local/lib/python3.10/site-packages (from torch->medmnist) (12.1.105)\n",
                        "Requirement already satisfied: nvidia-cudnn-cu12==9.1.0.70 in /home/vscode/.local/lib/python3.10/site-packages (from torch->medmnist) (9.1.0.70)\n",
                        "Requirement already satisfied: triton==3.0.0 in /home/vscode/.local/lib/python3.10/site-packages (from torch->medmnist) (3.0.0)\n",
                        "Requirement already satisfied: nvidia-cusolver-cu12==11.4.5.107 in /home/vscode/.local/lib/python3.10/site-packages (from torch->medmnist) (11.4.5.107)\n",
                        "Requirement already satisfied: nvidia-cublas-cu12==12.1.3.1 in /home/vscode/.local/lib/python3.10/site-packages (from torch->medmnist) (12.1.3.1)\n",
                        "Requirement already satisfied: nvidia-curand-cu12==10.3.2.106 in /home/vscode/.local/lib/python3.10/site-packages (from torch->medmnist) (10.3.2.106)\n",
                        "Requirement already satisfied: jinja2 in /home/vscode/.local/lib/python3.10/site-packages (from torch->medmnist) (3.1.4)\n",
                        "Requirement already satisfied: fsspec in /home/vscode/.local/lib/python3.10/site-packages (from torch->medmnist) (2024.6.1)\n",
                        "Requirement already satisfied: nvidia-cusparse-cu12==12.1.0.106 in /home/vscode/.local/lib/python3.10/site-packages (from torch->medmnist) (12.1.0.106)\n",
                        "Requirement already satisfied: nvidia-cuda-nvrtc-cu12==12.1.105 in /home/vscode/.local/lib/python3.10/site-packages (from torch->medmnist) (12.1.105)\n",
                        "Requirement already satisfied: filelock in /home/vscode/.local/lib/python3.10/site-packages (from torch->medmnist) (3.15.4)\n",
                        "Requirement already satisfied: nvidia-nccl-cu12==2.20.5 in /home/vscode/.local/lib/python3.10/site-packages (from torch->medmnist) (2.20.5)\n",
                        "Requirement already satisfied: nvidia-cufft-cu12==11.0.2.54 in /home/vscode/.local/lib/python3.10/site-packages (from torch->medmnist) (11.0.2.54)\n",
                        "Requirement already satisfied: nvidia-nvjitlink-cu12 in /home/vscode/.local/lib/python3.10/site-packages (from nvidia-cusolver-cu12==11.4.5.107->torch->medmnist) (12.6.20)\n",
                        "Requirement already satisfied: MarkupSafe>=2.0 in /home/vscode/.local/lib/python3.10/site-packages (from jinja2->torch->medmnist) (2.1.5)\n",
                        "Requirement already satisfied: mpmath<1.4,>=1.1.0 in /home/vscode/.local/lib/python3.10/site-packages (from sympy->torch->medmnist) (1.3.0)\n",
                        "\n",
                        "\u001b[1m[\u001b[0m\u001b[34;49mnotice\u001b[0m\u001b[1;39;49m]\u001b[0m\u001b[39;49m A new release of pip is available: \u001b[0m\u001b[31;49m23.0.1\u001b[0m\u001b[39;49m -> \u001b[0m\u001b[32;49m24.2\u001b[0m\n",
                        "\u001b[1m[\u001b[0m\u001b[34;49mnotice\u001b[0m\u001b[1;39;49m]\u001b[0m\u001b[39;49m To update, run: \u001b[0m\u001b[32;49mpip install --upgrade pip\u001b[0m\n"
                    ]
                }
            ],
            "source": [
                "!pip install medmnist"
            ]
        },
        {
            "cell_type": "code",
            "execution_count": 15,
            "metadata": {},
            "outputs": [
                {
                    "name": "stdout",
                    "output_type": "stream",
                    "text": [
                        "Using downloaded and verified file: /home/vscode/.medmnist/pathmnist.npz\n",
                        "Using downloaded and verified file: /home/vscode/.medmnist/pathmnist.npz\n",
                        "Train dataset size: 89996\n",
                        "Test dataset size: 7180\n"
                    ]
                },
                {
                    "name": "stderr",
                    "output_type": "stream",
                    "text": [
                        "100%|██████████| 89996/89996 [00:02<00:00, 34406.04it/s]\n",
                        "100%|██████████| 7180/7180 [00:00<00:00, 36719.42it/s]\n"
                    ]
                }
            ],
            "source": [
                "# Your code here\n",
                "import medmnist\n",
                "from medmnist import PathMNIST\n",
                "from medmnist import INFO\n",
                "import numpy as np\n",
                "from tqdm import tqdm\n",
                "import pandas as pd\n",
                "\n",
                "# Download the dataset\n",
                "data_flag = 'pathmnist'\n",
                "download = True\n",
                "info = INFO[data_flag]\n",
                "DataClass = getattr(medmnist, info['python_class'])\n",
                "\n",
                "# Load training and testing datasets\n",
                "train_dataset = DataClass(split='train', download=download)\n",
                "test_dataset = DataClass(split='test', download=download)\n",
                "\n",
                "# Inspect the dataset\n",
                "print(\"Train dataset size:\", len(train_dataset))\n",
                "print(\"Test dataset size:\", len(test_dataset))\n",
                "\n",
                "# Example of loading the dataset into a DataLoader\n",
                "train_loader = [(np.array(img), label) for img, label in tqdm(train_dataset)]\n",
                "test_loader = [(np.array(img), label) for img, label in tqdm(test_dataset)]"
            ]
        },
        {
            "cell_type": "markdown",
            "metadata": {},
            "source": [
                "Inspect one of the images and its associated label,"
            ]
        },
        {
            "cell_type": "code",
            "execution_count": 22,
            "metadata": {},
            "outputs": [
                {
                    "data": {
                        "image/png": "[encoded data removed]",
                        "text/plain": [
                            "<Figure size 640x480 with 1 Axes>"
                        ]
                    },
                    "metadata": {},
                    "output_type": "display_data"
                }
            ],
            "source": [
                "import matplotlib.pyplot as plt\n",
                "\n",
                "# Select an index to view\n",
                "index = 4  # Change this to view a different image\n",
                "\n",
                "# From the train_dataset\n",
                "# image, label = train_dataset[index]\n",
                "\n",
                "# Or from the train_loader\n",
                "image, label = train_loader[index]\n",
                "\n",
                "# Convert image to numpy array if needed\n",
                "image = np.array(image)\n",
                "\n",
                "# Display the image\n",
                "plt.imshow(image, cmap='gray')  # Use 'gray' for grayscale images\n",
                "plt.title(f'Label: {label}')\n",
                "plt.axis('off')\n",
                "plt.show()"
            ]
        },
        {
            "cell_type": "markdown",
            "metadata": {},
            "source": [
                "Inspect 9 random images with their associated label,"
            ]
        },
        {
            "cell_type": "code",
            "execution_count": 23,
            "metadata": {},
            "outputs": [
                {
                    "data": {
                        "image/png": "[encoded data removed]",
                        "text/plain": [
                            "<Figure size 800x800 with 9 Axes>"
                        ]
                    },
                    "metadata": {},
                    "output_type": "display_data"
                }
            ],
            "source": [
                "import random\n",
                "\n",
                "# Select 9 random indices\n",
                "random_indices = random.sample(range(len(train_dataset)), 9)\n",
                "\n",
                "# Create a 3x3 subplot\n",
                "fig, axes = plt.subplots(3, 3, figsize=(8, 8))\n",
                "\n",
                "# Loop over the 9 random indices and display each image\n",
                "for i, ax in enumerate(axes.flat):\n",
                "    image, label = train_dataset[random_indices[i]]\n",
                "    \n",
                "    # Convert image to numpy array if needed\n",
                "    image = np.array(image)\n",
                "    \n",
                "    # Display the image\n",
                "    ax.imshow(image, cmap='gray')\n",
                "    ax.set_title(f'Label: {label}')\n",
                "    ax.axis('off')\n",
                "\n",
                "# Adjust layout\n",
                "plt.tight_layout()\n",
                "plt.show()"
            ]
        },
        {
            "cell_type": "markdown",
            "metadata": {},
            "source": [
                "<span style=\"color: red;\">**TODO: What do the labels represent?**</span>"
            ]
        },
        {
            "cell_type": "code",
            "execution_count": 36,
            "metadata": {},
            "outputs": [
                {
                    "name": "stdout",
                    "output_type": "stream",
                    "text": [
                        "Unique labels: [0, 1, 2, 3, 4, 5, 6, 7, 8]\n"
                    ]
                }
            ],
            "source": [
                "# Extract all labels from the train_dataset\n",
                "labels = [label.item() for _, label in train_dataset]\n",
                "\n",
                "# Get unique labels\n",
                "unique_labels = list(set(labels))\n",
                "\n",
                "# Print unique labels\n",
                "print(\"Unique labels:\", unique_labels)"
            ]
        },
        {
            "cell_type": "markdown",
            "metadata": {},
            "source": [
                "### Plan C: Website Fact Checker"
            ]
        },
        {
            "cell_type": "code",
            "execution_count": null,
            "metadata": {},
            "outputs": [],
            "source": [
                "# Your code here"
            ]
        },
        {
            "cell_type": "markdown",
            "metadata": {},
            "source": [
                "## Step 1: Problem definition\n",
                "\n",
                "### Instructions\n",
                "\n",
                "1. **Select a Project Plan:**\n",
                "\n",
                "    - Review the dataset options from Plan A, Plan B, and Plan C.\n",
                "\n",
                "    - Choose one of the plans to move forward with based on your dataset inspection and interest.\n",
                "\n",
                "2. **Write a Project Description:**\n",
                "\n",
                "    - Clearly define the problem or question you intend to address with your selected dataset.\n",
                "\n",
                "    - Consider how your chosen dataset can help solve this problem or answer the question.\n",
                "\n",
                "    - Write a one-sentence description that clearly states the objective of your project. This should include what you aim to achieve or understand with the dataset.\n",
                "\n",
                "3. **Name the Project:**\n",
                "\n",
                "    - Create a name for your project that reflects the focus of your work."
            ]
        },
        {
            "cell_type": "markdown",
            "metadata": {},
            "source": [
                "### 1. Select a Project Plan\n",
                "<span style=\"color: red;\">**TODO: Write your content here.**</span>"
            ]
        },
        {
            "cell_type": "markdown",
            "metadata": {},
            "source": [
                "### 2. Write a Project Description\n",
                "<span style=\"color: red;\">**TODO: Write your content here.**</span>"
            ]
        },
        {
            "cell_type": "markdown",
            "metadata": {},
            "source": [
                "Problem Definition:\n",
                "The project aims to develop a machine learning model capable of accurately predicting the content of histology slides related to colon cancer. This involves analyzing images of colon cancer tissue to identify specific features and patterns that can indicate the presence and type of cancerous cells. The dataset comprises 100,000 non-overlapping image patches, each representing one of nine classes: adipose tissue (ADI), background (BACK), debris (DEB), lymphocyte (LYM), mucus (MUC), smooth muscle (MUS), normal colon mucosa (NORM), cancer-associated stroma (STR), and CRC Epithelium (TUM). Accurately classifying these image patches is crucial for aiding in the diagnosis and treatment planning of colon cancer.\n",
                "\n",
                "Dataset Utilization:\n",
                "The chosen dataset from MedMNIST.com provides a collection of labeled histology images specific to colon cancer. By training the model on this dataset, we aim to create a tool that can assist pathologists in diagnosing colon cancer more effectively.\n",
                "\n",
                "Objective:\n",
                "The objective of this project is to use deep learning techniques to classify and predict the contents of colon cancer histology slides, ultimately aiding in the early and accurate detection of colon cancer."
            ]
        },
        {
            "cell_type": "markdown",
            "metadata": {},
            "source": [
                "### 3. Name the Project\n",
                "<span style=\"color: red;\">**TODO: Write your content here.**</span>"
            ]
        },
        {
            "cell_type": "markdown",
            "metadata": {},
            "source": [
                "## Step 2: Acquiring and loading the data set\n",
                "\n",
                "### Instructions\n",
                "\n",
                "1. **Acquiring the Dataset:** Describe how you have acquired the dataset for your project. Depending on the method you used:\n",
                "\n",
                "    1. **Web Scraping:**\n",
                "\n",
                "        - If you used web scraping, provide details about the website or web page from which you extracted data.\n",
                "\n",
                "        - Include information on the tools or libraries you used for scraping (e.g., BeautifulSoup, Scrapy).\n",
                "\n",
                "        - Mention any challenges faced during the scraping process and how you addressed them.\n",
                "\n",
                "    2. **SQL Database:**\n",
                "\n",
                "        - If you obtained data from a public database using SQL, specify the database you accessed.\n",
                "\n",
                "        - Describe the SQL queries you used to extract the data.\n",
                "\n",
                "        - Include any relevant details about the database schema and how you navigated it.\n",
                "\n",
                "    3. **Public API:**\n",
                "\n",
                "        - If you accessed data through a public API, provide details about the API.\n",
                "\n",
                "        - Describe the API endpoints you used and any parameters or filters applied to your requests.\n",
                "\n",
                "        - Mention the format of the data returned by the API and how you processed it.\n",
                "\n",
                "2. **Loading the Dataset:**\n",
                "\n",
                "    - Detail the steps you followed to load the dataset into your working environment.\n",
                "\n",
                "    - Describe the tools or libraries used for loading the data (e.g., `Pandas` for CSV files, `SQLAlchemy` for SQL databases, `requests` or an API client library for APIs).\n",
                "\n",
                "    - Include any data cleaning or preprocessing steps you performed to prepare the data for analysis.\n",
                "\n",
                "3. **Document Your Process:**\n",
                "\n",
                "    - Provide a brief summary of your data acquisition and loading process, highlighting any key steps or decisions.\n",
                "\n",
                "    - Include any challenges or issues encountered and how you resolved them."
            ]
        },
        {
            "cell_type": "markdown",
            "metadata": {},
            "source": [
                "\n",
                "<span style=\"color: red;\">**TODO: Write your content here.**</span>"
            ]
        },
        {
            "cell_type": "markdown",
            "metadata": {},
            "source": [
                "## Step 3: Store the information\n",
                "\n",
                "### Instructions\n",
                "\n",
                "1. **Choose a Database:**\n",
                "\n",
                "    - Select a database that is most compatible with your dataset. Consider factors such as the size of the data, the complexity of the queries you plan to perform, and the features offered by the database.\n",
                "\n",
                "    - The databases we have studied include SQLite, PostgreSQL, MySQL, etc.\n",
                "\n",
                "2. **Store the Data:**\n",
                "\n",
                "    - Import the dataset into the chosen database. This may involve creating tables and defining schemas that match the structure of your data.\n",
                "\n",
                "    - Ensure that the database is properly set up to handle the data efficiently. Consider indexing or other optimizations if necessary.\n",
                "\n",
                "3. **Perform Queries:**\n",
                "\n",
                "    - Write and execute SQL queries to interact with your stored data. Use the following types of queries:\n",
                "\n",
                "        - `SELECT`: Retrieve specific data from your tables. For example, you can select columns or rows that meet certain criteria.\n",
                "\n",
                "        - `JOIN`: Combine data from multiple tables based on related columns to perform more complex queries.\n",
                "\n",
                "        - `INSERT`: Add new data to your tables if necessary.\n",
                "\n",
                "        - Include any other relevant SQL operations that are useful for your analysis.\n",
                "    \n",
                "    - Alternatively, use Python wrappers for SQL (e.g., `SQLAlchemy`, `pandas`) if applicable. These wrappers can help you perform SQL operations more easily within a Python environment.\n",
                "\n",
                "4. **Document Your Process:**\n",
                "\n",
                "    - Provide a summary of how you stored your data in the database, including the database used and the structure of the tables.\n",
                "\n",
                "    - Include examples of the SQL queries you wrote and explain how they help in starting the analysis.\n",
                "\n",
                "    - Discuss any challenges faced during the data storage and querying process and how you addressed them."
            ]
        }
    ],
    "metadata": {
        "kernelspec": {
            "display_name": "Python 3.8.13 64-bit ('3.8.13')",
            "language": "python",
            "name": "python3"
        },
        "language_info": {
            "codemirror_mode": {
                "name": "ipython",
                "version": 3
            },
            "file_extension": ".py",
            "mimetype": "text/x-python",
            "name": "python",
            "nbconvert_exporter": "python",
            "pygments_lexer": "ipython3",
            "version": "3.10.12"
        },
        "orig_nbformat": 4,
        "vscode": {
            "interpreter": {
                "hash": "110cc1dee26208153f2972f08a2ad52b6a56238dc66d48e87fb757ef2996db56"
            }
        }
    },
    "nbformat": 4,
    "nbformat_minor": 2
}
